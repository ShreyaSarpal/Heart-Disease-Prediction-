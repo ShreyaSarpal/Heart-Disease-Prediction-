{
 "cells": [
  {
   "cell_type": "markdown",
   "id": "79422852",
   "metadata": {},
   "source": [
    "### Importing  Libraries"
   ]
  },
  {
   "cell_type": "code",
   "execution_count": 2,
   "id": "0e2d5235",
   "metadata": {},
   "outputs": [],
   "source": [
    "import pandas as pd\n",
    "import numpy as np\n",
    "import scipy.stats as stats\n",
    "import matplotlib.pyplot as plt \n",
    "import seaborn as sns\n",
    "\n",
    "import warnings\n",
    "warnings.filterwarnings('ignore')\n",
    "\n",
    "# KFold Cross Validation\n",
    "from sklearn.model_selection import KFold,train_test_split\n",
    "\n",
    "# ML LIBRARIES\n",
    "from sklearn.tree import DecisionTreeRegressor\n",
    "from sklearn.linear_model import LinearRegression,Ridge,Lasso,ElasticNet,SGDRegressor\n",
    "\n",
    "#STATMODELS\n",
    "from statsmodels.api import OLS,add_constant\n",
    "\n",
    "# Grid Search\n",
    "from sklearn.model_selection import GridSearchCV\n",
    "\n",
    "import warnings\n",
    "warnings.filterwarnings('ignore')\n",
    "\n"
   ]
  },
  {
   "cell_type": "code",
   "execution_count": 7,
   "id": "5d3373c7",
   "metadata": {},
   "outputs": [
    {
     "data": {
      "text/html": [
       "<div>\n",
       "<style scoped>\n",
       "    .dataframe tbody tr th:only-of-type {\n",
       "        vertical-align: middle;\n",
       "    }\n",
       "\n",
       "    .dataframe tbody tr th {\n",
       "        vertical-align: top;\n",
       "    }\n",
       "\n",
       "    .dataframe thead th {\n",
       "        text-align: right;\n",
       "    }\n",
       "</style>\n",
       "<table border=\"1\" class=\"dataframe\">\n",
       "  <thead>\n",
       "    <tr style=\"text-align: right;\">\n",
       "      <th></th>\n",
       "      <th>HeartDisease</th>\n",
       "      <th>BMI</th>\n",
       "      <th>Smoking</th>\n",
       "      <th>AlcoholDrinking</th>\n",
       "      <th>Stroke</th>\n",
       "      <th>PhysicalHealth</th>\n",
       "      <th>MentalHealth</th>\n",
       "      <th>DiffWalking</th>\n",
       "      <th>Sex</th>\n",
       "      <th>AgeCategory</th>\n",
       "      <th>Race</th>\n",
       "      <th>Diabetic</th>\n",
       "      <th>PhysicalActivity</th>\n",
       "      <th>GenHealth</th>\n",
       "      <th>SleepTime</th>\n",
       "      <th>Asthma</th>\n",
       "      <th>KidneyDisease</th>\n",
       "      <th>SkinCancer</th>\n",
       "      <th>ff</th>\n",
       "    </tr>\n",
       "  </thead>\n",
       "  <tbody>\n",
       "    <tr>\n",
       "      <th>0</th>\n",
       "      <td>No</td>\n",
       "      <td>16.60</td>\n",
       "      <td>Yes</td>\n",
       "      <td>No</td>\n",
       "      <td>No</td>\n",
       "      <td>3</td>\n",
       "      <td>30</td>\n",
       "      <td>No</td>\n",
       "      <td>Female</td>\n",
       "      <td>55-59</td>\n",
       "      <td>White</td>\n",
       "      <td>Yes</td>\n",
       "      <td>Yes</td>\n",
       "      <td>Very good</td>\n",
       "      <td>5</td>\n",
       "      <td>Yes</td>\n",
       "      <td>No</td>\n",
       "      <td>Yes</td>\n",
       "      <td>NaN</td>\n",
       "    </tr>\n",
       "    <tr>\n",
       "      <th>1</th>\n",
       "      <td>No</td>\n",
       "      <td>20.34</td>\n",
       "      <td>No</td>\n",
       "      <td>No</td>\n",
       "      <td>Yes</td>\n",
       "      <td>0</td>\n",
       "      <td>0</td>\n",
       "      <td>No</td>\n",
       "      <td>Female</td>\n",
       "      <td>80 or older</td>\n",
       "      <td>White</td>\n",
       "      <td>No</td>\n",
       "      <td>Yes</td>\n",
       "      <td>Very good</td>\n",
       "      <td>7</td>\n",
       "      <td>No</td>\n",
       "      <td>No</td>\n",
       "      <td>No</td>\n",
       "      <td>NaN</td>\n",
       "    </tr>\n",
       "    <tr>\n",
       "      <th>2</th>\n",
       "      <td>No</td>\n",
       "      <td>26.58</td>\n",
       "      <td>Yes</td>\n",
       "      <td>No</td>\n",
       "      <td>No</td>\n",
       "      <td>20</td>\n",
       "      <td>30</td>\n",
       "      <td>No</td>\n",
       "      <td>Male</td>\n",
       "      <td>65-69</td>\n",
       "      <td>White</td>\n",
       "      <td>Yes</td>\n",
       "      <td>Yes</td>\n",
       "      <td>Fair</td>\n",
       "      <td>8</td>\n",
       "      <td>Yes</td>\n",
       "      <td>No</td>\n",
       "      <td>No</td>\n",
       "      <td>NaN</td>\n",
       "    </tr>\n",
       "    <tr>\n",
       "      <th>3</th>\n",
       "      <td>No</td>\n",
       "      <td>24.21</td>\n",
       "      <td>No</td>\n",
       "      <td>No</td>\n",
       "      <td>No</td>\n",
       "      <td>0</td>\n",
       "      <td>0</td>\n",
       "      <td>No</td>\n",
       "      <td>Female</td>\n",
       "      <td>75-79</td>\n",
       "      <td>White</td>\n",
       "      <td>No</td>\n",
       "      <td>No</td>\n",
       "      <td>Good</td>\n",
       "      <td>6</td>\n",
       "      <td>No</td>\n",
       "      <td>No</td>\n",
       "      <td>Yes</td>\n",
       "      <td>NaN</td>\n",
       "    </tr>\n",
       "    <tr>\n",
       "      <th>4</th>\n",
       "      <td>No</td>\n",
       "      <td>23.71</td>\n",
       "      <td>No</td>\n",
       "      <td>No</td>\n",
       "      <td>No</td>\n",
       "      <td>28</td>\n",
       "      <td>0</td>\n",
       "      <td>Yes</td>\n",
       "      <td>Female</td>\n",
       "      <td>40-44</td>\n",
       "      <td>White</td>\n",
       "      <td>No</td>\n",
       "      <td>Yes</td>\n",
       "      <td>Very good</td>\n",
       "      <td>8</td>\n",
       "      <td>No</td>\n",
       "      <td>No</td>\n",
       "      <td>No</td>\n",
       "      <td>NaN</td>\n",
       "    </tr>\n",
       "  </tbody>\n",
       "</table>\n",
       "</div>"
      ],
      "text/plain": [
       "  HeartDisease    BMI Smoking AlcoholDrinking Stroke  PhysicalHealth  \\\n",
       "0           No  16.60     Yes              No     No               3   \n",
       "1           No  20.34      No              No    Yes               0   \n",
       "2           No  26.58     Yes              No     No              20   \n",
       "3           No  24.21      No              No     No               0   \n",
       "4           No  23.71      No              No     No              28   \n",
       "\n",
       "   MentalHealth DiffWalking     Sex  AgeCategory   Race Diabetic  \\\n",
       "0            30          No  Female        55-59  White      Yes   \n",
       "1             0          No  Female  80 or older  White       No   \n",
       "2            30          No    Male        65-69  White      Yes   \n",
       "3             0          No  Female        75-79  White       No   \n",
       "4             0         Yes  Female        40-44  White       No   \n",
       "\n",
       "  PhysicalActivity  GenHealth  SleepTime Asthma KidneyDisease SkinCancer  ff  \n",
       "0              Yes  Very good          5    Yes            No        Yes NaN  \n",
       "1              Yes  Very good          7     No            No         No NaN  \n",
       "2              Yes       Fair          8    Yes            No         No NaN  \n",
       "3               No       Good          6     No            No        Yes NaN  \n",
       "4              Yes  Very good          8     No            No         No NaN  "
      ]
     },
     "execution_count": 7,
     "metadata": {},
     "output_type": "execute_result"
    }
   ],
   "source": [
    "heart=pd.read_csv('~/downloads/Copy of heart_disease 11.csv')\n",
    "heart.head()"
   ]
  },
  {
   "cell_type": "code",
   "execution_count": 5,
   "id": "6f3714bc",
   "metadata": {},
   "outputs": [
    {
     "data": {
      "text/plain": [
       "(319795, 19)"
      ]
     },
     "execution_count": 5,
     "metadata": {},
     "output_type": "execute_result"
    }
   ],
   "source": [
    "heart.shape"
   ]
  },
  {
   "cell_type": "markdown",
   "id": "8e3d30b5",
   "metadata": {},
   "source": [
    "There are 319795 rows and 19 coloumns."
   ]
  },
  {
   "cell_type": "code",
   "execution_count": 6,
   "id": "9ef45af5",
   "metadata": {},
   "outputs": [
    {
     "name": "stdout",
     "output_type": "stream",
     "text": [
      "<class 'pandas.core.frame.DataFrame'>\n",
      "RangeIndex: 319795 entries, 0 to 319794\n",
      "Data columns (total 19 columns):\n",
      " #   Column            Non-Null Count   Dtype  \n",
      "---  ------            --------------   -----  \n",
      " 0   HeartDisease      319795 non-null  object \n",
      " 1   BMI               319795 non-null  float64\n",
      " 2   Smoking           319795 non-null  object \n",
      " 3   AlcoholDrinking   319795 non-null  object \n",
      " 4   Stroke            319795 non-null  object \n",
      " 5   PhysicalHealth    319795 non-null  int64  \n",
      " 6   MentalHealth      319795 non-null  int64  \n",
      " 7   DiffWalking       319795 non-null  object \n",
      " 8   Sex               319795 non-null  object \n",
      " 9   AgeCategory       319795 non-null  object \n",
      " 10  Race              319795 non-null  object \n",
      " 11  Diabetic          319795 non-null  object \n",
      " 12  PhysicalActivity  319795 non-null  object \n",
      " 13  GenHealth         319795 non-null  object \n",
      " 14  SleepTime         319795 non-null  int64  \n",
      " 15  Asthma            319795 non-null  object \n",
      " 16  KidneyDisease     319795 non-null  object \n",
      " 17  SkinCancer        319795 non-null  object \n",
      " 18  ff                0 non-null       float64\n",
      "dtypes: float64(2), int64(3), object(14)\n",
      "memory usage: 46.4+ MB\n"
     ]
    }
   ],
   "source": [
    "heart.info()"
   ]
  },
  {
   "cell_type": "code",
   "execution_count": 7,
   "id": "28b7c820",
   "metadata": {},
   "outputs": [
    {
     "data": {
      "text/html": [
       "<div>\n",
       "<style scoped>\n",
       "    .dataframe tbody tr th:only-of-type {\n",
       "        vertical-align: middle;\n",
       "    }\n",
       "\n",
       "    .dataframe tbody tr th {\n",
       "        vertical-align: top;\n",
       "    }\n",
       "\n",
       "    .dataframe thead th {\n",
       "        text-align: right;\n",
       "    }\n",
       "</style>\n",
       "<table border=\"1\" class=\"dataframe\">\n",
       "  <thead>\n",
       "    <tr style=\"text-align: right;\">\n",
       "      <th></th>\n",
       "      <th>BMI</th>\n",
       "      <th>PhysicalHealth</th>\n",
       "      <th>MentalHealth</th>\n",
       "      <th>SleepTime</th>\n",
       "      <th>ff</th>\n",
       "    </tr>\n",
       "  </thead>\n",
       "  <tbody>\n",
       "    <tr>\n",
       "      <th>count</th>\n",
       "      <td>319795.000000</td>\n",
       "      <td>319795.00000</td>\n",
       "      <td>319795.000000</td>\n",
       "      <td>319795.000000</td>\n",
       "      <td>0.0</td>\n",
       "    </tr>\n",
       "    <tr>\n",
       "      <th>mean</th>\n",
       "      <td>28.325399</td>\n",
       "      <td>3.37171</td>\n",
       "      <td>3.898366</td>\n",
       "      <td>7.097075</td>\n",
       "      <td>NaN</td>\n",
       "    </tr>\n",
       "    <tr>\n",
       "      <th>std</th>\n",
       "      <td>6.356100</td>\n",
       "      <td>7.95085</td>\n",
       "      <td>7.955235</td>\n",
       "      <td>1.436007</td>\n",
       "      <td>NaN</td>\n",
       "    </tr>\n",
       "    <tr>\n",
       "      <th>min</th>\n",
       "      <td>12.020000</td>\n",
       "      <td>0.00000</td>\n",
       "      <td>0.000000</td>\n",
       "      <td>1.000000</td>\n",
       "      <td>NaN</td>\n",
       "    </tr>\n",
       "    <tr>\n",
       "      <th>25%</th>\n",
       "      <td>24.030000</td>\n",
       "      <td>0.00000</td>\n",
       "      <td>0.000000</td>\n",
       "      <td>6.000000</td>\n",
       "      <td>NaN</td>\n",
       "    </tr>\n",
       "    <tr>\n",
       "      <th>50%</th>\n",
       "      <td>27.340000</td>\n",
       "      <td>0.00000</td>\n",
       "      <td>0.000000</td>\n",
       "      <td>7.000000</td>\n",
       "      <td>NaN</td>\n",
       "    </tr>\n",
       "    <tr>\n",
       "      <th>75%</th>\n",
       "      <td>31.420000</td>\n",
       "      <td>2.00000</td>\n",
       "      <td>3.000000</td>\n",
       "      <td>8.000000</td>\n",
       "      <td>NaN</td>\n",
       "    </tr>\n",
       "    <tr>\n",
       "      <th>max</th>\n",
       "      <td>94.850000</td>\n",
       "      <td>30.00000</td>\n",
       "      <td>30.000000</td>\n",
       "      <td>24.000000</td>\n",
       "      <td>NaN</td>\n",
       "    </tr>\n",
       "  </tbody>\n",
       "</table>\n",
       "</div>"
      ],
      "text/plain": [
       "                 BMI  PhysicalHealth   MentalHealth      SleepTime   ff\n",
       "count  319795.000000    319795.00000  319795.000000  319795.000000  0.0\n",
       "mean       28.325399         3.37171       3.898366       7.097075  NaN\n",
       "std         6.356100         7.95085       7.955235       1.436007  NaN\n",
       "min        12.020000         0.00000       0.000000       1.000000  NaN\n",
       "25%        24.030000         0.00000       0.000000       6.000000  NaN\n",
       "50%        27.340000         0.00000       0.000000       7.000000  NaN\n",
       "75%        31.420000         2.00000       3.000000       8.000000  NaN\n",
       "max        94.850000        30.00000      30.000000      24.000000  NaN"
      ]
     },
     "execution_count": 7,
     "metadata": {},
     "output_type": "execute_result"
    }
   ],
   "source": [
    "heart.describe()"
   ]
  },
  {
   "cell_type": "markdown",
   "id": "6eb7e110",
   "metadata": {},
   "source": [
    "Here, we are getting the 5 point summary of our data."
   ]
  },
  {
   "cell_type": "code",
   "execution_count": 8,
   "id": "607ddbba",
   "metadata": {},
   "outputs": [
    {
     "data": {
      "text/plain": [
       "HeartDisease             0\n",
       "BMI                      0\n",
       "Smoking                  0\n",
       "AlcoholDrinking          0\n",
       "Stroke                   0\n",
       "PhysicalHealth           0\n",
       "MentalHealth             0\n",
       "DiffWalking              0\n",
       "Sex                      0\n",
       "AgeCategory              0\n",
       "Race                     0\n",
       "Diabetic                 0\n",
       "PhysicalActivity         0\n",
       "GenHealth                0\n",
       "SleepTime                0\n",
       "Asthma                   0\n",
       "KidneyDisease            0\n",
       "SkinCancer               0\n",
       "ff                  319795\n",
       "dtype: int64"
      ]
     },
     "execution_count": 8,
     "metadata": {},
     "output_type": "execute_result"
    }
   ],
   "source": [
    "heart.isnull().sum()"
   ]
  },
  {
   "cell_type": "markdown",
   "id": "1f5d5e74",
   "metadata": {},
   "source": [
    "Here we see that there are no null values in the data."
   ]
  },
  {
   "cell_type": "code",
   "execution_count": 9,
   "id": "db102e6a",
   "metadata": {},
   "outputs": [
    {
     "data": {
      "text/plain": [
       "False    94.347004\n",
       "True      5.652996\n",
       "dtype: float64"
      ]
     },
     "execution_count": 9,
     "metadata": {},
     "output_type": "execute_result"
    }
   ],
   "source": [
    "heart.duplicated().value_counts()/len(heart)*100"
   ]
  },
  {
   "cell_type": "markdown",
   "id": "2bc91b04",
   "metadata": {},
   "source": [
    "* There are 5.65% duplicate values in this data. Since we are dealing healthcare data these will not be treated as there is  chance that people may have similar symtoms."
   ]
  },
  {
   "cell_type": "code",
   "execution_count": 10,
   "id": "acfcbeae",
   "metadata": {},
   "outputs": [],
   "source": [
    "heart.rename({'DiffWalking':'WalkingDifficulty'},axis=1,inplace=True)\n",
    "heart.rename({'Sex':'Gender'},axis=1,inplace=True)\n",
    "heart.rename({'Race':'Origin'},axis=1,inplace=True)\n",
    "heart.rename({'PhysicalActivity':'Exercise'},axis=1,inplace=True)\n",
    "heart.rename({'SkinCancer':'Cancer'},axis=1,inplace=True)\n"
   ]
  },
  {
   "cell_type": "markdown",
   "id": "beef415c",
   "metadata": {},
   "source": [
    "Renaming required columns for better understanding of the data."
   ]
  },
  {
   "cell_type": "markdown",
   "id": "5e3f9af5",
   "metadata": {},
   "source": [
    "After Renaming..."
   ]
  },
  {
   "cell_type": "code",
   "execution_count": 11,
   "id": "8fa9d67b",
   "metadata": {},
   "outputs": [
    {
     "data": {
      "text/html": [
       "<div>\n",
       "<style scoped>\n",
       "    .dataframe tbody tr th:only-of-type {\n",
       "        vertical-align: middle;\n",
       "    }\n",
       "\n",
       "    .dataframe tbody tr th {\n",
       "        vertical-align: top;\n",
       "    }\n",
       "\n",
       "    .dataframe thead th {\n",
       "        text-align: right;\n",
       "    }\n",
       "</style>\n",
       "<table border=\"1\" class=\"dataframe\">\n",
       "  <thead>\n",
       "    <tr style=\"text-align: right;\">\n",
       "      <th></th>\n",
       "      <th>HeartDisease</th>\n",
       "      <th>BMI</th>\n",
       "      <th>Smoking</th>\n",
       "      <th>AlcoholDrinking</th>\n",
       "      <th>Stroke</th>\n",
       "      <th>PhysicalHealth</th>\n",
       "      <th>MentalHealth</th>\n",
       "      <th>WalkingDifficulty</th>\n",
       "      <th>Gender</th>\n",
       "      <th>AgeCategory</th>\n",
       "      <th>Origin</th>\n",
       "      <th>Diabetic</th>\n",
       "      <th>Exercise</th>\n",
       "      <th>GenHealth</th>\n",
       "      <th>SleepTime</th>\n",
       "      <th>Asthma</th>\n",
       "      <th>KidneyDisease</th>\n",
       "      <th>Cancer</th>\n",
       "      <th>ff</th>\n",
       "    </tr>\n",
       "  </thead>\n",
       "  <tbody>\n",
       "    <tr>\n",
       "      <th>0</th>\n",
       "      <td>No</td>\n",
       "      <td>16.60</td>\n",
       "      <td>Yes</td>\n",
       "      <td>No</td>\n",
       "      <td>No</td>\n",
       "      <td>3</td>\n",
       "      <td>30</td>\n",
       "      <td>No</td>\n",
       "      <td>Female</td>\n",
       "      <td>55-59</td>\n",
       "      <td>White</td>\n",
       "      <td>Yes</td>\n",
       "      <td>Yes</td>\n",
       "      <td>Very good</td>\n",
       "      <td>5</td>\n",
       "      <td>Yes</td>\n",
       "      <td>No</td>\n",
       "      <td>Yes</td>\n",
       "      <td>NaN</td>\n",
       "    </tr>\n",
       "    <tr>\n",
       "      <th>1</th>\n",
       "      <td>No</td>\n",
       "      <td>20.34</td>\n",
       "      <td>No</td>\n",
       "      <td>No</td>\n",
       "      <td>Yes</td>\n",
       "      <td>0</td>\n",
       "      <td>0</td>\n",
       "      <td>No</td>\n",
       "      <td>Female</td>\n",
       "      <td>80 or older</td>\n",
       "      <td>White</td>\n",
       "      <td>No</td>\n",
       "      <td>Yes</td>\n",
       "      <td>Very good</td>\n",
       "      <td>7</td>\n",
       "      <td>No</td>\n",
       "      <td>No</td>\n",
       "      <td>No</td>\n",
       "      <td>NaN</td>\n",
       "    </tr>\n",
       "    <tr>\n",
       "      <th>2</th>\n",
       "      <td>No</td>\n",
       "      <td>26.58</td>\n",
       "      <td>Race</td>\n",
       "      <td>No</td>\n",
       "      <td>No</td>\n",
       "      <td>20</td>\n",
       "      <td>30</td>\n",
       "      <td>No</td>\n",
       "      <td>Male</td>\n",
       "      <td>65-69</td>\n",
       "      <td>White</td>\n",
       "      <td>Yes</td>\n",
       "      <td>Yes</td>\n",
       "      <td>Fair</td>\n",
       "      <td>8</td>\n",
       "      <td>Yes</td>\n",
       "      <td>No</td>\n",
       "      <td>No</td>\n",
       "      <td>NaN</td>\n",
       "    </tr>\n",
       "    <tr>\n",
       "      <th>3</th>\n",
       "      <td>No</td>\n",
       "      <td>24.21</td>\n",
       "      <td>No</td>\n",
       "      <td>No</td>\n",
       "      <td>No</td>\n",
       "      <td>0</td>\n",
       "      <td>0</td>\n",
       "      <td>No</td>\n",
       "      <td>Female</td>\n",
       "      <td>75-79</td>\n",
       "      <td>White</td>\n",
       "      <td>No</td>\n",
       "      <td>No</td>\n",
       "      <td>Good</td>\n",
       "      <td>6</td>\n",
       "      <td>No</td>\n",
       "      <td>No</td>\n",
       "      <td>Yes</td>\n",
       "      <td>NaN</td>\n",
       "    </tr>\n",
       "    <tr>\n",
       "      <th>4</th>\n",
       "      <td>No</td>\n",
       "      <td>23.71</td>\n",
       "      <td>No</td>\n",
       "      <td>No</td>\n",
       "      <td>No</td>\n",
       "      <td>28</td>\n",
       "      <td>0</td>\n",
       "      <td>Yes</td>\n",
       "      <td>Female</td>\n",
       "      <td>40-44</td>\n",
       "      <td>White</td>\n",
       "      <td>No</td>\n",
       "      <td>Yes</td>\n",
       "      <td>Very good</td>\n",
       "      <td>8</td>\n",
       "      <td>No</td>\n",
       "      <td>No</td>\n",
       "      <td>No</td>\n",
       "      <td>NaN</td>\n",
       "    </tr>\n",
       "  </tbody>\n",
       "</table>\n",
       "</div>"
      ],
      "text/plain": [
       "  HeartDisease    BMI Smoking AlcoholDrinking Stroke  PhysicalHealth  \\\n",
       "0           No  16.60     Yes              No     No               3   \n",
       "1           No  20.34      No              No    Yes               0   \n",
       "2           No  26.58    Race              No     No              20   \n",
       "3           No  24.21      No              No     No               0   \n",
       "4           No  23.71      No              No     No              28   \n",
       "\n",
       "   MentalHealth WalkingDifficulty  Gender  AgeCategory Origin Diabetic  \\\n",
       "0            30                No  Female        55-59  White      Yes   \n",
       "1             0                No  Female  80 or older  White       No   \n",
       "2            30                No    Male        65-69  White      Yes   \n",
       "3             0                No  Female        75-79  White       No   \n",
       "4             0               Yes  Female        40-44  White       No   \n",
       "\n",
       "  Exercise  GenHealth  SleepTime Asthma KidneyDisease Cancer  ff  \n",
       "0      Yes  Very good          5    Yes            No    Yes NaN  \n",
       "1      Yes  Very good          7     No            No     No NaN  \n",
       "2      Yes       Fair          8    Yes            No     No NaN  \n",
       "3       No       Good          6     No            No    Yes NaN  \n",
       "4      Yes  Very good          8     No            No     No NaN  "
      ]
     },
     "execution_count": 11,
     "metadata": {},
     "output_type": "execute_result"
    }
   ],
   "source": [
    "heart.head()"
   ]
  },
  {
   "cell_type": "code",
   "execution_count": 12,
   "id": "64ba6f23",
   "metadata": {},
   "outputs": [
    {
     "data": {
      "text/plain": [
       "BMI               1.332431\n",
       "PhysicalHealth    2.603973\n",
       "MentalHealth      2.331112\n",
       "SleepTime         0.679035\n",
       "ff                     NaN\n",
       "dtype: float64"
      ]
     },
     "execution_count": 12,
     "metadata": {},
     "output_type": "execute_result"
    }
   ],
   "source": [
    "heart.skew()"
   ]
  },
  {
   "cell_type": "markdown",
   "id": "eb0160f6",
   "metadata": {},
   "source": [
    "* All the numeric columns are skewed."
   ]
  },
  {
   "cell_type": "code",
   "execution_count": 13,
   "id": "70c7a0a8",
   "metadata": {},
   "outputs": [
    {
     "data": {
      "text/plain": [
       "<AxesSubplot:>"
      ]
     },
     "execution_count": 13,
     "metadata": {},
     "output_type": "execute_result"
    },
    {
     "data": {
      "image/png": "[encoded data removed]",
      "text/plain": [
       "<Figure size 720x360 with 2 Axes>"
      ]
     },
     "metadata": {
      "needs_background": "light"
     },
     "output_type": "display_data"
    }
   ],
   "source": [
    "plt.figure(figsize=(10,5))\n",
    "sns.heatmap(heart.corr(),annot=True,cmap='YlGnBu')"
   ]
  },
  {
   "cell_type": "markdown",
   "id": "b6e0737f",
   "metadata": {},
   "source": [
    "### Infrences from heatmap\n",
    "* Physical Health and Mental Health seems to have good Correlation.\n",
    "* BMI also have positive correaltion with Physical and Mnetal Health."
   ]
  },
  {
   "cell_type": "markdown",
   "id": "1eaf264c",
   "metadata": {},
   "source": [
    "**Checking for NUMERICAL COLUMNS** "
   ]
  },
  {
   "cell_type": "code",
   "execution_count": 14,
   "id": "3b7816dd",
   "metadata": {},
   "outputs": [
    {
     "data": {
      "text/plain": [
       "Index(['BMI', 'PhysicalHealth', 'MentalHealth', 'SleepTime', 'ff'], dtype='object')"
      ]
     },
     "execution_count": 14,
     "metadata": {},
     "output_type": "execute_result"
    }
   ],
   "source": [
    "num_cols=heart.select_dtypes(include=np.number).columns\n",
    "num_cols"
   ]
  },
  {
   "cell_type": "markdown",
   "id": "4487ca88",
   "metadata": {},
   "source": [
    "**Checking for CATEGORICAL COLUMNS**"
   ]
  },
  {
   "cell_type": "code",
   "execution_count": 15,
   "id": "fb3dde6c",
   "metadata": {},
   "outputs": [
    {
     "data": {
      "text/plain": [
       "Index(['HeartDisease', 'Smoking', 'AlcoholDrinking', 'Stroke',\n",
       "       'WalkingDifficulty', 'Gender', 'AgeCategory', 'Origin', 'Diabetic',\n",
       "       'Exercise', 'GenHealth', 'Asthma', 'KidneyDisease', 'Cancer'],\n",
       "      dtype='object')"
      ]
     },
     "execution_count": 15,
     "metadata": {},
     "output_type": "execute_result"
    }
   ],
   "source": [
    "cat_cols=heart.select_dtypes(include='object').columns\n",
    "cat_cols"
   ]
  },
  {
   "cell_type": "markdown",
   "id": "90b8b787",
   "metadata": {},
   "source": [
    "### UNIVARIATE ANALYSIS"
   ]
  },
  {
   "cell_type": "markdown",
   "id": "b27cbd3a",
   "metadata": {},
   "source": [
    " **Univariate Analysis on Numeric Data**"
   ]
  },
  {
   "cell_type": "code",
   "execution_count": 16,
   "id": "28087994",
   "metadata": {},
   "outputs": [
    {
     "data": {
      "image/png": "[encoded data removed]",
      "text/plain": [
       "<Figure size 720x1080 with 5 Axes>"
      ]
     },
     "metadata": {
      "needs_background": "light"
     },
     "output_type": "display_data"
    }
   ],
   "source": [
    "plt.figure(figsize=(10,15))\n",
    "a=3\n",
    "b=2\n",
    "c=1\n",
    "\n",
    "for i in num_cols:\n",
    "    plt.subplot(a,b,c)\n",
    "    sns.boxplot(heart.loc[:,i],color='lightgreen')\n",
    "    c=c+1\n",
    "    plt.title(i)\n",
    "\n",
    "plt.tight_layout    \n",
    "plt.show()"
   ]
  },
  {
   "cell_type": "markdown",
   "id": "84b6ec0d",
   "metadata": {},
   "source": [
    "### Infrences after Univariate Analysis on the Numerical Columns\n",
    "* Here, we are comparing all the numerical columns with each other.\n",
    "* There is a presence of outliers and inliers in the data.\n",
    "* Most of the columns in the data are positively skewed."
   ]
  },
  {
   "cell_type": "markdown",
   "id": "4d5c50ed",
   "metadata": {},
   "source": [
    " **Univariate Analysis on Categorical Data**"
   ]
  },
  {
   "cell_type": "code",
   "execution_count": 17,
   "id": "a1135631",
   "metadata": {},
   "outputs": [
    {
     "data": {
      "image/png": "[encoded data removed]",
      "text/plain": [
       "<Figure size 1296x1944 with 14 Axes>"
      ]
     },
     "metadata": {
      "needs_background": "light"
     },
     "output_type": "display_data"
    }
   ],
   "source": [
    "plt.figure(figsize=(18,27))\n",
    "a=7\n",
    "b=2\n",
    "c=1\n",
    "\n",
    "for i in cat_cols:\n",
    "    plt.subplot(a,b,c)\n",
    "    sns.countplot(heart.loc[:,i])\n",
    "    c=c+1\n",
    "    plt.title(i)\n",
    "plt.tight_layout()   \n",
    "plt.show()"
   ]
  },
  {
   "cell_type": "markdown",
   "id": "377d232e",
   "metadata": {},
   "source": [
    "### Infrences after Univariate Analysis on the Categorical Columns\n",
    "Using Count plot for our analysis\n",
    "* Majority people are suffering from heart disease.\n",
    "* According, to the above analysis majority people are neither smoking and nor drinking alcohol.\n",
    "* Number of people having stroke and suffering from walking difficulty is less.\n",
    "* Heart disease are prominent in both men and women, but more in women.\n",
    "* Our data consist of people of age category 18 to 80 or older.\n",
    "* Majority people are not having Diabetes.\n",
    "* Majority people are into exercise.\n",
    "* General Health of majority people are very good and people are not having asthma.\n",
    "* Majority people are neither have Kidney disease nor Cancer.\n"
   ]
  },
  {
   "cell_type": "markdown",
   "id": "359afdbe",
   "metadata": {},
   "source": [
    "#### Making a copy of the data "
   ]
  },
  {
   "cell_type": "code",
   "execution_count": 18,
   "id": "3938eb75",
   "metadata": {},
   "outputs": [],
   "source": [
    "newheart=heart.copy()"
   ]
  },
  {
   "cell_type": "markdown",
   "id": "b6e59bfc",
   "metadata": {},
   "source": [
    "#### Droping the ff Column from the data"
   ]
  },
  {
   "cell_type": "code",
   "execution_count": 19,
   "id": "d31f0f6b",
   "metadata": {},
   "outputs": [],
   "source": [
    "newheart.drop('ff',axis=1,inplace=True)"
   ]
  },
  {
   "cell_type": "code",
   "execution_count": 20,
   "id": "ac467eff",
   "metadata": {},
   "outputs": [
    {
     "data": {
      "text/plain": [
       "Index(['BMI', 'PhysicalHealth', 'MentalHealth', 'SleepTime'], dtype='object')"
      ]
     },
     "execution_count": 20,
     "metadata": {},
     "output_type": "execute_result"
    }
   ],
   "source": [
    "num=newheart.select_dtypes(include=np.number).columns\n",
    "num"
   ]
  },
  {
   "cell_type": "code",
   "execution_count": 373,
   "id": "1ecf17fc",
   "metadata": {},
   "outputs": [
    {
     "data": {
      "text/plain": [
       "Index(['HeartDisease', 'Smoking', 'AlcoholDrinking', 'Stroke',\n",
       "       'WalkingDifficulty', 'Gender', 'AgeCategory', 'Origin', 'Diabetic',\n",
       "       'Exercise', 'GenHealth', 'Asthma', 'KidneyDisease', 'Cancer'],\n",
       "      dtype='object')"
      ]
     },
     "execution_count": 373,
     "metadata": {},
     "output_type": "execute_result"
    }
   ],
   "source": [
    "cat=newheart.select_dtypes('object').columns\n",
    "cat"
   ]
  },
  {
   "cell_type": "markdown",
   "id": "4141ee37",
   "metadata": {},
   "source": [
    "## Treating the outliers "
   ]
  },
  {
   "cell_type": "markdown",
   "id": "df1aaf94",
   "metadata": {},
   "source": [
    "Before moving further, we will be treating all the ouliers in our data. We will be **CAPPING** the outliers."
   ]
  },
  {
   "cell_type": "markdown",
   "id": "b97567d5",
   "metadata": {},
   "source": [
    "##### num"
   ]
  },
  {
   "cell_type": "code",
   "execution_count": 22,
   "id": "92be88e8",
   "metadata": {},
   "outputs": [],
   "source": [
    "for i in num:\n",
    "    q1,q3 = np.quantile(newheart[i],[0.25,0.75])\n",
    "    iqr = q3 - q1\n",
    "    ul = q3+(1.5*iqr)\n",
    "    ll = q1-(1.5*iqr)\n",
    "    newheart.loc[newheart[i]>ul,i]=ul\n",
    "    newheart.loc[newheart[i]<ll,i]=ll \n",
    "    "
   ]
  },
  {
   "cell_type": "markdown",
   "id": "f6674d0c",
   "metadata": {},
   "source": [
    "# Inference\n",
    "* All the outliers in our data are treated using CAPPING METHOD.\n",
    "* All the outliers are capped in the range of IQR . \n",
    "* Where outliers are treated with Upper limit [q3+(1.5*IQR] and inliers with lower limit [q1-  (1.5*IQR)]."
   ]
  },
  {
   "cell_type": "markdown",
   "id": "aff91197",
   "metadata": {},
   "source": [
    "###  Univariate Analysis after Capping the Outliers"
   ]
  },
  {
   "cell_type": "code",
   "execution_count": 23,
   "id": "937f4b35",
   "metadata": {},
   "outputs": [
    {
     "data": {
      "image/png": "[encoded data removed]",
      "text/plain": [
       "<Figure size 792x720 with 4 Axes>"
      ]
     },
     "metadata": {
      "needs_background": "light"
     },
     "output_type": "display_data"
    }
   ],
   "source": [
    "# Numerical Columns \n",
    "plt.figure(figsize = (11,10))\n",
    "a = 4\n",
    "b = 2\n",
    "c = 1\n",
    "\n",
    "for i in num:\n",
    "    plt.subplot(a,b,c)\n",
    "    sns.boxplot(newheart.loc[:,i],color = \"pink\")\n",
    "    c = c+1\n",
    "    plt.title(i)\n",
    "plt.tight_layout()\n",
    "plt.show()"
   ]
  },
  {
   "cell_type": "markdown",
   "id": "6714e5f3",
   "metadata": {},
   "source": [
    "* We can clearly see that all the outliers in the data have been capped."
   ]
  },
  {
   "cell_type": "markdown",
   "id": "aa520170",
   "metadata": {},
   "source": [
    "### BIVARIATE ANALYSIS"
   ]
  },
  {
   "cell_type": "markdown",
   "id": "935a0ebb",
   "metadata": {},
   "source": [
    "**Bivariate Analysis on Numeric Column with heart Disease(Target Variable)**"
   ]
  },
  {
   "cell_type": "code",
   "execution_count": 24,
   "id": "04c5e932",
   "metadata": {},
   "outputs": [
    {
     "data": {
      "image/png": "[encoded data removed]",
      "text/plain": [
       "<Figure size 1080x1800 with 4 Axes>"
      ]
     },
     "metadata": {
      "needs_background": "light"
     },
     "output_type": "display_data"
    }
   ],
   "source": [
    "plt.figure(figsize=(15,25))\n",
    "a=7\n",
    "b=2\n",
    "c=1\n",
    "\n",
    "for i in num:\n",
    "    plt.subplot(a,b,c)\n",
    "    sns.boxplot(heart.loc[:,i],heart.loc[:,'HeartDisease'])\n",
    "    c=c+1\n",
    "    plt.title(i)\n",
    "plt.tight_layout()    \n",
    "plt.show()"
   ]
  },
  {
   "cell_type": "markdown",
   "id": "865f1f5d",
   "metadata": {},
   "source": [
    "# Inference\n",
    "* BMI and sleep time does not seem to have much effect on target variable.\n",
    "* People who does not  have good physical Health for 15 days are more prone to heart disease.\n",
    "* People who does not have good Mental Health for 26 days are more prone to heart disease."
   ]
  },
  {
   "cell_type": "markdown",
   "id": "2e9726c0",
   "metadata": {},
   "source": [
    "**Bivariate Analysis on Categorical Columns with heart Disease(Target Variable)**"
   ]
  },
  {
   "cell_type": "code",
   "execution_count": 376,
   "id": "fa1579a7",
   "metadata": {},
   "outputs": [
    {
     "data": {
      "image/png": "[encoded data removed]",
      "text/plain": [
       "<Figure size 1080x864 with 14 Axes>"
      ]
     },
     "metadata": {
      "needs_background": "light"
     },
     "output_type": "display_data"
    }
   ],
   "source": [
    "plt.figure(figsize=(15,12))\n",
    "a = 5\n",
    "b = 3\n",
    "c = 1\n",
    "\n",
    "for i in cat:\n",
    "    plt.subplot(a,b,c)\n",
    "    sns.countplot(heart.loc[:,i], hue=heart.loc[:,\"HeartDisease\"])\n",
    "    c = c+1\n",
    "    plt.title(i)\n",
    "plt.tight_layout()    \n",
    "plt.show()    "
   ]
  },
  {
   "cell_type": "markdown",
   "id": "66ba1031",
   "metadata": {},
   "source": [
    "# Inference\n",
    "* People who Smoke and drink Alcohol are having more chances of having Heart Disease.\n",
    "* Males are having less chance of having heart disease.\n",
    "* People who had stroke  and facing walking difficulty are having more chance of heart disease.\n",
    "* People who 60 or older are more prone to heart disease.\n",
    "* People who do not exercise  and have poor General Health have more chance of having heart disease.\n",
    "* People suffering from  Diabetes, Asthma, Cancer and Kidney Disease are having more chance of having Heart Disease.\n",
    "* White people are having more chance of having heart disease."
   ]
  },
  {
   "cell_type": "markdown",
   "id": "7147ff34",
   "metadata": {},
   "source": [
    "## Statistical Test"
   ]
  },
  {
   "cell_type": "markdown",
   "id": "b9de8a40",
   "metadata": {},
   "source": [
    "Here, We will be performimg Chi-Square Test for all categorical Coloum to check the significance importance of each coloum by considering there P-value. If the P-value is less than 0.05% then the column is significant."
   ]
  },
  {
   "cell_type": "markdown",
   "id": "ae8f2e0b",
   "metadata": {},
   "source": [
    "1. SMOKING"
   ]
  },
  {
   "cell_type": "code",
   "execution_count": 38,
   "id": "eb05c358",
   "metadata": {},
   "outputs": [
    {
     "name": "stdout",
     "output_type": "stream",
     "text": [
      "P-value of Smoking Coloum = 0.0\n"
     ]
    }
   ],
   "source": [
    "tbl = pd.crosstab(newheart.Smoking , newheart.HeartDisease)\n",
    "teststats , pvalue , df , exp_freq = stats.chi2_contingency(tbl)\n",
    "\n",
    "print('P-value of Smoking Coloum =',pvalue)"
   ]
  },
  {
   "cell_type": "markdown",
   "id": "5fa49fce",
   "metadata": {},
   "source": [
    "**Smoking column is Statistically Significant.**"
   ]
  },
  {
   "cell_type": "markdown",
   "id": "83435f01",
   "metadata": {},
   "source": [
    "2. Alchol Drinking"
   ]
  },
  {
   "cell_type": "code",
   "execution_count": 39,
   "id": "d641ce3f",
   "metadata": {},
   "outputs": [
    {
     "name": "stdout",
     "output_type": "stream",
     "text": [
      "P-value of AlcholDrinking Coloum = 1.892352227090306e-73\n"
     ]
    }
   ],
   "source": [
    "tbl=pd.crosstab(newheart.AlcoholDrinking,newheart.HeartDisease)\n",
    "teststats,pvalue,df,exp_freq=stats.chi2_contingency(tbl)\n",
    "\n",
    "\n",
    "print('P-value of AlcholDrinking Coloum =',pvalue)"
   ]
  },
  {
   "cell_type": "markdown",
   "id": "390c7dc1",
   "metadata": {},
   "source": [
    "**AlcholDrinking is Statistically Significant.**"
   ]
  },
  {
   "cell_type": "markdown",
   "id": "46cdd9f1",
   "metadata": {},
   "source": [
    "3. Stroke"
   ]
  },
  {
   "cell_type": "code",
   "execution_count": 40,
   "id": "5281c1e8",
   "metadata": {},
   "outputs": [
    {
     "name": "stdout",
     "output_type": "stream",
     "text": [
      "P-value of Stoke Coloum = 0.0\n"
     ]
    }
   ],
   "source": [
    "tbl=pd.crosstab(newheart.Stroke,newheart.HeartDisease)\n",
    "teststats,pvalue,df,exp_freq=stats.chi2_contingency(tbl)\n",
    "\n",
    "\n",
    "print('P-value of Stoke Coloum =',pvalue)"
   ]
  },
  {
   "cell_type": "markdown",
   "id": "c1e58a7e",
   "metadata": {},
   "source": [
    "**Stroke is Statistically Significant.**"
   ]
  },
  {
   "cell_type": "markdown",
   "id": "50b9ac43",
   "metadata": {},
   "source": [
    "4. Walking Difficulty"
   ]
  },
  {
   "cell_type": "code",
   "execution_count": 41,
   "id": "cd525e7b",
   "metadata": {},
   "outputs": [
    {
     "name": "stdout",
     "output_type": "stream",
     "text": [
      "P-value of Walking Difficulty Coloum = 0.0\n"
     ]
    }
   ],
   "source": [
    "tbl=pd.crosstab(newheart.WalkingDifficulty,newheart.HeartDisease)\n",
    "teststats,pvalue,df,exp_freq=stats.chi2_contingency(tbl)\n",
    "\n",
    "print('P-value of Walking Difficulty Coloum =',pvalue)"
   ]
  },
  {
   "cell_type": "markdown",
   "id": "191b7b30",
   "metadata": {},
   "source": [
    "**WalkingDifficulty is Statistically Significant.**"
   ]
  },
  {
   "cell_type": "markdown",
   "id": "cacd3067",
   "metadata": {},
   "source": [
    "5. Gender"
   ]
  },
  {
   "cell_type": "code",
   "execution_count": 42,
   "id": "bc409c1e",
   "metadata": {},
   "outputs": [
    {
     "name": "stdout",
     "output_type": "stream",
     "text": [
      "P-value of Gender Coloum = 0.0\n"
     ]
    }
   ],
   "source": [
    "tbl=pd.crosstab(newheart.Gender,newheart.HeartDisease)\n",
    "teststats,pvalue,df,exp_freq=stats.chi2_contingency(tbl)\n",
    "\n",
    "print('P-value of Gender Coloum =',pvalue)"
   ]
  },
  {
   "cell_type": "markdown",
   "id": "7143fe1c",
   "metadata": {},
   "source": [
    "**Gender is Statistically Significant.**\n"
   ]
  },
  {
   "cell_type": "markdown",
   "id": "dee904b6",
   "metadata": {},
   "source": [
    "6. Age Category"
   ]
  },
  {
   "cell_type": "code",
   "execution_count": 43,
   "id": "2399f9b0",
   "metadata": {},
   "outputs": [
    {
     "name": "stdout",
     "output_type": "stream",
     "text": [
      "P-value of AgeCategory Coloum = 0.0\n"
     ]
    }
   ],
   "source": [
    "tbl=pd.crosstab(newheart.AgeCategory,newheart.HeartDisease)\n",
    "teststats,pvalue,df,exp_freq=stats.chi2_contingency(tbl)\n",
    "\n",
    "print('P-value of AgeCategory Coloum =',pvalue)"
   ]
  },
  {
   "cell_type": "markdown",
   "id": "7a0c3a7a",
   "metadata": {},
   "source": [
    "**AgeCategory is Statistically Significant.**"
   ]
  },
  {
   "cell_type": "markdown",
   "id": "63744a52",
   "metadata": {},
   "source": [
    "7. Origin"
   ]
  },
  {
   "cell_type": "code",
   "execution_count": 44,
   "id": "3b04db12",
   "metadata": {},
   "outputs": [
    {
     "name": "stdout",
     "output_type": "stream",
     "text": [
      "P-value of Origin Coloum = 2.9886131565632597e-180\n"
     ]
    }
   ],
   "source": [
    "tbl=pd.crosstab(newheart.Origin,newheart.HeartDisease)\n",
    "teststats,pvalue,df,exp_freq=stats.chi2_contingency(tbl)\n",
    "\n",
    "print('P-value of Origin Coloum =',pvalue)"
   ]
  },
  {
   "cell_type": "markdown",
   "id": "c8bc5cdc",
   "metadata": {},
   "source": [
    "**Origin is Statistically Significant.**"
   ]
  },
  {
   "cell_type": "markdown",
   "id": "cc5b22b8",
   "metadata": {},
   "source": [
    "8. Diabetic"
   ]
  },
  {
   "cell_type": "code",
   "execution_count": 45,
   "id": "0aebe269",
   "metadata": {},
   "outputs": [
    {
     "name": "stdout",
     "output_type": "stream",
     "text": [
      "P-value of Diabetic Coloum = 0.0\n"
     ]
    }
   ],
   "source": [
    "tbl=pd.crosstab(newheart.Diabetic,newheart.HeartDisease)\n",
    "teststats,pvalue,df,exp_freq=stats.chi2_contingency(tbl)\n",
    "\n",
    "print('P-value of Diabetic Coloum =',pvalue)"
   ]
  },
  {
   "cell_type": "markdown",
   "id": "f9070627",
   "metadata": {},
   "source": [
    "**Diabetic is Statistically Significant.**"
   ]
  },
  {
   "cell_type": "markdown",
   "id": "def617b9",
   "metadata": {},
   "source": [
    "9. Exerxise"
   ]
  },
  {
   "cell_type": "code",
   "execution_count": 46,
   "id": "8620ea10",
   "metadata": {},
   "outputs": [
    {
     "name": "stdout",
     "output_type": "stream",
     "text": [
      "P-value of Exercise Coloum = 0.0\n"
     ]
    }
   ],
   "source": [
    "tbl=pd.crosstab(newheart.Exercise,newheart.HeartDisease)\n",
    "teststats,pvalue,df,exp_freq=stats.chi2_contingency(tbl)\n",
    "\n",
    "print('P-value of Exercise Coloum =',pvalue)"
   ]
  },
  {
   "cell_type": "markdown",
   "id": "edaaf41d",
   "metadata": {},
   "source": [
    "**Exercise is Statistically Significant.**"
   ]
  },
  {
   "cell_type": "markdown",
   "id": "9c72dddf",
   "metadata": {},
   "source": [
    "10. General Health"
   ]
  },
  {
   "cell_type": "code",
   "execution_count": 47,
   "id": "e8557728",
   "metadata": {},
   "outputs": [
    {
     "name": "stdout",
     "output_type": "stream",
     "text": [
      "P-value of GenHealth Coloum = 0.0\n"
     ]
    }
   ],
   "source": [
    "tbl=pd.crosstab(newheart.GenHealth,newheart.HeartDisease)\n",
    "teststats,pvalue,df,exp_freq=stats.chi2_contingency(tbl)\n",
    "\n",
    "print('P-value of GenHealth Coloum =',pvalue)"
   ]
  },
  {
   "cell_type": "markdown",
   "id": "643f0e37",
   "metadata": {},
   "source": [
    "**GenHealth is Statistically Significant.**"
   ]
  },
  {
   "cell_type": "markdown",
   "id": "107ccbee",
   "metadata": {},
   "source": [
    "11. Asthma"
   ]
  },
  {
   "cell_type": "code",
   "execution_count": 48,
   "id": "14f49774",
   "metadata": {},
   "outputs": [
    {
     "name": "stdout",
     "output_type": "stream",
     "text": [
      "P-value of Asthma Coloum = 2.2386144306283177e-121\n"
     ]
    }
   ],
   "source": [
    "tbl=pd.crosstab(newheart.Asthma,newheart.HeartDisease)\n",
    "teststats,pvalue,df,exp_freq=stats.chi2_contingency(tbl)\n",
    "\n",
    "print('P-value of Asthma Coloum =',pvalue)"
   ]
  },
  {
   "cell_type": "markdown",
   "id": "c45b9528",
   "metadata": {},
   "source": [
    "**Asthma is Statistically Significant.**"
   ]
  },
  {
   "cell_type": "markdown",
   "id": "0ca7f12d",
   "metadata": {},
   "source": [
    "12. Kidney Disease"
   ]
  },
  {
   "cell_type": "code",
   "execution_count": 49,
   "id": "2cf0c58c",
   "metadata": {},
   "outputs": [
    {
     "name": "stdout",
     "output_type": "stream",
     "text": [
      "P-value of Diabetic Coloum = 2.2386144306283177e-121\n"
     ]
    }
   ],
   "source": [
    "tbl=pd.crosstab(newheart.KidneyDisease,newheart.HeartDisease)\n",
    "#teststats,pvaluesthma is Statistically Significant.**,df,exp_freq=stats.chi2_contingency(tbl)\n",
    "\n",
    "print('P-value of Diabetic Coloum =',pvalue)"
   ]
  },
  {
   "cell_type": "markdown",
   "id": "e3dcfe5c",
   "metadata": {},
   "source": [
    "**KidenyDisease is Statistically Significant.**"
   ]
  },
  {
   "cell_type": "markdown",
   "id": "13bb9d46",
   "metadata": {},
   "source": [
    "13.Cancer"
   ]
  },
  {
   "cell_type": "code",
   "execution_count": 50,
   "id": "52814603",
   "metadata": {},
   "outputs": [
    {
     "name": "stdout",
     "output_type": "stream",
     "text": [
      "P-value of Cancer Coloum = 0.0\n"
     ]
    }
   ],
   "source": [
    "tbl=pd.crosstab(newheart.Cancer,newheart.HeartDisease)\n",
    "teststats,pvalue,df,exp_freq=stats.chi2_contingency(tbl)\n",
    "\n",
    "print('P-value of Cancer Coloum =',pvalue)"
   ]
  },
  {
   "cell_type": "markdown",
   "id": "0c6912cb",
   "metadata": {},
   "source": [
    "**Cancer is Statistically Significant.**"
   ]
  },
  {
   "cell_type": "markdown",
   "id": "fc798f31",
   "metadata": {},
   "source": [
    "Since the Pvaue is less than alpha(0.05)\n",
    "Hence, According to the Chi-Square Test all the categorical Columns are Statistically Significant."
   ]
  },
  {
   "cell_type": "markdown",
   "id": "d57bcb6b",
   "metadata": {},
   "source": [
    "## BINNING"
   ]
  },
  {
   "cell_type": "markdown",
   "id": "dfdcd5bf",
   "metadata": {},
   "source": [
    "Here, we are binninbg the required columns that are-:\n",
    "* 1. AgeCategory\n",
    "* 2. GenHealth\n",
    "* 3. Origin"
   ]
  },
  {
   "cell_type": "markdown",
   "id": "b54d32a2",
   "metadata": {},
   "source": [
    "**Binning the AgeCategory Coloum**"
   ]
  },
  {
   "cell_type": "code",
   "execution_count": 51,
   "id": "e1719262",
   "metadata": {},
   "outputs": [
    {
     "data": {
      "text/plain": [
       "array(['55-59', '80 or older', '65-69', '75-79', '40-44', '70-74',\n",
       "       '60-64', '50-54', '45-49', '18-24', '35-39', '30-34', '25-29'],\n",
       "      dtype=object)"
      ]
     },
     "execution_count": 51,
     "metadata": {},
     "output_type": "execute_result"
    }
   ],
   "source": [
    "newheart.AgeCategory.unique()"
   ]
  },
  {
   "cell_type": "code",
   "execution_count": 52,
   "id": "198cfa58",
   "metadata": {},
   "outputs": [],
   "source": [
    "b1=['18-24','25-29','30-34', '35-39','40-44']\n",
    "b2=['45-49','50-54','55-59', '60-64']\n",
    "b3=['65-69','75-79','70-74','75-79','80 or older']\n",
    "\n",
    "\n",
    "def age(x):\n",
    "    if x in b1:\n",
    "        return('Young Age')\n",
    "    elif x in b2:\n",
    "        return('Middle Age')\n",
    "    elif x in b3:\n",
    "        return('Old age')"
   ]
  },
  {
   "cell_type": "code",
   "execution_count": 53,
   "id": "3c285553",
   "metadata": {},
   "outputs": [],
   "source": [
    "newheart['AgeCategory']=newheart.AgeCategory.apply(age)"
   ]
  },
  {
   "cell_type": "code",
   "execution_count": 54,
   "id": "9aac6477",
   "metadata": {},
   "outputs": [
    {
     "data": {
      "text/plain": [
       "array(['Middle Age', 'Old age', 'Young Age'], dtype=object)"
      ]
     },
     "execution_count": 54,
     "metadata": {},
     "output_type": "execute_result"
    }
   ],
   "source": [
    "newheart.AgeCategory.unique()"
   ]
  },
  {
   "cell_type": "markdown",
   "id": "cb5fada4",
   "metadata": {},
   "source": [
    "Here, We have Bin the the column AgeCategory in three classes Young Age,Middle Age and Old Age"
   ]
  },
  {
   "cell_type": "markdown",
   "id": "aa8fb5ca",
   "metadata": {},
   "source": [
    "**Binning the GenHealth Column**"
   ]
  },
  {
   "cell_type": "code",
   "execution_count": 55,
   "id": "c9d73351",
   "metadata": {},
   "outputs": [
    {
     "data": {
      "text/plain": [
       "array(['Very good', 'Fair', 'Good', 'Poor', 'Excellent'], dtype=object)"
      ]
     },
     "execution_count": 55,
     "metadata": {},
     "output_type": "execute_result"
    }
   ],
   "source": [
    "newheart.GenHealth.unique()"
   ]
  },
  {
   "cell_type": "code",
   "execution_count": 56,
   "id": "2d69b4f0",
   "metadata": {},
   "outputs": [],
   "source": [
    "a=['Very good']\n",
    "b=['Excellent','Good']\n",
    "c=['Fair','Poor']\n",
    "\n",
    "\n",
    "\n",
    "def health(x):\n",
    "    if x in a:\n",
    "        return('Very Good')\n",
    "    elif x in b:\n",
    "        return('Good')\n",
    "    elif x in c:\n",
    "        return('Fair')\n",
    "        "
   ]
  },
  {
   "cell_type": "code",
   "execution_count": 57,
   "id": "1c5ccd81",
   "metadata": {},
   "outputs": [],
   "source": [
    "newheart['GenHealth']=newheart.GenHealth.apply(health)"
   ]
  },
  {
   "cell_type": "code",
   "execution_count": 58,
   "id": "6532f85d",
   "metadata": {},
   "outputs": [
    {
     "data": {
      "text/plain": [
       "array(['Very Good', 'Fair', 'Good'], dtype=object)"
      ]
     },
     "execution_count": 58,
     "metadata": {},
     "output_type": "execute_result"
    }
   ],
   "source": [
    "newheart.GenHealth.unique()"
   ]
  },
  {
   "cell_type": "markdown",
   "id": "4faea06a",
   "metadata": {},
   "source": [
    "Here, We have done the Binning of column GenHealth in three classes Very Good,Good and Fair."
   ]
  },
  {
   "cell_type": "markdown",
   "id": "392781c1",
   "metadata": {},
   "source": [
    "**Binning the Origin Column.**"
   ]
  },
  {
   "cell_type": "code",
   "execution_count": 59,
   "id": "65770d86",
   "metadata": {},
   "outputs": [],
   "source": [
    "bin1=['White']\n",
    "bin2=['Asian','Black','Hispanic']\n",
    "bin3=['American Indian/Alaskan Native','Other']\n",
    "\n",
    "\n",
    "\n",
    "def ori(x):\n",
    "    if x in bin1:\n",
    "        return('White')\n",
    "    elif x in bin2:\n",
    "        return('Black')\n",
    "    elif x in bin3:\n",
    "        return('Other')"
   ]
  },
  {
   "cell_type": "code",
   "execution_count": 60,
   "id": "326f5642",
   "metadata": {},
   "outputs": [],
   "source": [
    "newheart['Origin']=newheart.Origin.apply(ori)"
   ]
  },
  {
   "cell_type": "code",
   "execution_count": 61,
   "id": "1f219015",
   "metadata": {},
   "outputs": [
    {
     "data": {
      "text/plain": [
       "array(['White', 'Black', 'Other'], dtype=object)"
      ]
     },
     "execution_count": 61,
     "metadata": {},
     "output_type": "execute_result"
    }
   ],
   "source": [
    "newheart.Origin.unique()"
   ]
  },
  {
   "cell_type": "markdown",
   "id": "c59c6860",
   "metadata": {},
   "source": [
    "Here, We have done the Binning of column Origin in three classes White,Black and Other."
   ]
  },
  {
   "cell_type": "markdown",
   "id": "f35cdbea",
   "metadata": {},
   "source": [
    "## Scaling the Numerical Columns in the data."
   ]
  },
  {
   "cell_type": "markdown",
   "id": "b889b752",
   "metadata": {},
   "source": [
    "Here,we will be scalling all the numerical data in our dataset using the StandardScaler"
   ]
  },
  {
   "cell_type": "code",
   "execution_count": 62,
   "id": "495300bf",
   "metadata": {},
   "outputs": [],
   "source": [
    "# Importing the Standard Scaler\n",
    "from sklearn.preprocessing import StandardScaler"
   ]
  },
  {
   "cell_type": "code",
   "execution_count": 63,
   "id": "71a93754",
   "metadata": {},
   "outputs": [],
   "source": [
    "# Initialising the Standard Scaler\n",
    "sc=StandardScaler()"
   ]
  },
  {
   "cell_type": "code",
   "execution_count": 64,
   "id": "dbaf588c",
   "metadata": {},
   "outputs": [],
   "source": [
    "# Getting the numeric data \n",
    "num_data=newheart.select_dtypes(include=np.number)"
   ]
  },
  {
   "cell_type": "code",
   "execution_count": 65,
   "id": "3836ee04",
   "metadata": {},
   "outputs": [],
   "source": [
    "## scaling the data\n",
    "scaled_data = pd.DataFrame(sc.fit_transform(num_data),\n",
    "                           columns=['BMI_scaled', 'PhysicalHealth_scaled', 'MentalHealth_scaled', 'SleepTime_scaled'])"
   ]
  },
  {
   "cell_type": "markdown",
   "id": "2530abf3",
   "metadata": {},
   "source": [
    "#### Concating the scaled Data frame with the original data frame\n"
   ]
  },
  {
   "cell_type": "code",
   "execution_count": 66,
   "id": "29ef216e",
   "metadata": {},
   "outputs": [],
   "source": [
    "final_data=pd.concat([scaled_data,newheart] , axis=1)"
   ]
  },
  {
   "cell_type": "code",
   "execution_count": 67,
   "id": "3f1ba610",
   "metadata": {},
   "outputs": [
    {
     "data": {
      "text/html": [
       "<div>\n",
       "<style scoped>\n",
       "    .dataframe tbody tr th:only-of-type {\n",
       "        vertical-align: middle;\n",
       "    }\n",
       "\n",
       "    .dataframe tbody tr th {\n",
       "        vertical-align: top;\n",
       "    }\n",
       "\n",
       "    .dataframe thead th {\n",
       "        text-align: right;\n",
       "    }\n",
       "</style>\n",
       "<table border=\"1\" class=\"dataframe\">\n",
       "  <thead>\n",
       "    <tr style=\"text-align: right;\">\n",
       "      <th></th>\n",
       "      <th>BMI_scaled</th>\n",
       "      <th>PhysicalHealth_scaled</th>\n",
       "      <th>MentalHealth_scaled</th>\n",
       "      <th>SleepTime_scaled</th>\n",
       "      <th>HeartDisease</th>\n",
       "      <th>BMI</th>\n",
       "      <th>Smoking</th>\n",
       "      <th>AlcoholDrinking</th>\n",
       "      <th>Stroke</th>\n",
       "      <th>PhysicalHealth</th>\n",
       "      <th>...</th>\n",
       "      <th>Gender</th>\n",
       "      <th>AgeCategory</th>\n",
       "      <th>Origin</th>\n",
       "      <th>Diabetic</th>\n",
       "      <th>Exercise</th>\n",
       "      <th>GenHealth</th>\n",
       "      <th>SleepTime</th>\n",
       "      <th>Asthma</th>\n",
       "      <th>KidneyDisease</th>\n",
       "      <th>Cancer</th>\n",
       "    </tr>\n",
       "  </thead>\n",
       "  <tbody>\n",
       "    <tr>\n",
       "      <th>0</th>\n",
       "      <td>-2.002522</td>\n",
       "      <td>0.976249</td>\n",
       "      <td>1.932050</td>\n",
       "      <td>-1.580688</td>\n",
       "      <td>No</td>\n",
       "      <td>16.600</td>\n",
       "      <td>Yes</td>\n",
       "      <td>No</td>\n",
       "      <td>No</td>\n",
       "      <td>3</td>\n",
       "      <td>...</td>\n",
       "      <td>Female</td>\n",
       "      <td>Middle Age</td>\n",
       "      <td>White</td>\n",
       "      <td>Yes</td>\n",
       "      <td>Yes</td>\n",
       "      <td>Very Good</td>\n",
       "      <td>5</td>\n",
       "      <td>Yes</td>\n",
       "      <td>No</td>\n",
       "      <td>Yes</td>\n",
       "    </tr>\n",
       "    <tr>\n",
       "      <th>1</th>\n",
       "      <td>-1.354063</td>\n",
       "      <td>-0.580460</td>\n",
       "      <td>-0.645307</td>\n",
       "      <td>-0.061484</td>\n",
       "      <td>No</td>\n",
       "      <td>20.340</td>\n",
       "      <td>No</td>\n",
       "      <td>No</td>\n",
       "      <td>Yes</td>\n",
       "      <td>0</td>\n",
       "      <td>...</td>\n",
       "      <td>Female</td>\n",
       "      <td>Old age</td>\n",
       "      <td>White</td>\n",
       "      <td>No</td>\n",
       "      <td>Yes</td>\n",
       "      <td>Very Good</td>\n",
       "      <td>7</td>\n",
       "      <td>No</td>\n",
       "      <td>No</td>\n",
       "      <td>No</td>\n",
       "    </tr>\n",
       "    <tr>\n",
       "      <th>2</th>\n",
       "      <td>-0.272142</td>\n",
       "      <td>2.014054</td>\n",
       "      <td>1.932050</td>\n",
       "      <td>0.698118</td>\n",
       "      <td>No</td>\n",
       "      <td>26.580</td>\n",
       "      <td>Race</td>\n",
       "      <td>No</td>\n",
       "      <td>No</td>\n",
       "      <td>5</td>\n",
       "      <td>...</td>\n",
       "      <td>Male</td>\n",
       "      <td>Old age</td>\n",
       "      <td>White</td>\n",
       "      <td>Yes</td>\n",
       "      <td>Yes</td>\n",
       "      <td>Fair</td>\n",
       "      <td>8</td>\n",
       "      <td>Yes</td>\n",
       "      <td>No</td>\n",
       "      <td>No</td>\n",
       "    </tr>\n",
       "    <tr>\n",
       "      <th>3</th>\n",
       "      <td>-0.683064</td>\n",
       "      <td>-0.580460</td>\n",
       "      <td>-0.645307</td>\n",
       "      <td>-0.821086</td>\n",
       "      <td>No</td>\n",
       "      <td>24.210</td>\n",
       "      <td>No</td>\n",
       "      <td>No</td>\n",
       "      <td>No</td>\n",
       "      <td>0</td>\n",
       "      <td>...</td>\n",
       "      <td>Female</td>\n",
       "      <td>Old age</td>\n",
       "      <td>White</td>\n",
       "      <td>No</td>\n",
       "      <td>No</td>\n",
       "      <td>Good</td>\n",
       "      <td>6</td>\n",
       "      <td>No</td>\n",
       "      <td>No</td>\n",
       "      <td>Yes</td>\n",
       "    </tr>\n",
       "    <tr>\n",
       "      <th>4</th>\n",
       "      <td>-0.769756</td>\n",
       "      <td>2.014054</td>\n",
       "      <td>-0.645307</td>\n",
       "      <td>0.698118</td>\n",
       "      <td>No</td>\n",
       "      <td>23.710</td>\n",
       "      <td>No</td>\n",
       "      <td>No</td>\n",
       "      <td>No</td>\n",
       "      <td>5</td>\n",
       "      <td>...</td>\n",
       "      <td>Female</td>\n",
       "      <td>Young Age</td>\n",
       "      <td>White</td>\n",
       "      <td>No</td>\n",
       "      <td>Yes</td>\n",
       "      <td>Very Good</td>\n",
       "      <td>8</td>\n",
       "      <td>No</td>\n",
       "      <td>No</td>\n",
       "      <td>No</td>\n",
       "    </tr>\n",
       "    <tr>\n",
       "      <th>...</th>\n",
       "      <td>...</td>\n",
       "      <td>...</td>\n",
       "      <td>...</td>\n",
       "      <td>...</td>\n",
       "      <td>...</td>\n",
       "      <td>...</td>\n",
       "      <td>...</td>\n",
       "      <td>...</td>\n",
       "      <td>...</td>\n",
       "      <td>...</td>\n",
       "      <td>...</td>\n",
       "      <td>...</td>\n",
       "      <td>...</td>\n",
       "      <td>...</td>\n",
       "      <td>...</td>\n",
       "      <td>...</td>\n",
       "      <td>...</td>\n",
       "      <td>...</td>\n",
       "      <td>...</td>\n",
       "      <td>...</td>\n",
       "      <td>...</td>\n",
       "    </tr>\n",
       "    <tr>\n",
       "      <th>319790</th>\n",
       "      <td>-0.128233</td>\n",
       "      <td>2.014054</td>\n",
       "      <td>-0.645307</td>\n",
       "      <td>-0.821086</td>\n",
       "      <td>Yes</td>\n",
       "      <td>27.410</td>\n",
       "      <td>Yes</td>\n",
       "      <td>No</td>\n",
       "      <td>No</td>\n",
       "      <td>5</td>\n",
       "      <td>...</td>\n",
       "      <td>Male</td>\n",
       "      <td>Middle Age</td>\n",
       "      <td>Black</td>\n",
       "      <td>Yes</td>\n",
       "      <td>No</td>\n",
       "      <td>Fair</td>\n",
       "      <td>6</td>\n",
       "      <td>Yes</td>\n",
       "      <td>No</td>\n",
       "      <td>No</td>\n",
       "    </tr>\n",
       "    <tr>\n",
       "      <th>319791</th>\n",
       "      <td>0.293092</td>\n",
       "      <td>-0.580460</td>\n",
       "      <td>-0.645307</td>\n",
       "      <td>-1.580688</td>\n",
       "      <td>No</td>\n",
       "      <td>29.840</td>\n",
       "      <td>Yes</td>\n",
       "      <td>No</td>\n",
       "      <td>No</td>\n",
       "      <td>0</td>\n",
       "      <td>...</td>\n",
       "      <td>Male</td>\n",
       "      <td>Young Age</td>\n",
       "      <td>Black</td>\n",
       "      <td>No</td>\n",
       "      <td>Yes</td>\n",
       "      <td>Very Good</td>\n",
       "      <td>5</td>\n",
       "      <td>Yes</td>\n",
       "      <td>No</td>\n",
       "      <td>No</td>\n",
       "    </tr>\n",
       "    <tr>\n",
       "      <th>319792</th>\n",
       "      <td>-0.677862</td>\n",
       "      <td>-0.580460</td>\n",
       "      <td>-0.645307</td>\n",
       "      <td>-0.821086</td>\n",
       "      <td>No</td>\n",
       "      <td>24.240</td>\n",
       "      <td>No</td>\n",
       "      <td>No</td>\n",
       "      <td>No</td>\n",
       "      <td>0</td>\n",
       "      <td>...</td>\n",
       "      <td>Female</td>\n",
       "      <td>Middle Age</td>\n",
       "      <td>Black</td>\n",
       "      <td>No</td>\n",
       "      <td>Yes</td>\n",
       "      <td>Good</td>\n",
       "      <td>6</td>\n",
       "      <td>No</td>\n",
       "      <td>No</td>\n",
       "      <td>No</td>\n",
       "    </tr>\n",
       "    <tr>\n",
       "      <th>319793</th>\n",
       "      <td>0.808045</td>\n",
       "      <td>-0.580460</td>\n",
       "      <td>-0.645307</td>\n",
       "      <td>2.976925</td>\n",
       "      <td>No</td>\n",
       "      <td>32.810</td>\n",
       "      <td>No</td>\n",
       "      <td>No</td>\n",
       "      <td>No</td>\n",
       "      <td>0</td>\n",
       "      <td>...</td>\n",
       "      <td>Female</td>\n",
       "      <td>Young Age</td>\n",
       "      <td>Black</td>\n",
       "      <td>No</td>\n",
       "      <td>No</td>\n",
       "      <td>Good</td>\n",
       "      <td>11</td>\n",
       "      <td>No</td>\n",
       "      <td>No</td>\n",
       "      <td>No</td>\n",
       "    </tr>\n",
       "    <tr>\n",
       "      <th>319794</th>\n",
       "      <td>2.489010</td>\n",
       "      <td>-0.580460</td>\n",
       "      <td>-0.645307</td>\n",
       "      <td>0.698118</td>\n",
       "      <td>No</td>\n",
       "      <td>42.505</td>\n",
       "      <td>No</td>\n",
       "      <td>No</td>\n",
       "      <td>No</td>\n",
       "      <td>0</td>\n",
       "      <td>...</td>\n",
       "      <td>Female</td>\n",
       "      <td>Old age</td>\n",
       "      <td>Black</td>\n",
       "      <td>No</td>\n",
       "      <td>Yes</td>\n",
       "      <td>Good</td>\n",
       "      <td>8</td>\n",
       "      <td>No</td>\n",
       "      <td>No</td>\n",
       "      <td>No</td>\n",
       "    </tr>\n",
       "  </tbody>\n",
       "</table>\n",
       "<p>319795 rows × 22 columns</p>\n",
       "</div>"
      ],
      "text/plain": [
       "        BMI_scaled  PhysicalHealth_scaled  MentalHealth_scaled  \\\n",
       "0        -2.002522               0.976249             1.932050   \n",
       "1        -1.354063              -0.580460            -0.645307   \n",
       "2        -0.272142               2.014054             1.932050   \n",
       "3        -0.683064              -0.580460            -0.645307   \n",
       "4        -0.769756               2.014054            -0.645307   \n",
       "...            ...                    ...                  ...   \n",
       "319790   -0.128233               2.014054            -0.645307   \n",
       "319791    0.293092              -0.580460            -0.645307   \n",
       "319792   -0.677862              -0.580460            -0.645307   \n",
       "319793    0.808045              -0.580460            -0.645307   \n",
       "319794    2.489010              -0.580460            -0.645307   \n",
       "\n",
       "        SleepTime_scaled HeartDisease     BMI Smoking AlcoholDrinking Stroke  \\\n",
       "0              -1.580688           No  16.600     Yes              No     No   \n",
       "1              -0.061484           No  20.340      No              No    Yes   \n",
       "2               0.698118           No  26.580    Race              No     No   \n",
       "3              -0.821086           No  24.210      No              No     No   \n",
       "4               0.698118           No  23.710      No              No     No   \n",
       "...                  ...          ...     ...     ...             ...    ...   \n",
       "319790         -0.821086          Yes  27.410     Yes              No     No   \n",
       "319791         -1.580688           No  29.840     Yes              No     No   \n",
       "319792         -0.821086           No  24.240      No              No     No   \n",
       "319793          2.976925           No  32.810      No              No     No   \n",
       "319794          0.698118           No  42.505      No              No     No   \n",
       "\n",
       "        PhysicalHealth  ...  Gender AgeCategory Origin Diabetic Exercise  \\\n",
       "0                    3  ...  Female  Middle Age  White      Yes      Yes   \n",
       "1                    0  ...  Female     Old age  White       No      Yes   \n",
       "2                    5  ...    Male     Old age  White      Yes      Yes   \n",
       "3                    0  ...  Female     Old age  White       No       No   \n",
       "4                    5  ...  Female   Young Age  White       No      Yes   \n",
       "...                ...  ...     ...         ...    ...      ...      ...   \n",
       "319790               5  ...    Male  Middle Age  Black      Yes       No   \n",
       "319791               0  ...    Male   Young Age  Black       No      Yes   \n",
       "319792               0  ...  Female  Middle Age  Black       No      Yes   \n",
       "319793               0  ...  Female   Young Age  Black       No       No   \n",
       "319794               0  ...  Female     Old age  Black       No      Yes   \n",
       "\n",
       "        GenHealth SleepTime Asthma  KidneyDisease Cancer  \n",
       "0       Very Good         5    Yes             No    Yes  \n",
       "1       Very Good         7     No             No     No  \n",
       "2            Fair         8    Yes             No     No  \n",
       "3            Good         6     No             No    Yes  \n",
       "4       Very Good         8     No             No     No  \n",
       "...           ...       ...    ...            ...    ...  \n",
       "319790       Fair         6    Yes             No     No  \n",
       "319791  Very Good         5    Yes             No     No  \n",
       "319792       Good         6     No             No     No  \n",
       "319793       Good        11     No             No     No  \n",
       "319794       Good         8     No             No     No  \n",
       "\n",
       "[319795 rows x 22 columns]"
      ]
     },
     "execution_count": 67,
     "metadata": {},
     "output_type": "execute_result"
    }
   ],
   "source": [
    "final_data"
   ]
  },
  {
   "cell_type": "code",
   "execution_count": 68,
   "id": "300837d2",
   "metadata": {},
   "outputs": [],
   "source": [
    "final_data.drop(['BMI', 'PhysicalHealth', 'MentalHealth', 'SleepTime'] , axis = 1,inplace=True)"
   ]
  },
  {
   "cell_type": "code",
   "execution_count": 69,
   "id": "62b06e2c",
   "metadata": {},
   "outputs": [
    {
     "data": {
      "text/html": [
       "<div>\n",
       "<style scoped>\n",
       "    .dataframe tbody tr th:only-of-type {\n",
       "        vertical-align: middle;\n",
       "    }\n",
       "\n",
       "    .dataframe tbody tr th {\n",
       "        vertical-align: top;\n",
       "    }\n",
       "\n",
       "    .dataframe thead th {\n",
       "        text-align: right;\n",
       "    }\n",
       "</style>\n",
       "<table border=\"1\" class=\"dataframe\">\n",
       "  <thead>\n",
       "    <tr style=\"text-align: right;\">\n",
       "      <th></th>\n",
       "      <th>BMI_scaled</th>\n",
       "      <th>PhysicalHealth_scaled</th>\n",
       "      <th>MentalHealth_scaled</th>\n",
       "      <th>SleepTime_scaled</th>\n",
       "      <th>HeartDisease</th>\n",
       "      <th>Smoking</th>\n",
       "      <th>AlcoholDrinking</th>\n",
       "      <th>Stroke</th>\n",
       "      <th>WalkingDifficulty</th>\n",
       "      <th>Gender</th>\n",
       "      <th>AgeCategory</th>\n",
       "      <th>Origin</th>\n",
       "      <th>Diabetic</th>\n",
       "      <th>Exercise</th>\n",
       "      <th>GenHealth</th>\n",
       "      <th>Asthma</th>\n",
       "      <th>KidneyDisease</th>\n",
       "      <th>Cancer</th>\n",
       "    </tr>\n",
       "  </thead>\n",
       "  <tbody>\n",
       "    <tr>\n",
       "      <th>0</th>\n",
       "      <td>-2.002522</td>\n",
       "      <td>0.976249</td>\n",
       "      <td>1.932050</td>\n",
       "      <td>-1.580688</td>\n",
       "      <td>No</td>\n",
       "      <td>Yes</td>\n",
       "      <td>No</td>\n",
       "      <td>No</td>\n",
       "      <td>No</td>\n",
       "      <td>Female</td>\n",
       "      <td>Middle Age</td>\n",
       "      <td>White</td>\n",
       "      <td>Yes</td>\n",
       "      <td>Yes</td>\n",
       "      <td>Very Good</td>\n",
       "      <td>Yes</td>\n",
       "      <td>No</td>\n",
       "      <td>Yes</td>\n",
       "    </tr>\n",
       "    <tr>\n",
       "      <th>1</th>\n",
       "      <td>-1.354063</td>\n",
       "      <td>-0.580460</td>\n",
       "      <td>-0.645307</td>\n",
       "      <td>-0.061484</td>\n",
       "      <td>No</td>\n",
       "      <td>No</td>\n",
       "      <td>No</td>\n",
       "      <td>Yes</td>\n",
       "      <td>No</td>\n",
       "      <td>Female</td>\n",
       "      <td>Old age</td>\n",
       "      <td>White</td>\n",
       "      <td>No</td>\n",
       "      <td>Yes</td>\n",
       "      <td>Very Good</td>\n",
       "      <td>No</td>\n",
       "      <td>No</td>\n",
       "      <td>No</td>\n",
       "    </tr>\n",
       "    <tr>\n",
       "      <th>2</th>\n",
       "      <td>-0.272142</td>\n",
       "      <td>2.014054</td>\n",
       "      <td>1.932050</td>\n",
       "      <td>0.698118</td>\n",
       "      <td>No</td>\n",
       "      <td>Race</td>\n",
       "      <td>No</td>\n",
       "      <td>No</td>\n",
       "      <td>No</td>\n",
       "      <td>Male</td>\n",
       "      <td>Old age</td>\n",
       "      <td>White</td>\n",
       "      <td>Yes</td>\n",
       "      <td>Yes</td>\n",
       "      <td>Fair</td>\n",
       "      <td>Yes</td>\n",
       "      <td>No</td>\n",
       "      <td>No</td>\n",
       "    </tr>\n",
       "    <tr>\n",
       "      <th>3</th>\n",
       "      <td>-0.683064</td>\n",
       "      <td>-0.580460</td>\n",
       "      <td>-0.645307</td>\n",
       "      <td>-0.821086</td>\n",
       "      <td>No</td>\n",
       "      <td>No</td>\n",
       "      <td>No</td>\n",
       "      <td>No</td>\n",
       "      <td>No</td>\n",
       "      <td>Female</td>\n",
       "      <td>Old age</td>\n",
       "      <td>White</td>\n",
       "      <td>No</td>\n",
       "      <td>No</td>\n",
       "      <td>Good</td>\n",
       "      <td>No</td>\n",
       "      <td>No</td>\n",
       "      <td>Yes</td>\n",
       "    </tr>\n",
       "    <tr>\n",
       "      <th>4</th>\n",
       "      <td>-0.769756</td>\n",
       "      <td>2.014054</td>\n",
       "      <td>-0.645307</td>\n",
       "      <td>0.698118</td>\n",
       "      <td>No</td>\n",
       "      <td>No</td>\n",
       "      <td>No</td>\n",
       "      <td>No</td>\n",
       "      <td>Yes</td>\n",
       "      <td>Female</td>\n",
       "      <td>Young Age</td>\n",
       "      <td>White</td>\n",
       "      <td>No</td>\n",
       "      <td>Yes</td>\n",
       "      <td>Very Good</td>\n",
       "      <td>No</td>\n",
       "      <td>No</td>\n",
       "      <td>No</td>\n",
       "    </tr>\n",
       "    <tr>\n",
       "      <th>...</th>\n",
       "      <td>...</td>\n",
       "      <td>...</td>\n",
       "      <td>...</td>\n",
       "      <td>...</td>\n",
       "      <td>...</td>\n",
       "      <td>...</td>\n",
       "      <td>...</td>\n",
       "      <td>...</td>\n",
       "      <td>...</td>\n",
       "      <td>...</td>\n",
       "      <td>...</td>\n",
       "      <td>...</td>\n",
       "      <td>...</td>\n",
       "      <td>...</td>\n",
       "      <td>...</td>\n",
       "      <td>...</td>\n",
       "      <td>...</td>\n",
       "      <td>...</td>\n",
       "    </tr>\n",
       "    <tr>\n",
       "      <th>319790</th>\n",
       "      <td>-0.128233</td>\n",
       "      <td>2.014054</td>\n",
       "      <td>-0.645307</td>\n",
       "      <td>-0.821086</td>\n",
       "      <td>Yes</td>\n",
       "      <td>Yes</td>\n",
       "      <td>No</td>\n",
       "      <td>No</td>\n",
       "      <td>Yes</td>\n",
       "      <td>Male</td>\n",
       "      <td>Middle Age</td>\n",
       "      <td>Black</td>\n",
       "      <td>Yes</td>\n",
       "      <td>No</td>\n",
       "      <td>Fair</td>\n",
       "      <td>Yes</td>\n",
       "      <td>No</td>\n",
       "      <td>No</td>\n",
       "    </tr>\n",
       "    <tr>\n",
       "      <th>319791</th>\n",
       "      <td>0.293092</td>\n",
       "      <td>-0.580460</td>\n",
       "      <td>-0.645307</td>\n",
       "      <td>-1.580688</td>\n",
       "      <td>No</td>\n",
       "      <td>Yes</td>\n",
       "      <td>No</td>\n",
       "      <td>No</td>\n",
       "      <td>No</td>\n",
       "      <td>Male</td>\n",
       "      <td>Young Age</td>\n",
       "      <td>Black</td>\n",
       "      <td>No</td>\n",
       "      <td>Yes</td>\n",
       "      <td>Very Good</td>\n",
       "      <td>Yes</td>\n",
       "      <td>No</td>\n",
       "      <td>No</td>\n",
       "    </tr>\n",
       "    <tr>\n",
       "      <th>319792</th>\n",
       "      <td>-0.677862</td>\n",
       "      <td>-0.580460</td>\n",
       "      <td>-0.645307</td>\n",
       "      <td>-0.821086</td>\n",
       "      <td>No</td>\n",
       "      <td>No</td>\n",
       "      <td>No</td>\n",
       "      <td>No</td>\n",
       "      <td>No</td>\n",
       "      <td>Female</td>\n",
       "      <td>Middle Age</td>\n",
       "      <td>Black</td>\n",
       "      <td>No</td>\n",
       "      <td>Yes</td>\n",
       "      <td>Good</td>\n",
       "      <td>No</td>\n",
       "      <td>No</td>\n",
       "      <td>No</td>\n",
       "    </tr>\n",
       "    <tr>\n",
       "      <th>319793</th>\n",
       "      <td>0.808045</td>\n",
       "      <td>-0.580460</td>\n",
       "      <td>-0.645307</td>\n",
       "      <td>2.976925</td>\n",
       "      <td>No</td>\n",
       "      <td>No</td>\n",
       "      <td>No</td>\n",
       "      <td>No</td>\n",
       "      <td>No</td>\n",
       "      <td>Female</td>\n",
       "      <td>Young Age</td>\n",
       "      <td>Black</td>\n",
       "      <td>No</td>\n",
       "      <td>No</td>\n",
       "      <td>Good</td>\n",
       "      <td>No</td>\n",
       "      <td>No</td>\n",
       "      <td>No</td>\n",
       "    </tr>\n",
       "    <tr>\n",
       "      <th>319794</th>\n",
       "      <td>2.489010</td>\n",
       "      <td>-0.580460</td>\n",
       "      <td>-0.645307</td>\n",
       "      <td>0.698118</td>\n",
       "      <td>No</td>\n",
       "      <td>No</td>\n",
       "      <td>No</td>\n",
       "      <td>No</td>\n",
       "      <td>No</td>\n",
       "      <td>Female</td>\n",
       "      <td>Old age</td>\n",
       "      <td>Black</td>\n",
       "      <td>No</td>\n",
       "      <td>Yes</td>\n",
       "      <td>Good</td>\n",
       "      <td>No</td>\n",
       "      <td>No</td>\n",
       "      <td>No</td>\n",
       "    </tr>\n",
       "  </tbody>\n",
       "</table>\n",
       "<p>319795 rows × 18 columns</p>\n",
       "</div>"
      ],
      "text/plain": [
       "        BMI_scaled  PhysicalHealth_scaled  MentalHealth_scaled  \\\n",
       "0        -2.002522               0.976249             1.932050   \n",
       "1        -1.354063              -0.580460            -0.645307   \n",
       "2        -0.272142               2.014054             1.932050   \n",
       "3        -0.683064              -0.580460            -0.645307   \n",
       "4        -0.769756               2.014054            -0.645307   \n",
       "...            ...                    ...                  ...   \n",
       "319790   -0.128233               2.014054            -0.645307   \n",
       "319791    0.293092              -0.580460            -0.645307   \n",
       "319792   -0.677862              -0.580460            -0.645307   \n",
       "319793    0.808045              -0.580460            -0.645307   \n",
       "319794    2.489010              -0.580460            -0.645307   \n",
       "\n",
       "        SleepTime_scaled HeartDisease Smoking AlcoholDrinking Stroke  \\\n",
       "0              -1.580688           No     Yes              No     No   \n",
       "1              -0.061484           No      No              No    Yes   \n",
       "2               0.698118           No    Race              No     No   \n",
       "3              -0.821086           No      No              No     No   \n",
       "4               0.698118           No      No              No     No   \n",
       "...                  ...          ...     ...             ...    ...   \n",
       "319790         -0.821086          Yes     Yes              No     No   \n",
       "319791         -1.580688           No     Yes              No     No   \n",
       "319792         -0.821086           No      No              No     No   \n",
       "319793          2.976925           No      No              No     No   \n",
       "319794          0.698118           No      No              No     No   \n",
       "\n",
       "       WalkingDifficulty  Gender AgeCategory Origin Diabetic Exercise  \\\n",
       "0                     No  Female  Middle Age  White      Yes      Yes   \n",
       "1                     No  Female     Old age  White       No      Yes   \n",
       "2                     No    Male     Old age  White      Yes      Yes   \n",
       "3                     No  Female     Old age  White       No       No   \n",
       "4                    Yes  Female   Young Age  White       No      Yes   \n",
       "...                  ...     ...         ...    ...      ...      ...   \n",
       "319790               Yes    Male  Middle Age  Black      Yes       No   \n",
       "319791                No    Male   Young Age  Black       No      Yes   \n",
       "319792                No  Female  Middle Age  Black       No      Yes   \n",
       "319793                No  Female   Young Age  Black       No       No   \n",
       "319794                No  Female     Old age  Black       No      Yes   \n",
       "\n",
       "        GenHealth Asthma KidneyDisease Cancer  \n",
       "0       Very Good    Yes            No    Yes  \n",
       "1       Very Good     No            No     No  \n",
       "2            Fair    Yes            No     No  \n",
       "3            Good     No            No    Yes  \n",
       "4       Very Good     No            No     No  \n",
       "...           ...    ...           ...    ...  \n",
       "319790       Fair    Yes            No     No  \n",
       "319791  Very Good    Yes            No     No  \n",
       "319792       Good     No            No     No  \n",
       "319793       Good     No            No     No  \n",
       "319794       Good     No            No     No  \n",
       "\n",
       "[319795 rows x 18 columns]"
      ]
     },
     "execution_count": 69,
     "metadata": {},
     "output_type": "execute_result"
    }
   ],
   "source": [
    "final_data"
   ]
  },
  {
   "cell_type": "markdown",
   "id": "6e2eb401",
   "metadata": {},
   "source": [
    "## Encoding the Categorical Columns"
   ]
  },
  {
   "cell_type": "markdown",
   "id": "94febdb6",
   "metadata": {},
   "source": [
    "**Using The Label Encoder for all categorical colums except the columns where Binning is done.**"
   ]
  },
  {
   "cell_type": "code",
   "execution_count": 70,
   "id": "89f3694f",
   "metadata": {},
   "outputs": [],
   "source": [
    "# Import the label Encoder\n",
    "from sklearn.preprocessing import LabelEncoder\n",
    "\n",
    "# Intialising the Label Encoder\n",
    "Le=LabelEncoder()"
   ]
  },
  {
   "cell_type": "code",
   "execution_count": 71,
   "id": "c6529264",
   "metadata": {},
   "outputs": [
    {
     "data": {
      "text/plain": [
       "Index(['HeartDisease', 'Smoking', 'AlcoholDrinking', 'Stroke',\n",
       "       'WalkingDifficulty', 'Gender', 'AgeCategory', 'Origin', 'Diabetic',\n",
       "       'Exercise', 'GenHealth', 'Asthma', 'KidneyDisease', 'Cancer'],\n",
       "      dtype='object')"
      ]
     },
     "execution_count": 71,
     "metadata": {},
     "output_type": "execute_result"
    }
   ],
   "source": [
    "final_data.select_dtypes(include='object').columns"
   ]
  },
  {
   "cell_type": "markdown",
   "id": "ea552a33",
   "metadata": {},
   "source": [
    "Now, selecting the categorical columns and applying the label encoder on it."
   ]
  },
  {
   "cell_type": "code",
   "execution_count": 72,
   "id": "b204a2f1",
   "metadata": {},
   "outputs": [],
   "source": [
    "cat_label =['HeartDisease', 'Smoking', 'AlcoholDrinking', 'Stroke','WalkingDifficulty', 'Gender', 'Diabetic',\n",
    "       'Exercise', 'Asthma', 'KidneyDisease', 'Cancer']"
   ]
  },
  {
   "cell_type": "code",
   "execution_count": 73,
   "id": "b90c3c7c",
   "metadata": {},
   "outputs": [],
   "source": [
    "final_data[cat_label]=final_data[cat_label].apply(Le.fit_transform)"
   ]
  },
  {
   "cell_type": "code",
   "execution_count": 74,
   "id": "3defdbe5",
   "metadata": {},
   "outputs": [
    {
     "data": {
      "text/plain": [
       "0    292422\n",
       "1     27373\n",
       "Name: HeartDisease, dtype: int64"
      ]
     },
     "execution_count": 74,
     "metadata": {},
     "output_type": "execute_result"
    }
   ],
   "source": [
    "final_data.HeartDisease.value_counts()"
   ]
  },
  {
   "cell_type": "markdown",
   "id": "aa134f6f",
   "metadata": {},
   "source": [
    "**Encoding the the columns on which Binng is done using .replace function**"
   ]
  },
  {
   "cell_type": "code",
   "execution_count": 75,
   "id": "9c183429",
   "metadata": {},
   "outputs": [
    {
     "data": {
      "text/html": [
       "<div>\n",
       "<style scoped>\n",
       "    .dataframe tbody tr th:only-of-type {\n",
       "        vertical-align: middle;\n",
       "    }\n",
       "\n",
       "    .dataframe tbody tr th {\n",
       "        vertical-align: top;\n",
       "    }\n",
       "\n",
       "    .dataframe thead th {\n",
       "        text-align: right;\n",
       "    }\n",
       "</style>\n",
       "<table border=\"1\" class=\"dataframe\">\n",
       "  <thead>\n",
       "    <tr style=\"text-align: right;\">\n",
       "      <th></th>\n",
       "      <th>BMI_scaled</th>\n",
       "      <th>PhysicalHealth_scaled</th>\n",
       "      <th>MentalHealth_scaled</th>\n",
       "      <th>SleepTime_scaled</th>\n",
       "      <th>HeartDisease</th>\n",
       "      <th>Smoking</th>\n",
       "      <th>AlcoholDrinking</th>\n",
       "      <th>Stroke</th>\n",
       "      <th>WalkingDifficulty</th>\n",
       "      <th>Gender</th>\n",
       "      <th>AgeCategory</th>\n",
       "      <th>Origin</th>\n",
       "      <th>Diabetic</th>\n",
       "      <th>Exercise</th>\n",
       "      <th>GenHealth</th>\n",
       "      <th>Asthma</th>\n",
       "      <th>KidneyDisease</th>\n",
       "      <th>Cancer</th>\n",
       "    </tr>\n",
       "  </thead>\n",
       "  <tbody>\n",
       "    <tr>\n",
       "      <th>0</th>\n",
       "      <td>-2.002522</td>\n",
       "      <td>0.976249</td>\n",
       "      <td>1.932050</td>\n",
       "      <td>-1.580688</td>\n",
       "      <td>0</td>\n",
       "      <td>2</td>\n",
       "      <td>0</td>\n",
       "      <td>0</td>\n",
       "      <td>0</td>\n",
       "      <td>0</td>\n",
       "      <td>Middle Age</td>\n",
       "      <td>White</td>\n",
       "      <td>2</td>\n",
       "      <td>1</td>\n",
       "      <td>Very Good</td>\n",
       "      <td>1</td>\n",
       "      <td>0</td>\n",
       "      <td>1</td>\n",
       "    </tr>\n",
       "    <tr>\n",
       "      <th>1</th>\n",
       "      <td>-1.354063</td>\n",
       "      <td>-0.580460</td>\n",
       "      <td>-0.645307</td>\n",
       "      <td>-0.061484</td>\n",
       "      <td>0</td>\n",
       "      <td>0</td>\n",
       "      <td>0</td>\n",
       "      <td>1</td>\n",
       "      <td>0</td>\n",
       "      <td>0</td>\n",
       "      <td>Old age</td>\n",
       "      <td>White</td>\n",
       "      <td>0</td>\n",
       "      <td>1</td>\n",
       "      <td>Very Good</td>\n",
       "      <td>0</td>\n",
       "      <td>0</td>\n",
       "      <td>0</td>\n",
       "    </tr>\n",
       "    <tr>\n",
       "      <th>2</th>\n",
       "      <td>-0.272142</td>\n",
       "      <td>2.014054</td>\n",
       "      <td>1.932050</td>\n",
       "      <td>0.698118</td>\n",
       "      <td>0</td>\n",
       "      <td>1</td>\n",
       "      <td>0</td>\n",
       "      <td>0</td>\n",
       "      <td>0</td>\n",
       "      <td>1</td>\n",
       "      <td>Old age</td>\n",
       "      <td>White</td>\n",
       "      <td>2</td>\n",
       "      <td>1</td>\n",
       "      <td>Fair</td>\n",
       "      <td>1</td>\n",
       "      <td>0</td>\n",
       "      <td>0</td>\n",
       "    </tr>\n",
       "    <tr>\n",
       "      <th>3</th>\n",
       "      <td>-0.683064</td>\n",
       "      <td>-0.580460</td>\n",
       "      <td>-0.645307</td>\n",
       "      <td>-0.821086</td>\n",
       "      <td>0</td>\n",
       "      <td>0</td>\n",
       "      <td>0</td>\n",
       "      <td>0</td>\n",
       "      <td>0</td>\n",
       "      <td>0</td>\n",
       "      <td>Old age</td>\n",
       "      <td>White</td>\n",
       "      <td>0</td>\n",
       "      <td>0</td>\n",
       "      <td>Good</td>\n",
       "      <td>0</td>\n",
       "      <td>0</td>\n",
       "      <td>1</td>\n",
       "    </tr>\n",
       "    <tr>\n",
       "      <th>4</th>\n",
       "      <td>-0.769756</td>\n",
       "      <td>2.014054</td>\n",
       "      <td>-0.645307</td>\n",
       "      <td>0.698118</td>\n",
       "      <td>0</td>\n",
       "      <td>0</td>\n",
       "      <td>0</td>\n",
       "      <td>0</td>\n",
       "      <td>1</td>\n",
       "      <td>0</td>\n",
       "      <td>Young Age</td>\n",
       "      <td>White</td>\n",
       "      <td>0</td>\n",
       "      <td>1</td>\n",
       "      <td>Very Good</td>\n",
       "      <td>0</td>\n",
       "      <td>0</td>\n",
       "      <td>0</td>\n",
       "    </tr>\n",
       "  </tbody>\n",
       "</table>\n",
       "</div>"
      ],
      "text/plain": [
       "   BMI_scaled  PhysicalHealth_scaled  MentalHealth_scaled  SleepTime_scaled  \\\n",
       "0   -2.002522               0.976249             1.932050         -1.580688   \n",
       "1   -1.354063              -0.580460            -0.645307         -0.061484   \n",
       "2   -0.272142               2.014054             1.932050          0.698118   \n",
       "3   -0.683064              -0.580460            -0.645307         -0.821086   \n",
       "4   -0.769756               2.014054            -0.645307          0.698118   \n",
       "\n",
       "   HeartDisease  Smoking  AlcoholDrinking  Stroke  WalkingDifficulty  Gender  \\\n",
       "0             0        2                0       0                  0       0   \n",
       "1             0        0                0       1                  0       0   \n",
       "2             0        1                0       0                  0       1   \n",
       "3             0        0                0       0                  0       0   \n",
       "4             0        0                0       0                  1       0   \n",
       "\n",
       "  AgeCategory Origin  Diabetic  Exercise  GenHealth  Asthma  KidneyDisease  \\\n",
       "0  Middle Age  White         2         1  Very Good       1              0   \n",
       "1     Old age  White         0         1  Very Good       0              0   \n",
       "2     Old age  White         2         1       Fair       1              0   \n",
       "3     Old age  White         0         0       Good       0              0   \n",
       "4   Young Age  White         0         1  Very Good       0              0   \n",
       "\n",
       "   Cancer  \n",
       "0       1  \n",
       "1       0  \n",
       "2       0  \n",
       "3       1  \n",
       "4       0  "
      ]
     },
     "execution_count": 75,
     "metadata": {},
     "output_type": "execute_result"
    }
   ],
   "source": [
    "final_data.head()"
   ]
  },
  {
   "cell_type": "code",
   "execution_count": 76,
   "id": "1b685dc3",
   "metadata": {},
   "outputs": [],
   "source": [
    "final_data['AgeCategory'].replace({'Young Age': 0, 'Middle Age': 1,'Old age':2},inplace=True)"
   ]
  },
  {
   "cell_type": "markdown",
   "id": "d09be24e",
   "metadata": {},
   "source": [
    "In Age Category column-: \n",
    "* Young Age is replaced by 0 \n",
    "* Middle Age by 1\n",
    "* Old Age by 2."
   ]
  },
  {
   "cell_type": "code",
   "execution_count": 77,
   "id": "1b31ba90",
   "metadata": {},
   "outputs": [],
   "source": [
    "final_data['Origin'].replace({'White':0,'Black':1,'Other':2},inplace=True)"
   ]
  },
  {
   "cell_type": "markdown",
   "id": "85e7e0a3",
   "metadata": {},
   "source": [
    "In Origin column-: \n",
    "* White is replaced by 0 \n",
    "* Black Age by 1\n",
    "* Other by 2."
   ]
  },
  {
   "cell_type": "code",
   "execution_count": 78,
   "id": "5f0f1b19",
   "metadata": {},
   "outputs": [],
   "source": [
    "final_data['GenHealth'].replace({'Very Good':0,'Good':1,'Fair':2},inplace=True)"
   ]
  },
  {
   "cell_type": "markdown",
   "id": "53157383",
   "metadata": {},
   "source": [
    "In GenHealth column-: \n",
    "* Very Good is replaced by 0 \n",
    "* Good by 1\n",
    "* Fair by 2."
   ]
  },
  {
   "cell_type": "code",
   "execution_count": 79,
   "id": "3ba431a1",
   "metadata": {},
   "outputs": [
    {
     "data": {
      "text/html": [
       "<div>\n",
       "<style scoped>\n",
       "    .dataframe tbody tr th:only-of-type {\n",
       "        vertical-align: middle;\n",
       "    }\n",
       "\n",
       "    .dataframe tbody tr th {\n",
       "        vertical-align: top;\n",
       "    }\n",
       "\n",
       "    .dataframe thead th {\n",
       "        text-align: right;\n",
       "    }\n",
       "</style>\n",
       "<table border=\"1\" class=\"dataframe\">\n",
       "  <thead>\n",
       "    <tr style=\"text-align: right;\">\n",
       "      <th></th>\n",
       "      <th>BMI_scaled</th>\n",
       "      <th>PhysicalHealth_scaled</th>\n",
       "      <th>MentalHealth_scaled</th>\n",
       "      <th>SleepTime_scaled</th>\n",
       "      <th>HeartDisease</th>\n",
       "      <th>Smoking</th>\n",
       "      <th>AlcoholDrinking</th>\n",
       "      <th>Stroke</th>\n",
       "      <th>WalkingDifficulty</th>\n",
       "      <th>Gender</th>\n",
       "      <th>AgeCategory</th>\n",
       "      <th>Origin</th>\n",
       "      <th>Diabetic</th>\n",
       "      <th>Exercise</th>\n",
       "      <th>GenHealth</th>\n",
       "      <th>Asthma</th>\n",
       "      <th>KidneyDisease</th>\n",
       "      <th>Cancer</th>\n",
       "    </tr>\n",
       "  </thead>\n",
       "  <tbody>\n",
       "    <tr>\n",
       "      <th>0</th>\n",
       "      <td>-2.002522</td>\n",
       "      <td>0.976249</td>\n",
       "      <td>1.932050</td>\n",
       "      <td>-1.580688</td>\n",
       "      <td>0</td>\n",
       "      <td>2</td>\n",
       "      <td>0</td>\n",
       "      <td>0</td>\n",
       "      <td>0</td>\n",
       "      <td>0</td>\n",
       "      <td>1</td>\n",
       "      <td>0</td>\n",
       "      <td>2</td>\n",
       "      <td>1</td>\n",
       "      <td>0</td>\n",
       "      <td>1</td>\n",
       "      <td>0</td>\n",
       "      <td>1</td>\n",
       "    </tr>\n",
       "    <tr>\n",
       "      <th>1</th>\n",
       "      <td>-1.354063</td>\n",
       "      <td>-0.580460</td>\n",
       "      <td>-0.645307</td>\n",
       "      <td>-0.061484</td>\n",
       "      <td>0</td>\n",
       "      <td>0</td>\n",
       "      <td>0</td>\n",
       "      <td>1</td>\n",
       "      <td>0</td>\n",
       "      <td>0</td>\n",
       "      <td>2</td>\n",
       "      <td>0</td>\n",
       "      <td>0</td>\n",
       "      <td>1</td>\n",
       "      <td>0</td>\n",
       "      <td>0</td>\n",
       "      <td>0</td>\n",
       "      <td>0</td>\n",
       "    </tr>\n",
       "    <tr>\n",
       "      <th>2</th>\n",
       "      <td>-0.272142</td>\n",
       "      <td>2.014054</td>\n",
       "      <td>1.932050</td>\n",
       "      <td>0.698118</td>\n",
       "      <td>0</td>\n",
       "      <td>1</td>\n",
       "      <td>0</td>\n",
       "      <td>0</td>\n",
       "      <td>0</td>\n",
       "      <td>1</td>\n",
       "      <td>2</td>\n",
       "      <td>0</td>\n",
       "      <td>2</td>\n",
       "      <td>1</td>\n",
       "      <td>2</td>\n",
       "      <td>1</td>\n",
       "      <td>0</td>\n",
       "      <td>0</td>\n",
       "    </tr>\n",
       "    <tr>\n",
       "      <th>3</th>\n",
       "      <td>-0.683064</td>\n",
       "      <td>-0.580460</td>\n",
       "      <td>-0.645307</td>\n",
       "      <td>-0.821086</td>\n",
       "      <td>0</td>\n",
       "      <td>0</td>\n",
       "      <td>0</td>\n",
       "      <td>0</td>\n",
       "      <td>0</td>\n",
       "      <td>0</td>\n",
       "      <td>2</td>\n",
       "      <td>0</td>\n",
       "      <td>0</td>\n",
       "      <td>0</td>\n",
       "      <td>1</td>\n",
       "      <td>0</td>\n",
       "      <td>0</td>\n",
       "      <td>1</td>\n",
       "    </tr>\n",
       "    <tr>\n",
       "      <th>4</th>\n",
       "      <td>-0.769756</td>\n",
       "      <td>2.014054</td>\n",
       "      <td>-0.645307</td>\n",
       "      <td>0.698118</td>\n",
       "      <td>0</td>\n",
       "      <td>0</td>\n",
       "      <td>0</td>\n",
       "      <td>0</td>\n",
       "      <td>1</td>\n",
       "      <td>0</td>\n",
       "      <td>0</td>\n",
       "      <td>0</td>\n",
       "      <td>0</td>\n",
       "      <td>1</td>\n",
       "      <td>0</td>\n",
       "      <td>0</td>\n",
       "      <td>0</td>\n",
       "      <td>0</td>\n",
       "    </tr>\n",
       "  </tbody>\n",
       "</table>\n",
       "</div>"
      ],
      "text/plain": [
       "   BMI_scaled  PhysicalHealth_scaled  MentalHealth_scaled  SleepTime_scaled  \\\n",
       "0   -2.002522               0.976249             1.932050         -1.580688   \n",
       "1   -1.354063              -0.580460            -0.645307         -0.061484   \n",
       "2   -0.272142               2.014054             1.932050          0.698118   \n",
       "3   -0.683064              -0.580460            -0.645307         -0.821086   \n",
       "4   -0.769756               2.014054            -0.645307          0.698118   \n",
       "\n",
       "   HeartDisease  Smoking  AlcoholDrinking  Stroke  WalkingDifficulty  Gender  \\\n",
       "0             0        2                0       0                  0       0   \n",
       "1             0        0                0       1                  0       0   \n",
       "2             0        1                0       0                  0       1   \n",
       "3             0        0                0       0                  0       0   \n",
       "4             0        0                0       0                  1       0   \n",
       "\n",
       "   AgeCategory  Origin  Diabetic  Exercise  GenHealth  Asthma  KidneyDisease  \\\n",
       "0            1       0         2         1          0       1              0   \n",
       "1            2       0         0         1          0       0              0   \n",
       "2            2       0         2         1          2       1              0   \n",
       "3            2       0         0         0          1       0              0   \n",
       "4            0       0         0         1          0       0              0   \n",
       "\n",
       "   Cancer  \n",
       "0       1  \n",
       "1       0  \n",
       "2       0  \n",
       "3       1  \n",
       "4       0  "
      ]
     },
     "execution_count": 79,
     "metadata": {},
     "output_type": "execute_result"
    }
   ],
   "source": [
    "final_data.head()"
   ]
  },
  {
   "cell_type": "markdown",
   "id": "1aef3385",
   "metadata": {},
   "source": [
    "# Detection of Multi Collinearity "
   ]
  },
  {
   "cell_type": "code",
   "execution_count": 80,
   "id": "0290aea9",
   "metadata": {},
   "outputs": [
    {
     "data": {
      "text/html": [
       "<div>\n",
       "<style scoped>\n",
       "    .dataframe tbody tr th:only-of-type {\n",
       "        vertical-align: middle;\n",
       "    }\n",
       "\n",
       "    .dataframe tbody tr th {\n",
       "        vertical-align: top;\n",
       "    }\n",
       "\n",
       "    .dataframe thead th {\n",
       "        text-align: right;\n",
       "    }\n",
       "</style>\n",
       "<table border=\"1\" class=\"dataframe\">\n",
       "  <thead>\n",
       "    <tr style=\"text-align: right;\">\n",
       "      <th></th>\n",
       "      <th>Features</th>\n",
       "      <th>VIF</th>\n",
       "    </tr>\n",
       "  </thead>\n",
       "  <tbody>\n",
       "    <tr>\n",
       "      <th>3</th>\n",
       "      <td>SleepTime_scaled</td>\n",
       "      <td>1.036931</td>\n",
       "    </tr>\n",
       "    <tr>\n",
       "      <th>0</th>\n",
       "      <td>BMI_scaled</td>\n",
       "      <td>1.092520</td>\n",
       "    </tr>\n",
       "    <tr>\n",
       "      <th>6</th>\n",
       "      <td>AlcoholDrinking</td>\n",
       "      <td>1.093555</td>\n",
       "    </tr>\n",
       "    <tr>\n",
       "      <th>16</th>\n",
       "      <td>KidneyDisease</td>\n",
       "      <td>1.103654</td>\n",
       "    </tr>\n",
       "    <tr>\n",
       "      <th>7</th>\n",
       "      <td>Stroke</td>\n",
       "      <td>1.117207</td>\n",
       "    </tr>\n",
       "    <tr>\n",
       "      <th>15</th>\n",
       "      <td>Asthma</td>\n",
       "      <td>1.185334</td>\n",
       "    </tr>\n",
       "    <tr>\n",
       "      <th>2</th>\n",
       "      <td>MentalHealth_scaled</td>\n",
       "      <td>1.187708</td>\n",
       "    </tr>\n",
       "    <tr>\n",
       "      <th>17</th>\n",
       "      <td>Cancer</td>\n",
       "      <td>1.195433</td>\n",
       "    </tr>\n",
       "    <tr>\n",
       "      <th>4</th>\n",
       "      <td>HeartDisease</td>\n",
       "      <td>1.258992</td>\n",
       "    </tr>\n",
       "    <tr>\n",
       "      <th>11</th>\n",
       "      <td>Origin</td>\n",
       "      <td>1.268153</td>\n",
       "    </tr>\n",
       "    <tr>\n",
       "      <th>1</th>\n",
       "      <td>PhysicalHealth_scaled</td>\n",
       "      <td>1.337981</td>\n",
       "    </tr>\n",
       "    <tr>\n",
       "      <th>12</th>\n",
       "      <td>Diabetic</td>\n",
       "      <td>1.351409</td>\n",
       "    </tr>\n",
       "    <tr>\n",
       "      <th>8</th>\n",
       "      <td>WalkingDifficulty</td>\n",
       "      <td>1.604017</td>\n",
       "    </tr>\n",
       "    <tr>\n",
       "      <th>5</th>\n",
       "      <td>Smoking</td>\n",
       "      <td>1.752127</td>\n",
       "    </tr>\n",
       "    <tr>\n",
       "      <th>9</th>\n",
       "      <td>Gender</td>\n",
       "      <td>1.857434</td>\n",
       "    </tr>\n",
       "    <tr>\n",
       "      <th>14</th>\n",
       "      <td>GenHealth</td>\n",
       "      <td>2.644910</td>\n",
       "    </tr>\n",
       "    <tr>\n",
       "      <th>13</th>\n",
       "      <td>Exercise</td>\n",
       "      <td>2.756706</td>\n",
       "    </tr>\n",
       "    <tr>\n",
       "      <th>10</th>\n",
       "      <td>AgeCategory</td>\n",
       "      <td>2.885454</td>\n",
       "    </tr>\n",
       "  </tbody>\n",
       "</table>\n",
       "</div>"
      ],
      "text/plain": [
       "                 Features       VIF\n",
       "3        SleepTime_scaled  1.036931\n",
       "0              BMI_scaled  1.092520\n",
       "6         AlcoholDrinking  1.093555\n",
       "16          KidneyDisease  1.103654\n",
       "7                  Stroke  1.117207\n",
       "15                 Asthma  1.185334\n",
       "2     MentalHealth_scaled  1.187708\n",
       "17                 Cancer  1.195433\n",
       "4            HeartDisease  1.258992\n",
       "11                 Origin  1.268153\n",
       "1   PhysicalHealth_scaled  1.337981\n",
       "12               Diabetic  1.351409\n",
       "8       WalkingDifficulty  1.604017\n",
       "5                 Smoking  1.752127\n",
       "9                  Gender  1.857434\n",
       "14              GenHealth  2.644910\n",
       "13               Exercise  2.756706\n",
       "10            AgeCategory  2.885454"
      ]
     },
     "execution_count": 80,
     "metadata": {},
     "output_type": "execute_result"
    }
   ],
   "source": [
    "from statsmodels.stats.outliers_influence import variance_inflation_factor\n",
    "\n",
    "vif_list = []\n",
    "# Loops to iterate columns\n",
    "for i in range(final_data.shape[1]):\n",
    "    vif_list.append(variance_inflation_factor(final_data.values,i))\n",
    "    \n",
    "vif = pd.DataFrame({\"Features\":final_data.columns,\"VIF\":vif_list})\n",
    "\n",
    "vif.sort_values(ascending=True , by=\"VIF\")"
   ]
  },
  {
   "cell_type": "markdown",
   "id": "7dac7003",
   "metadata": {},
   "source": [
    "# Inference\n",
    "* Since VIF of all the variable columns is less than 10 .\n",
    "* hence, there is no multi collinearty and all features are significant. "
   ]
  },
  {
   "cell_type": "markdown",
   "id": "17713d8e",
   "metadata": {},
   "source": [
    "Now, our data is ready for modelling."
   ]
  },
  {
   "cell_type": "code",
   "execution_count": 380,
   "id": "6a40dccc",
   "metadata": {},
   "outputs": [
    {
     "data": {
      "text/html": [
       "<div>\n",
       "<style scoped>\n",
       "    .dataframe tbody tr th:only-of-type {\n",
       "        vertical-align: middle;\n",
       "    }\n",
       "\n",
       "    .dataframe tbody tr th {\n",
       "        vertical-align: top;\n",
       "    }\n",
       "\n",
       "    .dataframe thead th {\n",
       "        text-align: right;\n",
       "    }\n",
       "</style>\n",
       "<table border=\"1\" class=\"dataframe\">\n",
       "  <thead>\n",
       "    <tr style=\"text-align: right;\">\n",
       "      <th></th>\n",
       "      <th>BMI_scaled</th>\n",
       "      <th>PhysicalHealth_scaled</th>\n",
       "      <th>MentalHealth_scaled</th>\n",
       "      <th>SleepTime_scaled</th>\n",
       "      <th>HeartDisease</th>\n",
       "      <th>Smoking</th>\n",
       "      <th>AlcoholDrinking</th>\n",
       "      <th>Stroke</th>\n",
       "      <th>WalkingDifficulty</th>\n",
       "      <th>Gender</th>\n",
       "      <th>AgeCategory</th>\n",
       "      <th>Origin</th>\n",
       "      <th>Diabetic</th>\n",
       "      <th>Exercise</th>\n",
       "      <th>GenHealth</th>\n",
       "      <th>Asthma</th>\n",
       "      <th>KidneyDisease</th>\n",
       "      <th>Cancer</th>\n",
       "    </tr>\n",
       "  </thead>\n",
       "  <tbody>\n",
       "    <tr>\n",
       "      <th>0</th>\n",
       "      <td>-2.002522</td>\n",
       "      <td>0.976249</td>\n",
       "      <td>1.932050</td>\n",
       "      <td>-1.580688</td>\n",
       "      <td>0</td>\n",
       "      <td>2</td>\n",
       "      <td>0</td>\n",
       "      <td>0</td>\n",
       "      <td>0</td>\n",
       "      <td>0</td>\n",
       "      <td>1</td>\n",
       "      <td>0</td>\n",
       "      <td>2</td>\n",
       "      <td>1</td>\n",
       "      <td>0</td>\n",
       "      <td>1</td>\n",
       "      <td>0</td>\n",
       "      <td>1</td>\n",
       "    </tr>\n",
       "    <tr>\n",
       "      <th>1</th>\n",
       "      <td>-1.354063</td>\n",
       "      <td>-0.580460</td>\n",
       "      <td>-0.645307</td>\n",
       "      <td>-0.061484</td>\n",
       "      <td>0</td>\n",
       "      <td>0</td>\n",
       "      <td>0</td>\n",
       "      <td>1</td>\n",
       "      <td>0</td>\n",
       "      <td>0</td>\n",
       "      <td>2</td>\n",
       "      <td>0</td>\n",
       "      <td>0</td>\n",
       "      <td>1</td>\n",
       "      <td>0</td>\n",
       "      <td>0</td>\n",
       "      <td>0</td>\n",
       "      <td>0</td>\n",
       "    </tr>\n",
       "    <tr>\n",
       "      <th>2</th>\n",
       "      <td>-0.272142</td>\n",
       "      <td>2.014054</td>\n",
       "      <td>1.932050</td>\n",
       "      <td>0.698118</td>\n",
       "      <td>0</td>\n",
       "      <td>1</td>\n",
       "      <td>0</td>\n",
       "      <td>0</td>\n",
       "      <td>0</td>\n",
       "      <td>1</td>\n",
       "      <td>2</td>\n",
       "      <td>0</td>\n",
       "      <td>2</td>\n",
       "      <td>1</td>\n",
       "      <td>2</td>\n",
       "      <td>1</td>\n",
       "      <td>0</td>\n",
       "      <td>0</td>\n",
       "    </tr>\n",
       "    <tr>\n",
       "      <th>3</th>\n",
       "      <td>-0.683064</td>\n",
       "      <td>-0.580460</td>\n",
       "      <td>-0.645307</td>\n",
       "      <td>-0.821086</td>\n",
       "      <td>0</td>\n",
       "      <td>0</td>\n",
       "      <td>0</td>\n",
       "      <td>0</td>\n",
       "      <td>0</td>\n",
       "      <td>0</td>\n",
       "      <td>2</td>\n",
       "      <td>0</td>\n",
       "      <td>0</td>\n",
       "      <td>0</td>\n",
       "      <td>1</td>\n",
       "      <td>0</td>\n",
       "      <td>0</td>\n",
       "      <td>1</td>\n",
       "    </tr>\n",
       "    <tr>\n",
       "      <th>4</th>\n",
       "      <td>-0.769756</td>\n",
       "      <td>2.014054</td>\n",
       "      <td>-0.645307</td>\n",
       "      <td>0.698118</td>\n",
       "      <td>0</td>\n",
       "      <td>0</td>\n",
       "      <td>0</td>\n",
       "      <td>0</td>\n",
       "      <td>1</td>\n",
       "      <td>0</td>\n",
       "      <td>0</td>\n",
       "      <td>0</td>\n",
       "      <td>0</td>\n",
       "      <td>1</td>\n",
       "      <td>0</td>\n",
       "      <td>0</td>\n",
       "      <td>0</td>\n",
       "      <td>0</td>\n",
       "    </tr>\n",
       "  </tbody>\n",
       "</table>\n",
       "</div>"
      ],
      "text/plain": [
       "   BMI_scaled  PhysicalHealth_scaled  MentalHealth_scaled  SleepTime_scaled  \\\n",
       "0   -2.002522               0.976249             1.932050         -1.580688   \n",
       "1   -1.354063              -0.580460            -0.645307         -0.061484   \n",
       "2   -0.272142               2.014054             1.932050          0.698118   \n",
       "3   -0.683064              -0.580460            -0.645307         -0.821086   \n",
       "4   -0.769756               2.014054            -0.645307          0.698118   \n",
       "\n",
       "   HeartDisease  Smoking  AlcoholDrinking  Stroke  WalkingDifficulty  Gender  \\\n",
       "0             0        2                0       0                  0       0   \n",
       "1             0        0                0       1                  0       0   \n",
       "2             0        1                0       0                  0       1   \n",
       "3             0        0                0       0                  0       0   \n",
       "4             0        0                0       0                  1       0   \n",
       "\n",
       "   AgeCategory  Origin  Diabetic  Exercise  GenHealth  Asthma  KidneyDisease  \\\n",
       "0            1       0         2         1          0       1              0   \n",
       "1            2       0         0         1          0       0              0   \n",
       "2            2       0         2         1          2       1              0   \n",
       "3            2       0         0         0          1       0              0   \n",
       "4            0       0         0         1          0       0              0   \n",
       "\n",
       "   Cancer  \n",
       "0       1  \n",
       "1       0  \n",
       "2       0  \n",
       "3       1  \n",
       "4       0  "
      ]
     },
     "execution_count": 380,
     "metadata": {},
     "output_type": "execute_result"
    }
   ],
   "source": [
    "final_data.head()"
   ]
  },
  {
   "cell_type": "markdown",
   "id": "df94ab79",
   "metadata": {},
   "source": [
    "# Train Test Split"
   ]
  },
  {
   "cell_type": "code",
   "execution_count": 707,
   "id": "4cf4fa37",
   "metadata": {},
   "outputs": [],
   "source": [
    "from sklearn.model_selection import train_test_split"
   ]
  },
  {
   "cell_type": "code",
   "execution_count": 706,
   "id": "52af6b7a",
   "metadata": {},
   "outputs": [],
   "source": [
    "x = final_data.drop(columns=[\"HeartDisease\"])\n",
    "y = final_data[\"HeartDisease\"]"
   ]
  },
  {
   "cell_type": "code",
   "execution_count": 708,
   "id": "fdb4a001",
   "metadata": {},
   "outputs": [],
   "source": [
    "x_train , x_test , y_train , y_test = train_test_split(x,y, train_size=0.7,random_state=10)"
   ]
  },
  {
   "cell_type": "code",
   "execution_count": 709,
   "id": "854b768c",
   "metadata": {},
   "outputs": [
    {
     "name": "stdout",
     "output_type": "stream",
     "text": [
      "(223856, 17) (95939, 17) (223856,) (95939,)\n"
     ]
    }
   ],
   "source": [
    "print(x_train.shape,x_test.shape,y_train.shape,y_test.shape)"
   ]
  },
  {
   "cell_type": "code",
   "execution_count": 711,
   "id": "f5bd709c",
   "metadata": {},
   "outputs": [],
   "source": [
    "import statsmodels.api as sm"
   ]
  },
  {
   "cell_type": "code",
   "execution_count": 712,
   "id": "6635975e",
   "metadata": {},
   "outputs": [],
   "source": [
    "# Adding constant\n",
    "X_train = sm.add_constant(x_train)\n",
    "X_test = sm.add_constant(x_test)"
   ]
  },
  {
   "cell_type": "markdown",
   "id": "e057f9e9",
   "metadata": {},
   "source": [
    "# Base Model"
   ]
  },
  {
   "cell_type": "code",
   "execution_count": 725,
   "id": "a97a29b2",
   "metadata": {},
   "outputs": [
    {
     "name": "stdout",
     "output_type": "stream",
     "text": [
      "Optimization terminated successfully.\n",
      "         Current function value: 0.233038\n",
      "         Iterations 8\n"
     ]
    }
   ],
   "source": [
    "base_model = sm.Logit(y_train,X_train).fit()"
   ]
  },
  {
   "cell_type": "code",
   "execution_count": 726,
   "id": "fa7d5542",
   "metadata": {},
   "outputs": [
    {
     "name": "stdout",
     "output_type": "stream",
     "text": [
      "                           Logit Regression Results                           \n",
      "==============================================================================\n",
      "Dep. Variable:           HeartDisease   No. Observations:               223856\n",
      "Model:                          Logit   Df Residuals:                   223838\n",
      "Method:                           MLE   Df Model:                           17\n",
      "Date:                Thu, 22 Dec 2022   Pseudo R-squ.:                  0.2025\n",
      "Time:                        04:55:53   Log-Likelihood:                -52167.\n",
      "converged:                       True   LL-Null:                       -65417.\n",
      "Covariance Type:            nonrobust   LLR p-value:                     0.000\n",
      "=========================================================================================\n",
      "                            coef    std err          z      P>|z|      [0.025      0.975]\n",
      "-----------------------------------------------------------------------------------------\n",
      "const                    -5.1193      0.035   -147.822      0.000      -5.187      -5.051\n",
      "BMI_scaled                0.0550      0.009      6.398      0.000       0.038       0.072\n",
      "PhysicalHealth_scaled     0.1279      0.009     14.923      0.000       0.111       0.145\n",
      "MentalHealth_scaled       0.0194      0.009      2.138      0.032       0.002       0.037\n",
      "SleepTime_scaled         -0.0357      0.008     -4.718      0.000      -0.051      -0.021\n",
      "Smoking                   0.2154      0.008     25.470      0.000       0.199       0.232\n",
      "AlcoholDrinking          -0.3073      0.040     -7.706      0.000      -0.385      -0.229\n",
      "Stroke                    1.1492      0.027     42.649      0.000       1.096       1.202\n",
      "WalkingDifficulty         0.3467      0.021     16.216      0.000       0.305       0.389\n",
      "Gender                    0.6819      0.017     39.579      0.000       0.648       0.716\n",
      "AgeCategory               1.0358      0.014     72.379      0.000       1.008       1.064\n",
      "Origin                   -0.0793      0.016     -4.887      0.000      -0.111      -0.048\n",
      "Diabetic                  0.2598      0.010     26.850      0.000       0.241       0.279\n",
      "Exercise                 -0.0774      0.019     -4.077      0.000      -0.115      -0.040\n",
      "GenHealth                 0.4778      0.014     34.747      0.000       0.451       0.505\n",
      "Asthma                    0.2864      0.023     12.563      0.000       0.242       0.331\n",
      "KidneyDisease             0.6548      0.029     22.587      0.000       0.598       0.712\n",
      "Cancer                    0.2064      0.023      8.974      0.000       0.161       0.252\n",
      "=========================================================================================\n"
     ]
    }
   ],
   "source": [
    "print(base_model.summary())"
   ]
  },
  {
   "cell_type": "code",
   "execution_count": 727,
   "id": "c580be74",
   "metadata": {},
   "outputs": [],
   "source": [
    "y_pred_prob = base_model.predict(X_test)"
   ]
  },
  {
   "cell_type": "code",
   "execution_count": 728,
   "id": "611d61f6",
   "metadata": {},
   "outputs": [
    {
     "data": {
      "text/plain": [
       "56517     0.026327\n",
       "112447    0.015945\n",
       "40550     0.023994\n",
       "40682     0.011913\n",
       "92585     0.060587\n",
       "            ...   \n",
       "173637    0.149942\n",
       "235307    0.208340\n",
       "113637    0.007386\n",
       "212627    0.036652\n",
       "192382    0.073908\n",
       "Length: 95939, dtype: float64"
      ]
     },
     "execution_count": 728,
     "metadata": {},
     "output_type": "execute_result"
    }
   ],
   "source": [
    "y_pred_prob"
   ]
  },
  {
   "cell_type": "code",
   "execution_count": 729,
   "id": "cb85ea5a",
   "metadata": {},
   "outputs": [],
   "source": [
    "from sklearn.metrics import confusion_matrix ,accuracy_score , recall_score , cohen_kappa_score , precision_score , classification_report , f1_score"
   ]
  },
  {
   "cell_type": "code",
   "execution_count": 730,
   "id": "eac21edf",
   "metadata": {},
   "outputs": [],
   "source": [
    "# Creating Threshold \n",
    "y_pred = np.where(y_pred_prob>0.5,1,0) "
   ]
  },
  {
   "cell_type": "code",
   "execution_count": 731,
   "id": "005777fc",
   "metadata": {},
   "outputs": [
    {
     "name": "stdout",
     "output_type": "stream",
     "text": [
      "Confusion Metrics:\n",
      " [[87004   723]\n",
      " [ 7381   831]]\n",
      "Accuracy:  0.9155296594711223\n",
      "Recall:  0.10119337554797857\n",
      "Precision:  0.5347490347490348\n",
      "F1 score:  0.17018226500102396\n",
      "Cohen kappa Score:  0.14694444634563475\n",
      "Classification Summary:\n",
      "               precision    recall  f1-score   support\n",
      "\n",
      "           0       0.92      0.99      0.96     87727\n",
      "           1       0.53      0.10      0.17      8212\n",
      "\n",
      "    accuracy                           0.92     95939\n",
      "   macro avg       0.73      0.55      0.56     95939\n",
      "weighted avg       0.89      0.92      0.89     95939\n",
      "\n"
     ]
    }
   ],
   "source": [
    "scores(y_test,y_pred)"
   ]
  },
  {
   "cell_type": "markdown",
   "id": "7a90111a",
   "metadata": {},
   "source": [
    "# Inference\n",
    "* Therefore we can see that our data is imbalanced and biased toward zero (i.e. ‘NO: the person is not suffering from heart disease’ ). Therefore Balancing is required."
   ]
  },
  {
   "cell_type": "code",
   "execution_count": 732,
   "id": "caba7325",
   "metadata": {},
   "outputs": [],
   "source": [
    "from sklearn.metrics import roc_auc_score , roc_curve"
   ]
  },
  {
   "cell_type": "code",
   "execution_count": 733,
   "id": "da679bae",
   "metadata": {},
   "outputs": [
    {
     "data": {
      "image/png": "[encoded data removed]",
      "text/plain": [
       "<Figure size 432x288 with 1 Axes>"
      ]
     },
     "metadata": {
      "needs_background": "light"
     },
     "output_type": "display_data"
    }
   ],
   "source": [
    "roc(y_test,y_pred_prob)"
   ]
  },
  {
   "cell_type": "markdown",
   "id": "fa7b7222",
   "metadata": {},
   "source": [
    "# Balancing the data"
   ]
  },
  {
   "cell_type": "code",
   "execution_count": 734,
   "id": "997f2e46",
   "metadata": {},
   "outputs": [],
   "source": [
    "from imblearn.over_sampling import  SMOTE"
   ]
  },
  {
   "cell_type": "code",
   "execution_count": 735,
   "id": "7dd39b8c",
   "metadata": {},
   "outputs": [],
   "source": [
    "over_samp = SMOTE()"
   ]
  },
  {
   "cell_type": "code",
   "execution_count": 736,
   "id": "738c591f",
   "metadata": {},
   "outputs": [],
   "source": [
    "x_train_os , y_train_os = over_samp.fit_resample(x_train,y_train)"
   ]
  },
  {
   "cell_type": "code",
   "execution_count": 737,
   "id": "1dcd94bf",
   "metadata": {},
   "outputs": [
    {
     "data": {
      "text/plain": [
       "0    204695\n",
       "1    204695\n",
       "Name: HeartDisease, dtype: int64"
      ]
     },
     "execution_count": 737,
     "metadata": {},
     "output_type": "execute_result"
    }
   ],
   "source": [
    "y_train_os.value_counts()"
   ]
  },
  {
   "cell_type": "markdown",
   "id": "d34a8fdb",
   "metadata": {},
   "source": [
    "# Inference\n",
    "* We need to balance our data. We decided to use SMOTE (that comes under over-sampling) to balance our data.\n",
    "* SMOTE- Synthetic Minority Oversampling Technique is one of the most commonly used oversampling methods to solve the imbalance problem.\u000b",
    "It aims to balance class distribution by randomly increasing minority class examples by replicating them.\n"
   ]
  },
  {
   "cell_type": "markdown",
   "id": "a40a1d48",
   "metadata": {},
   "source": [
    "# Logistic Regression"
   ]
  },
  {
   "cell_type": "code",
   "execution_count": 738,
   "id": "d2e9ef37",
   "metadata": {},
   "outputs": [],
   "source": [
    "from sklearn.linear_model import LogisticRegression"
   ]
  },
  {
   "cell_type": "code",
   "execution_count": 739,
   "id": "d70f135e",
   "metadata": {},
   "outputs": [],
   "source": [
    "model_lr = LogisticRegression()"
   ]
  },
  {
   "cell_type": "code",
   "execution_count": 740,
   "id": "59916a2a",
   "metadata": {},
   "outputs": [
    {
     "data": {
      "text/html": [
       "<style>#sk-container-id-103 {color: black;background-color: white;}#sk-container-id-103 pre{padding: 0;}#sk-container-id-103 div.sk-toggleable {background-color: white;}#sk-container-id-103 label.sk-toggleable__label {cursor: pointer;display: block;width: 100%;margin-bottom: 0;padding: 0.3em;box-sizing: border-box;text-align: center;}#sk-container-id-103 label.sk-toggleable__label-arrow:before {content: \"▸\";float: left;margin-right: 0.25em;color: #696969;}#sk-container-id-103 label.sk-toggleable__label-arrow:hover:before {color: black;}#sk-container-id-103 div.sk-estimator:hover label.sk-toggleable__label-arrow:before {color: black;}#sk-container-id-103 div.sk-toggleable__content {max-height: 0;max-width: 0;overflow: hidden;text-align: left;background-color: #f0f8ff;}#sk-container-id-103 div.sk-toggleable__content pre {margin: 0.2em;color: black;border-radius: 0.25em;background-color: #f0f8ff;}#sk-container-id-103 input.sk-toggleable__control:checked~div.sk-toggleable__content {max-height: 200px;max-width: 100%;overflow: auto;}#sk-container-id-103 input.sk-toggleable__control:checked~label.sk-toggleable__label-arrow:before {content: \"▾\";}#sk-container-id-103 div.sk-estimator input.sk-toggleable__control:checked~label.sk-toggleable__label {background-color: #d4ebff;}#sk-container-id-103 div.sk-label input.sk-toggleable__control:checked~label.sk-toggleable__label {background-color: #d4ebff;}#sk-container-id-103 input.sk-hidden--visually {border: 0;clip: rect(1px 1px 1px 1px);clip: rect(1px, 1px, 1px, 1px);height: 1px;margin: -1px;overflow: hidden;padding: 0;position: absolute;width: 1px;}#sk-container-id-103 div.sk-estimator {font-family: monospace;background-color: #f0f8ff;border: 1px dotted black;border-radius: 0.25em;box-sizing: border-box;margin-bottom: 0.5em;}#sk-container-id-103 div.sk-estimator:hover {background-color: #d4ebff;}#sk-container-id-103 div.sk-parallel-item::after {content: \"\";width: 100%;border-bottom: 1px solid gray;flex-grow: 1;}#sk-container-id-103 div.sk-label:hover label.sk-toggleable__label {background-color: #d4ebff;}#sk-container-id-103 div.sk-serial::before {content: \"\";position: absolute;border-left: 1px solid gray;box-sizing: border-box;top: 0;bottom: 0;left: 50%;z-index: 0;}#sk-container-id-103 div.sk-serial {display: flex;flex-direction: column;align-items: center;background-color: white;padding-right: 0.2em;padding-left: 0.2em;position: relative;}#sk-container-id-103 div.sk-item {position: relative;z-index: 1;}#sk-container-id-103 div.sk-parallel {display: flex;align-items: stretch;justify-content: center;background-color: white;position: relative;}#sk-container-id-103 div.sk-item::before, #sk-container-id-103 div.sk-parallel-item::before {content: \"\";position: absolute;border-left: 1px solid gray;box-sizing: border-box;top: 0;bottom: 0;left: 50%;z-index: -1;}#sk-container-id-103 div.sk-parallel-item {display: flex;flex-direction: column;z-index: 1;position: relative;background-color: white;}#sk-container-id-103 div.sk-parallel-item:first-child::after {align-self: flex-end;width: 50%;}#sk-container-id-103 div.sk-parallel-item:last-child::after {align-self: flex-start;width: 50%;}#sk-container-id-103 div.sk-parallel-item:only-child::after {width: 0;}#sk-container-id-103 div.sk-dashed-wrapped {border: 1px dashed gray;margin: 0 0.4em 0.5em 0.4em;box-sizing: border-box;padding-bottom: 0.4em;background-color: white;}#sk-container-id-103 div.sk-label label {font-family: monospace;font-weight: bold;display: inline-block;line-height: 1.2em;}#sk-container-id-103 div.sk-label-container {text-align: center;}#sk-container-id-103 div.sk-container {/* jupyter's `normalize.less` sets `[hidden] { display: none; }` but bootstrap.min.css set `[hidden] { display: none !important; }` so we also need the `!important` here to be able to override the default hidden behavior on the sphinx rendered scikit-learn.org. See: https://github.com/scikit-learn/scikit-learn/issues/21755 */display: inline-block !important;position: relative;}#sk-container-id-103 div.sk-text-repr-fallback {display: none;}</style><div id=\"sk-container-id-103\" class=\"sk-top-container\"><div class=\"sk-text-repr-fallback\"><pre>LogisticRegression()</pre><b>In a Jupyter environment, please rerun this cell to show the HTML representation or trust the notebook. <br />On GitHub, the HTML representation is unable to render, please try loading this page with nbviewer.org.</b></div><div class=\"sk-container\" hidden><div class=\"sk-item\"><div class=\"sk-estimator sk-toggleable\"><input class=\"sk-toggleable__control sk-hidden--visually\" id=\"sk-estimator-id-119\" type=\"checkbox\" checked><label for=\"sk-estimator-id-119\" class=\"sk-toggleable__label sk-toggleable__label-arrow\">LogisticRegression</label><div class=\"sk-toggleable__content\"><pre>LogisticRegression()</pre></div></div></div></div></div>"
      ],
      "text/plain": [
       "LogisticRegression()"
      ]
     },
     "execution_count": 740,
     "metadata": {},
     "output_type": "execute_result"
    }
   ],
   "source": [
    "model_lr.fit(x_train_os,y_train_os)"
   ]
  },
  {
   "cell_type": "code",
   "execution_count": 741,
   "id": "c3f57129",
   "metadata": {},
   "outputs": [],
   "source": [
    "y_pred_lr = model_lr.predict(x_test)"
   ]
  },
  {
   "cell_type": "code",
   "execution_count": 742,
   "id": "20fa35a6",
   "metadata": {},
   "outputs": [
    {
     "name": "stdout",
     "output_type": "stream",
     "text": [
      "Confusion Metrics:\n",
      " [[63376 24351]\n",
      " [ 1993  6219]]\n",
      "Accuracy:  0.7254088535423551\n",
      "Recall:  0.7573063809059912\n",
      "Precision:  0.20343473994111874\n",
      "F1 score:  0.3207157959878294\n",
      "Cohen kappa Score:  0.2147524747478955\n",
      "Classification Summary:\n",
      "               precision    recall  f1-score   support\n",
      "\n",
      "           0       0.97      0.72      0.83     87727\n",
      "           1       0.20      0.76      0.32      8212\n",
      "\n",
      "    accuracy                           0.73     95939\n",
      "   macro avg       0.59      0.74      0.57     95939\n",
      "weighted avg       0.90      0.73      0.78     95939\n",
      "\n"
     ]
    }
   ],
   "source": [
    "scores(y_test,y_pred_lr)"
   ]
  },
  {
   "cell_type": "markdown",
   "id": "63ddc9a2",
   "metadata": {},
   "source": [
    "# Inference\n",
    "* After balancing the data we got equal values for zero and one. Then we applied various model (outcomes of which can be seen in next slide). But, we concluded that balancing did not work appropriately for the data as the precision for one was very low in every model.\n",
    "Precision is how good the model is at predicting a specific category."
   ]
  },
  {
   "cell_type": "code",
   "execution_count": 743,
   "id": "08d90931",
   "metadata": {},
   "outputs": [],
   "source": [
    "y_pred_lr_prob = model_lr.predict_proba(x_test)[:,1]"
   ]
  },
  {
   "cell_type": "code",
   "execution_count": 744,
   "id": "f3354610",
   "metadata": {},
   "outputs": [
    {
     "data": {
      "image/png": "[encoded data removed]",
      "text/plain": [
       "<Figure size 432x288 with 1 Axes>"
      ]
     },
     "metadata": {
      "needs_background": "light"
     },
     "output_type": "display_data"
    }
   ],
   "source": [
    "roc(y_test,y_pred_lr_prob)"
   ]
  },
  {
   "cell_type": "markdown",
   "id": "85e29343",
   "metadata": {},
   "source": [
    "# Tuning of Data "
   ]
  },
  {
   "cell_type": "code",
   "execution_count": 722,
   "id": "43dfde39",
   "metadata": {},
   "outputs": [
    {
     "data": {
      "text/plain": [
       "(319795, 18)"
      ]
     },
     "execution_count": 722,
     "metadata": {},
     "output_type": "execute_result"
    }
   ],
   "source": [
    "final_data.shape"
   ]
  },
  {
   "cell_type": "code",
   "execution_count": 723,
   "id": "86ed3003",
   "metadata": {},
   "outputs": [
    {
     "data": {
      "text/plain": [
       "0    292422\n",
       "1     27373\n",
       "Name: HeartDisease, dtype: int64"
      ]
     },
     "execution_count": 723,
     "metadata": {},
     "output_type": "execute_result"
    }
   ],
   "source": [
    "final_data['HeartDisease'].value_counts()"
   ]
  },
  {
   "cell_type": "code",
   "execution_count": 724,
   "id": "b05b5c3e",
   "metadata": {},
   "outputs": [],
   "source": [
    "Data_Majority = final_data[final_data['HeartDisease']==0]"
   ]
  },
  {
   "cell_type": "code",
   "execution_count": 433,
   "id": "71bfadad",
   "metadata": {},
   "outputs": [],
   "source": [
    "Data_Minority = final_data[final_data['HeartDisease']==1]\n"
   ]
  },
  {
   "cell_type": "code",
   "execution_count": 435,
   "id": "9bb28688",
   "metadata": {},
   "outputs": [],
   "source": [
    "Data_No = Data_Majority.sample(n=30000)"
   ]
  },
  {
   "cell_type": "code",
   "execution_count": 436,
   "id": "e17287db",
   "metadata": {},
   "outputs": [],
   "source": [
    "final_data1 = pd.concat([Data_Minority,Data_No],axis=0)"
   ]
  },
  {
   "cell_type": "code",
   "execution_count": 437,
   "id": "fb4ef74e",
   "metadata": {},
   "outputs": [
    {
     "data": {
      "text/plain": [
       "(57373, 18)"
      ]
     },
     "execution_count": 437,
     "metadata": {},
     "output_type": "execute_result"
    }
   ],
   "source": [
    "final_data1.shape"
   ]
  },
  {
   "cell_type": "code",
   "execution_count": 438,
   "id": "df707fdd",
   "metadata": {},
   "outputs": [
    {
     "data": {
      "text/html": [
       "<div>\n",
       "<style scoped>\n",
       "    .dataframe tbody tr th:only-of-type {\n",
       "        vertical-align: middle;\n",
       "    }\n",
       "\n",
       "    .dataframe tbody tr th {\n",
       "        vertical-align: top;\n",
       "    }\n",
       "\n",
       "    .dataframe thead th {\n",
       "        text-align: right;\n",
       "    }\n",
       "</style>\n",
       "<table border=\"1\" class=\"dataframe\">\n",
       "  <thead>\n",
       "    <tr style=\"text-align: right;\">\n",
       "      <th></th>\n",
       "      <th>BMI_scaled</th>\n",
       "      <th>PhysicalHealth_scaled</th>\n",
       "      <th>MentalHealth_scaled</th>\n",
       "      <th>SleepTime_scaled</th>\n",
       "      <th>HeartDisease</th>\n",
       "      <th>Smoking</th>\n",
       "      <th>AlcoholDrinking</th>\n",
       "      <th>Stroke</th>\n",
       "      <th>WalkingDifficulty</th>\n",
       "      <th>Gender</th>\n",
       "      <th>AgeCategory</th>\n",
       "      <th>Origin</th>\n",
       "      <th>Diabetic</th>\n",
       "      <th>Exercise</th>\n",
       "      <th>GenHealth</th>\n",
       "      <th>Asthma</th>\n",
       "      <th>KidneyDisease</th>\n",
       "      <th>Cancer</th>\n",
       "    </tr>\n",
       "  </thead>\n",
       "  <tbody>\n",
       "    <tr>\n",
       "      <th>5</th>\n",
       "      <td>0.124909</td>\n",
       "      <td>2.014054</td>\n",
       "      <td>-0.645307</td>\n",
       "      <td>2.976925</td>\n",
       "      <td>1</td>\n",
       "      <td>2</td>\n",
       "      <td>0</td>\n",
       "      <td>0</td>\n",
       "      <td>1</td>\n",
       "      <td>0</td>\n",
       "      <td>2</td>\n",
       "      <td>1</td>\n",
       "      <td>0</td>\n",
       "      <td>0</td>\n",
       "      <td>2</td>\n",
       "      <td>0</td>\n",
       "      <td>0</td>\n",
       "      <td>0</td>\n",
       "    </tr>\n",
       "    <tr>\n",
       "      <th>10</th>\n",
       "      <td>1.066388</td>\n",
       "      <td>2.014054</td>\n",
       "      <td>-0.645307</td>\n",
       "      <td>2.976925</td>\n",
       "      <td>1</td>\n",
       "      <td>2</td>\n",
       "      <td>0</td>\n",
       "      <td>0</td>\n",
       "      <td>1</td>\n",
       "      <td>1</td>\n",
       "      <td>1</td>\n",
       "      <td>0</td>\n",
       "      <td>2</td>\n",
       "      <td>0</td>\n",
       "      <td>2</td>\n",
       "      <td>1</td>\n",
       "      <td>0</td>\n",
       "      <td>0</td>\n",
       "    </tr>\n",
       "    <tr>\n",
       "      <th>35</th>\n",
       "      <td>0.837520</td>\n",
       "      <td>2.014054</td>\n",
       "      <td>-0.645307</td>\n",
       "      <td>-2.340291</td>\n",
       "      <td>1</td>\n",
       "      <td>2</td>\n",
       "      <td>0</td>\n",
       "      <td>1</td>\n",
       "      <td>1</td>\n",
       "      <td>1</td>\n",
       "      <td>2</td>\n",
       "      <td>0</td>\n",
       "      <td>2</td>\n",
       "      <td>1</td>\n",
       "      <td>2</td>\n",
       "      <td>0</td>\n",
       "      <td>0</td>\n",
       "      <td>1</td>\n",
       "    </tr>\n",
       "    <tr>\n",
       "      <th>42</th>\n",
       "      <td>-0.535687</td>\n",
       "      <td>-0.580460</td>\n",
       "      <td>-0.645307</td>\n",
       "      <td>-0.061484</td>\n",
       "      <td>1</td>\n",
       "      <td>0</td>\n",
       "      <td>0</td>\n",
       "      <td>0</td>\n",
       "      <td>1</td>\n",
       "      <td>0</td>\n",
       "      <td>2</td>\n",
       "      <td>0</td>\n",
       "      <td>2</td>\n",
       "      <td>0</td>\n",
       "      <td>1</td>\n",
       "      <td>0</td>\n",
       "      <td>0</td>\n",
       "      <td>1</td>\n",
       "    </tr>\n",
       "    <tr>\n",
       "      <th>43</th>\n",
       "      <td>0.360712</td>\n",
       "      <td>2.014054</td>\n",
       "      <td>0.041988</td>\n",
       "      <td>0.698118</td>\n",
       "      <td>1</td>\n",
       "      <td>2</td>\n",
       "      <td>0</td>\n",
       "      <td>0</td>\n",
       "      <td>1</td>\n",
       "      <td>0</td>\n",
       "      <td>2</td>\n",
       "      <td>0</td>\n",
       "      <td>2</td>\n",
       "      <td>1</td>\n",
       "      <td>2</td>\n",
       "      <td>0</td>\n",
       "      <td>1</td>\n",
       "      <td>0</td>\n",
       "    </tr>\n",
       "  </tbody>\n",
       "</table>\n",
       "</div>"
      ],
      "text/plain": [
       "    BMI_scaled  PhysicalHealth_scaled  MentalHealth_scaled  SleepTime_scaled  \\\n",
       "5     0.124909               2.014054            -0.645307          2.976925   \n",
       "10    1.066388               2.014054            -0.645307          2.976925   \n",
       "35    0.837520               2.014054            -0.645307         -2.340291   \n",
       "42   -0.535687              -0.580460            -0.645307         -0.061484   \n",
       "43    0.360712               2.014054             0.041988          0.698118   \n",
       "\n",
       "    HeartDisease  Smoking  AlcoholDrinking  Stroke  WalkingDifficulty  Gender  \\\n",
       "5              1        2                0       0                  1       0   \n",
       "10             1        2                0       0                  1       1   \n",
       "35             1        2                0       1                  1       1   \n",
       "42             1        0                0       0                  1       0   \n",
       "43             1        2                0       0                  1       0   \n",
       "\n",
       "    AgeCategory  Origin  Diabetic  Exercise  GenHealth  Asthma  KidneyDisease  \\\n",
       "5             2       1         0         0          2       0              0   \n",
       "10            1       0         2         0          2       1              0   \n",
       "35            2       0         2         1          2       0              0   \n",
       "42            2       0         2         0          1       0              0   \n",
       "43            2       0         2         1          2       0              1   \n",
       "\n",
       "    Cancer  \n",
       "5        0  \n",
       "10       0  \n",
       "35       1  \n",
       "42       1  \n",
       "43       0  "
      ]
     },
     "execution_count": 438,
     "metadata": {},
     "output_type": "execute_result"
    }
   ],
   "source": [
    "final_data1.head()"
   ]
  },
  {
   "cell_type": "code",
   "execution_count": 440,
   "id": "7333f672",
   "metadata": {},
   "outputs": [],
   "source": [
    "final_df = final_data1.reset_index(drop=True)"
   ]
  },
  {
   "cell_type": "code",
   "execution_count": 467,
   "id": "6241649b",
   "metadata": {},
   "outputs": [
    {
     "data": {
      "text/html": [
       "<div>\n",
       "<style scoped>\n",
       "    .dataframe tbody tr th:only-of-type {\n",
       "        vertical-align: middle;\n",
       "    }\n",
       "\n",
       "    .dataframe tbody tr th {\n",
       "        vertical-align: top;\n",
       "    }\n",
       "\n",
       "    .dataframe thead th {\n",
       "        text-align: right;\n",
       "    }\n",
       "</style>\n",
       "<table border=\"1\" class=\"dataframe\">\n",
       "  <thead>\n",
       "    <tr style=\"text-align: right;\">\n",
       "      <th></th>\n",
       "      <th>BMI_scaled</th>\n",
       "      <th>PhysicalHealth_scaled</th>\n",
       "      <th>MentalHealth_scaled</th>\n",
       "      <th>SleepTime_scaled</th>\n",
       "      <th>HeartDisease</th>\n",
       "      <th>Smoking</th>\n",
       "      <th>AlcoholDrinking</th>\n",
       "      <th>Stroke</th>\n",
       "      <th>WalkingDifficulty</th>\n",
       "      <th>Gender</th>\n",
       "      <th>AgeCategory</th>\n",
       "      <th>Origin</th>\n",
       "      <th>Diabetic</th>\n",
       "      <th>Exercise</th>\n",
       "      <th>GenHealth</th>\n",
       "      <th>Asthma</th>\n",
       "      <th>KidneyDisease</th>\n",
       "      <th>Cancer</th>\n",
       "    </tr>\n",
       "  </thead>\n",
       "  <tbody>\n",
       "    <tr>\n",
       "      <th>0</th>\n",
       "      <td>0.124909</td>\n",
       "      <td>2.014054</td>\n",
       "      <td>-0.645307</td>\n",
       "      <td>2.976925</td>\n",
       "      <td>1</td>\n",
       "      <td>2</td>\n",
       "      <td>0</td>\n",
       "      <td>0</td>\n",
       "      <td>1</td>\n",
       "      <td>0</td>\n",
       "      <td>2</td>\n",
       "      <td>1</td>\n",
       "      <td>0</td>\n",
       "      <td>0</td>\n",
       "      <td>2</td>\n",
       "      <td>0</td>\n",
       "      <td>0</td>\n",
       "      <td>0</td>\n",
       "    </tr>\n",
       "    <tr>\n",
       "      <th>1</th>\n",
       "      <td>1.066388</td>\n",
       "      <td>2.014054</td>\n",
       "      <td>-0.645307</td>\n",
       "      <td>2.976925</td>\n",
       "      <td>1</td>\n",
       "      <td>2</td>\n",
       "      <td>0</td>\n",
       "      <td>0</td>\n",
       "      <td>1</td>\n",
       "      <td>1</td>\n",
       "      <td>1</td>\n",
       "      <td>0</td>\n",
       "      <td>2</td>\n",
       "      <td>0</td>\n",
       "      <td>2</td>\n",
       "      <td>1</td>\n",
       "      <td>0</td>\n",
       "      <td>0</td>\n",
       "    </tr>\n",
       "    <tr>\n",
       "      <th>2</th>\n",
       "      <td>0.837520</td>\n",
       "      <td>2.014054</td>\n",
       "      <td>-0.645307</td>\n",
       "      <td>-2.340291</td>\n",
       "      <td>1</td>\n",
       "      <td>2</td>\n",
       "      <td>0</td>\n",
       "      <td>1</td>\n",
       "      <td>1</td>\n",
       "      <td>1</td>\n",
       "      <td>2</td>\n",
       "      <td>0</td>\n",
       "      <td>2</td>\n",
       "      <td>1</td>\n",
       "      <td>2</td>\n",
       "      <td>0</td>\n",
       "      <td>0</td>\n",
       "      <td>1</td>\n",
       "    </tr>\n",
       "    <tr>\n",
       "      <th>3</th>\n",
       "      <td>-0.535687</td>\n",
       "      <td>-0.580460</td>\n",
       "      <td>-0.645307</td>\n",
       "      <td>-0.061484</td>\n",
       "      <td>1</td>\n",
       "      <td>0</td>\n",
       "      <td>0</td>\n",
       "      <td>0</td>\n",
       "      <td>1</td>\n",
       "      <td>0</td>\n",
       "      <td>2</td>\n",
       "      <td>0</td>\n",
       "      <td>2</td>\n",
       "      <td>0</td>\n",
       "      <td>1</td>\n",
       "      <td>0</td>\n",
       "      <td>0</td>\n",
       "      <td>1</td>\n",
       "    </tr>\n",
       "    <tr>\n",
       "      <th>4</th>\n",
       "      <td>0.360712</td>\n",
       "      <td>2.014054</td>\n",
       "      <td>0.041988</td>\n",
       "      <td>0.698118</td>\n",
       "      <td>1</td>\n",
       "      <td>2</td>\n",
       "      <td>0</td>\n",
       "      <td>0</td>\n",
       "      <td>1</td>\n",
       "      <td>0</td>\n",
       "      <td>2</td>\n",
       "      <td>0</td>\n",
       "      <td>2</td>\n",
       "      <td>1</td>\n",
       "      <td>2</td>\n",
       "      <td>0</td>\n",
       "      <td>1</td>\n",
       "      <td>0</td>\n",
       "    </tr>\n",
       "  </tbody>\n",
       "</table>\n",
       "</div>"
      ],
      "text/plain": [
       "   BMI_scaled  PhysicalHealth_scaled  MentalHealth_scaled  SleepTime_scaled  \\\n",
       "0    0.124909               2.014054            -0.645307          2.976925   \n",
       "1    1.066388               2.014054            -0.645307          2.976925   \n",
       "2    0.837520               2.014054            -0.645307         -2.340291   \n",
       "3   -0.535687              -0.580460            -0.645307         -0.061484   \n",
       "4    0.360712               2.014054             0.041988          0.698118   \n",
       "\n",
       "   HeartDisease  Smoking  AlcoholDrinking  Stroke  WalkingDifficulty  Gender  \\\n",
       "0             1        2                0       0                  1       0   \n",
       "1             1        2                0       0                  1       1   \n",
       "2             1        2                0       1                  1       1   \n",
       "3             1        0                0       0                  1       0   \n",
       "4             1        2                0       0                  1       0   \n",
       "\n",
       "   AgeCategory  Origin  Diabetic  Exercise  GenHealth  Asthma  KidneyDisease  \\\n",
       "0            2       1         0         0          2       0              0   \n",
       "1            1       0         2         0          2       1              0   \n",
       "2            2       0         2         1          2       0              0   \n",
       "3            2       0         2         0          1       0              0   \n",
       "4            2       0         2         1          2       0              1   \n",
       "\n",
       "   Cancer  \n",
       "0       0  \n",
       "1       0  \n",
       "2       1  \n",
       "3       1  \n",
       "4       0  "
      ]
     },
     "execution_count": 467,
     "metadata": {},
     "output_type": "execute_result"
    }
   ],
   "source": [
    "final_df.head()"
   ]
  },
  {
   "cell_type": "markdown",
   "id": "21259581",
   "metadata": {},
   "source": [
    "# Inference\n",
    "* As data balancing did not worked for our dataset. So, we decided to tune our dataset according our target variable  heart disease which consist of 90% - ‘NO’ and 10% - ‘Yes’\n",
    "* We divided our target variable into Majority class(representing all zeros in the target variable) and minority class(representing all ones in the target variable)\n",
    "* Then we selected a random sample of 30000 from our majority data and created  a data frame  and concatenated minority class data frame and random data frame. \n",
    "* This new Data frame created after concatenating is our final data frame on which we will perform our further modelling.\n",
    "* Now, We will be applying models again."
   ]
  },
  {
   "cell_type": "markdown",
   "id": "19f8e42c",
   "metadata": {},
   "source": [
    "# Base Model "
   ]
  },
  {
   "cell_type": "code",
   "execution_count": 745,
   "id": "d4e7bf3c",
   "metadata": {},
   "outputs": [],
   "source": [
    "from statsmodels.api import Logit\n",
    "import statsmodels.api as sma"
   ]
  },
  {
   "cell_type": "code",
   "execution_count": 746,
   "id": "c6cfe2fb",
   "metadata": {},
   "outputs": [],
   "source": [
    "x = final_df.drop([\"HeartDisease\"],axis =1)\n",
    "y = final_df[\"HeartDisease\"]"
   ]
  },
  {
   "cell_type": "code",
   "execution_count": 747,
   "id": "226c36ee",
   "metadata": {},
   "outputs": [],
   "source": [
    "from sklearn.model_selection import train_test_split"
   ]
  },
  {
   "cell_type": "code",
   "execution_count": 748,
   "id": "7ffa5542",
   "metadata": {},
   "outputs": [],
   "source": [
    "xtrain , xtest , ytrain , ytest = train_test_split(x,y,train_size= 0.7 ,random_state=10)"
   ]
  },
  {
   "cell_type": "code",
   "execution_count": 749,
   "id": "270844a3",
   "metadata": {},
   "outputs": [],
   "source": [
    "x_train = sma.add_constant(xtrain)\n",
    "x_test = sma.add_constant(xtest)"
   ]
  },
  {
   "cell_type": "code",
   "execution_count": 750,
   "id": "d88321f3",
   "metadata": {},
   "outputs": [
    {
     "name": "stdout",
     "output_type": "stream",
     "text": [
      "Optimization terminated successfully.\n",
      "         Current function value: 0.510383\n",
      "         Iterations 6\n"
     ]
    }
   ],
   "source": [
    "base_model = sma.Logit(ytrain,x_train).fit()"
   ]
  },
  {
   "cell_type": "code",
   "execution_count": 751,
   "id": "ccf0eaee",
   "metadata": {},
   "outputs": [
    {
     "name": "stdout",
     "output_type": "stream",
     "text": [
      "                           Logit Regression Results                           \n",
      "==============================================================================\n",
      "Dep. Variable:           HeartDisease   No. Observations:                40161\n",
      "Model:                          Logit   Df Residuals:                    40143\n",
      "Method:                           MLE   Df Model:                           17\n",
      "Date:                Thu, 22 Dec 2022   Pseudo R-squ.:                  0.2625\n",
      "Time:                        05:02:17   Log-Likelihood:                -20498.\n",
      "converged:                       True   LL-Null:                       -27793.\n",
      "Covariance Type:            nonrobust   LLR p-value:                     0.000\n",
      "=========================================================================================\n",
      "                            coef    std err          z      P>|z|      [0.025      0.975]\n",
      "-----------------------------------------------------------------------------------------\n",
      "const                    -3.0750      0.048    -63.843      0.000      -3.169      -2.981\n",
      "BMI_scaled                0.0747      0.013      5.811      0.000       0.050       0.100\n",
      "PhysicalHealth_scaled     0.1365      0.013     10.461      0.000       0.111       0.162\n",
      "MentalHealth_scaled       0.0181      0.014      1.317      0.188      -0.009       0.045\n",
      "SleepTime_scaled         -0.0269      0.012     -2.316      0.021      -0.050      -0.004\n",
      "Smoking                   0.2216      0.012     17.929      0.000       0.197       0.246\n",
      "AlcoholDrinking          -0.2075      0.054     -3.823      0.000      -0.314      -0.101\n",
      "Stroke                    1.2805      0.052     24.549      0.000       1.178       1.383\n",
      "WalkingDifficulty         0.4434      0.034     13.058      0.000       0.377       0.510\n",
      "Gender                    0.7354      0.025     29.042      0.000       0.686       0.785\n",
      "AgeCategory               1.1201      0.019     57.705      0.000       1.082       1.158\n",
      "Origin                   -0.0841      0.024     -3.567      0.000      -0.130      -0.038\n",
      "Diabetic                  0.2902      0.015     18.886      0.000       0.260       0.320\n",
      "Exercise                 -0.0763      0.029     -2.633      0.008      -0.133      -0.020\n",
      "GenHealth                 0.4949      0.020     25.281      0.000       0.456       0.533\n",
      "Asthma                    0.3333      0.035      9.420      0.000       0.264       0.403\n",
      "KidneyDisease             0.6558      0.053     12.378      0.000       0.552       0.760\n",
      "Cancer                    0.2228      0.036      6.106      0.000       0.151       0.294\n",
      "=========================================================================================\n"
     ]
    }
   ],
   "source": [
    "print(base_model.summary())"
   ]
  },
  {
   "cell_type": "code",
   "execution_count": 752,
   "id": "70cd59a8",
   "metadata": {},
   "outputs": [],
   "source": [
    "y_pred_prob = base_model.predict(x_test)"
   ]
  },
  {
   "cell_type": "code",
   "execution_count": 753,
   "id": "f6c206e4",
   "metadata": {},
   "outputs": [
    {
     "data": {
      "text/plain": [
       "53900    0.566047\n",
       "11678    0.735628\n",
       "35398    0.359660\n",
       "48582    0.507726\n",
       "3584     0.519341\n",
       "           ...   \n",
       "5638     0.540213\n",
       "31763    0.563945\n",
       "44383    0.109684\n",
       "43779    0.659008\n",
       "14498    0.559636\n",
       "Length: 17212, dtype: float64"
      ]
     },
     "execution_count": 753,
     "metadata": {},
     "output_type": "execute_result"
    }
   ],
   "source": [
    "y_pred_prob"
   ]
  },
  {
   "cell_type": "code",
   "execution_count": 754,
   "id": "7074f2e1",
   "metadata": {},
   "outputs": [],
   "source": [
    "from sklearn.metrics import confusion_matrix,accuracy_score,recall_score,precision_score,classification_report,f1_score,cohen_kappa_score"
   ]
  },
  {
   "cell_type": "code",
   "execution_count": 755,
   "id": "70273f81",
   "metadata": {},
   "outputs": [],
   "source": [
    "y_pred = np.where(y_pred_prob>0.5,1,0)"
   ]
  },
  {
   "cell_type": "code",
   "execution_count": 756,
   "id": "3a72705b",
   "metadata": {},
   "outputs": [
    {
     "data": {
      "text/plain": [
       "array([1, 1, 0, ..., 0, 1, 1])"
      ]
     },
     "execution_count": 756,
     "metadata": {},
     "output_type": "execute_result"
    }
   ],
   "source": [
    "y_pred"
   ]
  },
  {
   "cell_type": "code",
   "execution_count": 757,
   "id": "a2798f76",
   "metadata": {},
   "outputs": [],
   "source": [
    "def scores(actual,predicted):\n",
    "    print('Confusion Metrics:\\n',confusion_matrix(actual,predicted))\n",
    "    print('Accuracy: ',accuracy_score(actual,predicted))\n",
    "    print('Recall: ',recall_score(actual,predicted))\n",
    "    print('Precision: ',precision_score(actual,predicted))\n",
    "    print('F1 score: ',f1_score(actual,predicted))\n",
    "    print('Cohen kappa Score: ',cohen_kappa_score(actual,predicted))\n",
    "    print('Classification Summary:\\n',classification_report(actual,predicted))\n"
   ]
  },
  {
   "cell_type": "code",
   "execution_count": 758,
   "id": "21161a6e",
   "metadata": {},
   "outputs": [
    {
     "name": "stdout",
     "output_type": "stream",
     "text": [
      "Confusion Metrics:\n",
      " [[6819 2154]\n",
      " [2154 6085]]\n",
      "Accuracy:  0.749709504996514\n",
      "Recall:  0.7385605049156451\n",
      "Precision:  0.7385605049156451\n",
      "F1 score:  0.7385605049156451\n",
      "Cohen kappa Score:  0.4985070111008675\n",
      "Classification Summary:\n",
      "               precision    recall  f1-score   support\n",
      "\n",
      "           0       0.76      0.76      0.76      8973\n",
      "           1       0.74      0.74      0.74      8239\n",
      "\n",
      "    accuracy                           0.75     17212\n",
      "   macro avg       0.75      0.75      0.75     17212\n",
      "weighted avg       0.75      0.75      0.75     17212\n",
      "\n"
     ]
    }
   ],
   "source": [
    "scores(ytest,y_pred)"
   ]
  },
  {
   "cell_type": "markdown",
   "id": "4f70faed",
   "metadata": {},
   "source": [
    "# Inference\n",
    "* Pseudo R2 value is 0.2625 and pseudo R2 between (0.2-0.4 )indicates very good model fit. According to the P-value all the variables are significant.\n",
    "* Recall, Precision is good and accuracy is also satisfactory.\n",
    "* F1 score that represents harmonic mean of recall and precision is also good.\n",
    "* Cohen-kappa score is Moderate. \n",
    "* But since it is our base model we will be making more models and tune data to get best results."
   ]
  },
  {
   "cell_type": "code",
   "execution_count": 759,
   "id": "087a9cfe",
   "metadata": {},
   "outputs": [],
   "source": [
    "from sklearn.metrics import roc_auc_score, roc_curve"
   ]
  },
  {
   "cell_type": "code",
   "execution_count": 760,
   "id": "9ad2d406",
   "metadata": {},
   "outputs": [],
   "source": [
    "def roc(actual,pred_prob):\n",
    "    fpr,tpr,thres = roc_curve(actual,pred_prob)\n",
    "    plt.plot(fpr,tpr,color='r')\n",
    "    plt.plot([0,1],[0,1],ls='--',color='purple')\n",
    "    plt.xlabel('FPR AUC: %.2f'%roc_auc_score(actual,pred_prob))\n",
    "    plt.ylabel('TPR')\n",
    "    plt.show()"
   ]
  },
  {
   "cell_type": "code",
   "execution_count": 761,
   "id": "b1b83263",
   "metadata": {},
   "outputs": [
    {
     "data": {
      "image/png": "[encoded data removed]",
      "text/plain": [
       "<Figure size 432x288 with 1 Axes>"
      ]
     },
     "metadata": {
      "needs_background": "light"
     },
     "output_type": "display_data"
    }
   ],
   "source": [
    "roc(ytest,y_pred_prob)"
   ]
  },
  {
   "cell_type": "markdown",
   "id": "e01c0505",
   "metadata": {},
   "source": [
    "# Model 1 (Logistice Regression)"
   ]
  },
  {
   "cell_type": "code",
   "execution_count": 762,
   "id": "de02e298",
   "metadata": {},
   "outputs": [],
   "source": [
    "from sklearn.linear_model import LogisticRegression"
   ]
  },
  {
   "cell_type": "code",
   "execution_count": 763,
   "id": "7a98c269",
   "metadata": {},
   "outputs": [],
   "source": [
    "model_lr = LogisticRegression()"
   ]
  },
  {
   "cell_type": "code",
   "execution_count": 764,
   "id": "a3de7024",
   "metadata": {},
   "outputs": [
    {
     "data": {
      "text/html": [
       "<style>#sk-container-id-104 {color: black;background-color: white;}#sk-container-id-104 pre{padding: 0;}#sk-container-id-104 div.sk-toggleable {background-color: white;}#sk-container-id-104 label.sk-toggleable__label {cursor: pointer;display: block;width: 100%;margin-bottom: 0;padding: 0.3em;box-sizing: border-box;text-align: center;}#sk-container-id-104 label.sk-toggleable__label-arrow:before {content: \"▸\";float: left;margin-right: 0.25em;color: #696969;}#sk-container-id-104 label.sk-toggleable__label-arrow:hover:before {color: black;}#sk-container-id-104 div.sk-estimator:hover label.sk-toggleable__label-arrow:before {color: black;}#sk-container-id-104 div.sk-toggleable__content {max-height: 0;max-width: 0;overflow: hidden;text-align: left;background-color: #f0f8ff;}#sk-container-id-104 div.sk-toggleable__content pre {margin: 0.2em;color: black;border-radius: 0.25em;background-color: #f0f8ff;}#sk-container-id-104 input.sk-toggleable__control:checked~div.sk-toggleable__content {max-height: 200px;max-width: 100%;overflow: auto;}#sk-container-id-104 input.sk-toggleable__control:checked~label.sk-toggleable__label-arrow:before {content: \"▾\";}#sk-container-id-104 div.sk-estimator input.sk-toggleable__control:checked~label.sk-toggleable__label {background-color: #d4ebff;}#sk-container-id-104 div.sk-label input.sk-toggleable__control:checked~label.sk-toggleable__label {background-color: #d4ebff;}#sk-container-id-104 input.sk-hidden--visually {border: 0;clip: rect(1px 1px 1px 1px);clip: rect(1px, 1px, 1px, 1px);height: 1px;margin: -1px;overflow: hidden;padding: 0;position: absolute;width: 1px;}#sk-container-id-104 div.sk-estimator {font-family: monospace;background-color: #f0f8ff;border: 1px dotted black;border-radius: 0.25em;box-sizing: border-box;margin-bottom: 0.5em;}#sk-container-id-104 div.sk-estimator:hover {background-color: #d4ebff;}#sk-container-id-104 div.sk-parallel-item::after {content: \"\";width: 100%;border-bottom: 1px solid gray;flex-grow: 1;}#sk-container-id-104 div.sk-label:hover label.sk-toggleable__label {background-color: #d4ebff;}#sk-container-id-104 div.sk-serial::before {content: \"\";position: absolute;border-left: 1px solid gray;box-sizing: border-box;top: 0;bottom: 0;left: 50%;z-index: 0;}#sk-container-id-104 div.sk-serial {display: flex;flex-direction: column;align-items: center;background-color: white;padding-right: 0.2em;padding-left: 0.2em;position: relative;}#sk-container-id-104 div.sk-item {position: relative;z-index: 1;}#sk-container-id-104 div.sk-parallel {display: flex;align-items: stretch;justify-content: center;background-color: white;position: relative;}#sk-container-id-104 div.sk-item::before, #sk-container-id-104 div.sk-parallel-item::before {content: \"\";position: absolute;border-left: 1px solid gray;box-sizing: border-box;top: 0;bottom: 0;left: 50%;z-index: -1;}#sk-container-id-104 div.sk-parallel-item {display: flex;flex-direction: column;z-index: 1;position: relative;background-color: white;}#sk-container-id-104 div.sk-parallel-item:first-child::after {align-self: flex-end;width: 50%;}#sk-container-id-104 div.sk-parallel-item:last-child::after {align-self: flex-start;width: 50%;}#sk-container-id-104 div.sk-parallel-item:only-child::after {width: 0;}#sk-container-id-104 div.sk-dashed-wrapped {border: 1px dashed gray;margin: 0 0.4em 0.5em 0.4em;box-sizing: border-box;padding-bottom: 0.4em;background-color: white;}#sk-container-id-104 div.sk-label label {font-family: monospace;font-weight: bold;display: inline-block;line-height: 1.2em;}#sk-container-id-104 div.sk-label-container {text-align: center;}#sk-container-id-104 div.sk-container {/* jupyter's `normalize.less` sets `[hidden] { display: none; }` but bootstrap.min.css set `[hidden] { display: none !important; }` so we also need the `!important` here to be able to override the default hidden behavior on the sphinx rendered scikit-learn.org. See: https://github.com/scikit-learn/scikit-learn/issues/21755 */display: inline-block !important;position: relative;}#sk-container-id-104 div.sk-text-repr-fallback {display: none;}</style><div id=\"sk-container-id-104\" class=\"sk-top-container\"><div class=\"sk-text-repr-fallback\"><pre>LogisticRegression()</pre><b>In a Jupyter environment, please rerun this cell to show the HTML representation or trust the notebook. <br />On GitHub, the HTML representation is unable to render, please try loading this page with nbviewer.org.</b></div><div class=\"sk-container\" hidden><div class=\"sk-item\"><div class=\"sk-estimator sk-toggleable\"><input class=\"sk-toggleable__control sk-hidden--visually\" id=\"sk-estimator-id-120\" type=\"checkbox\" checked><label for=\"sk-estimator-id-120\" class=\"sk-toggleable__label sk-toggleable__label-arrow\">LogisticRegression</label><div class=\"sk-toggleable__content\"><pre>LogisticRegression()</pre></div></div></div></div></div>"
      ],
      "text/plain": [
       "LogisticRegression()"
      ]
     },
     "execution_count": 764,
     "metadata": {},
     "output_type": "execute_result"
    }
   ],
   "source": [
    "model_lr.fit(xtrain,ytrain)"
   ]
  },
  {
   "cell_type": "code",
   "execution_count": 765,
   "id": "0f352654",
   "metadata": {},
   "outputs": [],
   "source": [
    "y_pred_lr = model_lr.predict(xtest)"
   ]
  },
  {
   "cell_type": "code",
   "execution_count": 766,
   "id": "21a7eefc",
   "metadata": {},
   "outputs": [
    {
     "name": "stdout",
     "output_type": "stream",
     "text": [
      "Confusion Metrics:\n",
      " [[6819 2154]\n",
      " [2154 6085]]\n",
      "Accuracy:  0.749709504996514\n",
      "Recall:  0.7385605049156451\n",
      "Precision:  0.7385605049156451\n",
      "F1 score:  0.7385605049156451\n",
      "Cohen kappa Score:  0.4985070111008675\n",
      "Classification Summary:\n",
      "               precision    recall  f1-score   support\n",
      "\n",
      "           0       0.76      0.76      0.76      8973\n",
      "           1       0.74      0.74      0.74      8239\n",
      "\n",
      "    accuracy                           0.75     17212\n",
      "   macro avg       0.75      0.75      0.75     17212\n",
      "weighted avg       0.75      0.75      0.75     17212\n",
      "\n"
     ]
    }
   ],
   "source": [
    "scores(ytest,y_pred_lr)"
   ]
  },
  {
   "cell_type": "markdown",
   "id": "197c0c27",
   "metadata": {},
   "source": [
    "# Inference\n",
    "* Recall, Precision is good and accuracy is also satisfactory.\n",
    "* F1 score that represents harmonic mean of recall and precision is also good.\n",
    "* Cohen-kappa score is Moderate. \n",
    "* But since it is our base model we will be making more models and tune data to get best results.\n",
    "* It is also giving similar results as Logit (base model)\n",
    "* We will be mving forward for decision tree classifier."
   ]
  },
  {
   "cell_type": "code",
   "execution_count": 769,
   "id": "79cb9066",
   "metadata": {},
   "outputs": [],
   "source": [
    "y_pred_lr_prob = model_lr.predict_proba(xtest)[:,1]"
   ]
  },
  {
   "cell_type": "code",
   "execution_count": 770,
   "id": "1083eb16",
   "metadata": {},
   "outputs": [
    {
     "data": {
      "text/plain": [
       "array([0.56601554, 0.73576421, 0.3597595 , ..., 0.10972836, 0.65896424,\n",
       "       0.55958189])"
      ]
     },
     "execution_count": 770,
     "metadata": {},
     "output_type": "execute_result"
    }
   ],
   "source": [
    "y_pred_lr_prob"
   ]
  },
  {
   "cell_type": "code",
   "execution_count": 771,
   "id": "6a1797be",
   "metadata": {},
   "outputs": [
    {
     "data": {
      "image/png": "[encoded data removed]",
      "text/plain": [
       "<Figure size 432x288 with 1 Axes>"
      ]
     },
     "metadata": {
      "needs_background": "light"
     },
     "output_type": "display_data"
    }
   ],
   "source": [
    "roc(ytest,y_pred_lr_prob)"
   ]
  },
  {
   "cell_type": "markdown",
   "id": "1c8d0934",
   "metadata": {},
   "source": [
    "# Model 2 (Decision Tree) "
   ]
  },
  {
   "cell_type": "code",
   "execution_count": 772,
   "id": "c97b939d",
   "metadata": {},
   "outputs": [],
   "source": [
    "from sklearn.tree import DecisionTreeClassifier , plot_tree"
   ]
  },
  {
   "cell_type": "code",
   "execution_count": 773,
   "id": "9a5b8162",
   "metadata": {},
   "outputs": [],
   "source": [
    "model_dt = DecisionTreeClassifier(max_depth=7)"
   ]
  },
  {
   "cell_type": "code",
   "execution_count": 774,
   "id": "0378f7c5",
   "metadata": {},
   "outputs": [
    {
     "data": {
      "text/html": [
       "<style>#sk-container-id-105 {color: black;background-color: white;}#sk-container-id-105 pre{padding: 0;}#sk-container-id-105 div.sk-toggleable {background-color: white;}#sk-container-id-105 label.sk-toggleable__label {cursor: pointer;display: block;width: 100%;margin-bottom: 0;padding: 0.3em;box-sizing: border-box;text-align: center;}#sk-container-id-105 label.sk-toggleable__label-arrow:before {content: \"▸\";float: left;margin-right: 0.25em;color: #696969;}#sk-container-id-105 label.sk-toggleable__label-arrow:hover:before {color: black;}#sk-container-id-105 div.sk-estimator:hover label.sk-toggleable__label-arrow:before {color: black;}#sk-container-id-105 div.sk-toggleable__content {max-height: 0;max-width: 0;overflow: hidden;text-align: left;background-color: #f0f8ff;}#sk-container-id-105 div.sk-toggleable__content pre {margin: 0.2em;color: black;border-radius: 0.25em;background-color: #f0f8ff;}#sk-container-id-105 input.sk-toggleable__control:checked~div.sk-toggleable__content {max-height: 200px;max-width: 100%;overflow: auto;}#sk-container-id-105 input.sk-toggleable__control:checked~label.sk-toggleable__label-arrow:before {content: \"▾\";}#sk-container-id-105 div.sk-estimator input.sk-toggleable__control:checked~label.sk-toggleable__label {background-color: #d4ebff;}#sk-container-id-105 div.sk-label input.sk-toggleable__control:checked~label.sk-toggleable__label {background-color: #d4ebff;}#sk-container-id-105 input.sk-hidden--visually {border: 0;clip: rect(1px 1px 1px 1px);clip: rect(1px, 1px, 1px, 1px);height: 1px;margin: -1px;overflow: hidden;padding: 0;position: absolute;width: 1px;}#sk-container-id-105 div.sk-estimator {font-family: monospace;background-color: #f0f8ff;border: 1px dotted black;border-radius: 0.25em;box-sizing: border-box;margin-bottom: 0.5em;}#sk-container-id-105 div.sk-estimator:hover {background-color: #d4ebff;}#sk-container-id-105 div.sk-parallel-item::after {content: \"\";width: 100%;border-bottom: 1px solid gray;flex-grow: 1;}#sk-container-id-105 div.sk-label:hover label.sk-toggleable__label {background-color: #d4ebff;}#sk-container-id-105 div.sk-serial::before {content: \"\";position: absolute;border-left: 1px solid gray;box-sizing: border-box;top: 0;bottom: 0;left: 50%;z-index: 0;}#sk-container-id-105 div.sk-serial {display: flex;flex-direction: column;align-items: center;background-color: white;padding-right: 0.2em;padding-left: 0.2em;position: relative;}#sk-container-id-105 div.sk-item {position: relative;z-index: 1;}#sk-container-id-105 div.sk-parallel {display: flex;align-items: stretch;justify-content: center;background-color: white;position: relative;}#sk-container-id-105 div.sk-item::before, #sk-container-id-105 div.sk-parallel-item::before {content: \"\";position: absolute;border-left: 1px solid gray;box-sizing: border-box;top: 0;bottom: 0;left: 50%;z-index: -1;}#sk-container-id-105 div.sk-parallel-item {display: flex;flex-direction: column;z-index: 1;position: relative;background-color: white;}#sk-container-id-105 div.sk-parallel-item:first-child::after {align-self: flex-end;width: 50%;}#sk-container-id-105 div.sk-parallel-item:last-child::after {align-self: flex-start;width: 50%;}#sk-container-id-105 div.sk-parallel-item:only-child::after {width: 0;}#sk-container-id-105 div.sk-dashed-wrapped {border: 1px dashed gray;margin: 0 0.4em 0.5em 0.4em;box-sizing: border-box;padding-bottom: 0.4em;background-color: white;}#sk-container-id-105 div.sk-label label {font-family: monospace;font-weight: bold;display: inline-block;line-height: 1.2em;}#sk-container-id-105 div.sk-label-container {text-align: center;}#sk-container-id-105 div.sk-container {/* jupyter's `normalize.less` sets `[hidden] { display: none; }` but bootstrap.min.css set `[hidden] { display: none !important; }` so we also need the `!important` here to be able to override the default hidden behavior on the sphinx rendered scikit-learn.org. See: https://github.com/scikit-learn/scikit-learn/issues/21755 */display: inline-block !important;position: relative;}#sk-container-id-105 div.sk-text-repr-fallback {display: none;}</style><div id=\"sk-container-id-105\" class=\"sk-top-container\"><div class=\"sk-text-repr-fallback\"><pre>DecisionTreeClassifier(max_depth=7)</pre><b>In a Jupyter environment, please rerun this cell to show the HTML representation or trust the notebook. <br />On GitHub, the HTML representation is unable to render, please try loading this page with nbviewer.org.</b></div><div class=\"sk-container\" hidden><div class=\"sk-item\"><div class=\"sk-estimator sk-toggleable\"><input class=\"sk-toggleable__control sk-hidden--visually\" id=\"sk-estimator-id-121\" type=\"checkbox\" checked><label for=\"sk-estimator-id-121\" class=\"sk-toggleable__label sk-toggleable__label-arrow\">DecisionTreeClassifier</label><div class=\"sk-toggleable__content\"><pre>DecisionTreeClassifier(max_depth=7)</pre></div></div></div></div></div>"
      ],
      "text/plain": [
       "DecisionTreeClassifier(max_depth=7)"
      ]
     },
     "execution_count": 774,
     "metadata": {},
     "output_type": "execute_result"
    }
   ],
   "source": [
    "model_dt.fit(xtrain,ytrain)"
   ]
  },
  {
   "cell_type": "code",
   "execution_count": 775,
   "id": "cd6ca755",
   "metadata": {},
   "outputs": [],
   "source": [
    "# plt.figure(figsize=(30,10),dpi=160)\n",
    "# plot_tree(model_dt,feature_names=xtrain.columns,class_names=['Yes','No'],fontsize=6)\n",
    "# plt.show()"
   ]
  },
  {
   "cell_type": "code",
   "execution_count": 776,
   "id": "5d535109",
   "metadata": {},
   "outputs": [],
   "source": [
    "y_pred_dt = model_dt.predict(xtest)"
   ]
  },
  {
   "cell_type": "code",
   "execution_count": 777,
   "id": "8c213dce",
   "metadata": {},
   "outputs": [
    {
     "name": "stdout",
     "output_type": "stream",
     "text": [
      "Confusion Metrics:\n",
      " [[6553 2420]\n",
      " [1935 6304]]\n",
      "Accuracy:  0.7469788519637462\n",
      "Recall:  0.7651414006554194\n",
      "Precision:  0.7226043099495644\n",
      "F1 score:  0.7432647526970465\n",
      "Cohen kappa Score:  0.49425342232268776\n",
      "Classification Summary:\n",
      "               precision    recall  f1-score   support\n",
      "\n",
      "           0       0.77      0.73      0.75      8973\n",
      "           1       0.72      0.77      0.74      8239\n",
      "\n",
      "    accuracy                           0.75     17212\n",
      "   macro avg       0.75      0.75      0.75     17212\n",
      "weighted avg       0.75      0.75      0.75     17212\n",
      "\n"
     ]
    }
   ],
   "source": [
    "scores(ytest,y_pred_dt)"
   ]
  },
  {
   "cell_type": "markdown",
   "id": "7c73cad4",
   "metadata": {},
   "source": [
    "# Inference\n",
    "* Recall, Precision is good, there is a slight increase in recall 1.and accuracy is also satisfactory.\n",
    "* F1 score that represents harmonic mean of recall and precision is also good.\n",
    "* Cohen-kappa score is Moderate. \n",
    "* But since it is our base model we will be making more models and tune data to get best results.\n",
    "* Since here Recall 1(i.e. are problem statement ) has increased slightly  So, this model is performing better than the previous model.\n",
    "* But further we will be going for Random Forest Classifier."
   ]
  },
  {
   "cell_type": "code",
   "execution_count": 778,
   "id": "288fb1bc",
   "metadata": {},
   "outputs": [],
   "source": [
    "y_pred_dt_prob = model_dt.predict_proba(xtest)[:,1]"
   ]
  },
  {
   "cell_type": "code",
   "execution_count": 779,
   "id": "fba46b56",
   "metadata": {},
   "outputs": [
    {
     "data": {
      "image/png": "[encoded data removed]",
      "text/plain": [
       "<Figure size 432x288 with 1 Axes>"
      ]
     },
     "metadata": {
      "needs_background": "light"
     },
     "output_type": "display_data"
    }
   ],
   "source": [
    "roc(ytest,y_pred_dt_prob)"
   ]
  },
  {
   "cell_type": "markdown",
   "id": "ccb5db2a",
   "metadata": {},
   "source": [
    "# Model 3 (Random Forest)"
   ]
  },
  {
   "cell_type": "code",
   "execution_count": 780,
   "id": "d2571f35",
   "metadata": {},
   "outputs": [],
   "source": [
    "from sklearn.ensemble import RandomForestClassifier"
   ]
  },
  {
   "cell_type": "code",
   "execution_count": 781,
   "id": "b2e620c2",
   "metadata": {},
   "outputs": [],
   "source": [
    "model_rf = RandomForestClassifier(n_estimators=700)"
   ]
  },
  {
   "cell_type": "code",
   "execution_count": 782,
   "id": "49f06f14",
   "metadata": {},
   "outputs": [
    {
     "data": {
      "text/html": [
       "<style>#sk-container-id-106 {color: black;background-color: white;}#sk-container-id-106 pre{padding: 0;}#sk-container-id-106 div.sk-toggleable {background-color: white;}#sk-container-id-106 label.sk-toggleable__label {cursor: pointer;display: block;width: 100%;margin-bottom: 0;padding: 0.3em;box-sizing: border-box;text-align: center;}#sk-container-id-106 label.sk-toggleable__label-arrow:before {content: \"▸\";float: left;margin-right: 0.25em;color: #696969;}#sk-container-id-106 label.sk-toggleable__label-arrow:hover:before {color: black;}#sk-container-id-106 div.sk-estimator:hover label.sk-toggleable__label-arrow:before {color: black;}#sk-container-id-106 div.sk-toggleable__content {max-height: 0;max-width: 0;overflow: hidden;text-align: left;background-color: #f0f8ff;}#sk-container-id-106 div.sk-toggleable__content pre {margin: 0.2em;color: black;border-radius: 0.25em;background-color: #f0f8ff;}#sk-container-id-106 input.sk-toggleable__control:checked~div.sk-toggleable__content {max-height: 200px;max-width: 100%;overflow: auto;}#sk-container-id-106 input.sk-toggleable__control:checked~label.sk-toggleable__label-arrow:before {content: \"▾\";}#sk-container-id-106 div.sk-estimator input.sk-toggleable__control:checked~label.sk-toggleable__label {background-color: #d4ebff;}#sk-container-id-106 div.sk-label input.sk-toggleable__control:checked~label.sk-toggleable__label {background-color: #d4ebff;}#sk-container-id-106 input.sk-hidden--visually {border: 0;clip: rect(1px 1px 1px 1px);clip: rect(1px, 1px, 1px, 1px);height: 1px;margin: -1px;overflow: hidden;padding: 0;position: absolute;width: 1px;}#sk-container-id-106 div.sk-estimator {font-family: monospace;background-color: #f0f8ff;border: 1px dotted black;border-radius: 0.25em;box-sizing: border-box;margin-bottom: 0.5em;}#sk-container-id-106 div.sk-estimator:hover {background-color: #d4ebff;}#sk-container-id-106 div.sk-parallel-item::after {content: \"\";width: 100%;border-bottom: 1px solid gray;flex-grow: 1;}#sk-container-id-106 div.sk-label:hover label.sk-toggleable__label {background-color: #d4ebff;}#sk-container-id-106 div.sk-serial::before {content: \"\";position: absolute;border-left: 1px solid gray;box-sizing: border-box;top: 0;bottom: 0;left: 50%;z-index: 0;}#sk-container-id-106 div.sk-serial {display: flex;flex-direction: column;align-items: center;background-color: white;padding-right: 0.2em;padding-left: 0.2em;position: relative;}#sk-container-id-106 div.sk-item {position: relative;z-index: 1;}#sk-container-id-106 div.sk-parallel {display: flex;align-items: stretch;justify-content: center;background-color: white;position: relative;}#sk-container-id-106 div.sk-item::before, #sk-container-id-106 div.sk-parallel-item::before {content: \"\";position: absolute;border-left: 1px solid gray;box-sizing: border-box;top: 0;bottom: 0;left: 50%;z-index: -1;}#sk-container-id-106 div.sk-parallel-item {display: flex;flex-direction: column;z-index: 1;position: relative;background-color: white;}#sk-container-id-106 div.sk-parallel-item:first-child::after {align-self: flex-end;width: 50%;}#sk-container-id-106 div.sk-parallel-item:last-child::after {align-self: flex-start;width: 50%;}#sk-container-id-106 div.sk-parallel-item:only-child::after {width: 0;}#sk-container-id-106 div.sk-dashed-wrapped {border: 1px dashed gray;margin: 0 0.4em 0.5em 0.4em;box-sizing: border-box;padding-bottom: 0.4em;background-color: white;}#sk-container-id-106 div.sk-label label {font-family: monospace;font-weight: bold;display: inline-block;line-height: 1.2em;}#sk-container-id-106 div.sk-label-container {text-align: center;}#sk-container-id-106 div.sk-container {/* jupyter's `normalize.less` sets `[hidden] { display: none; }` but bootstrap.min.css set `[hidden] { display: none !important; }` so we also need the `!important` here to be able to override the default hidden behavior on the sphinx rendered scikit-learn.org. See: https://github.com/scikit-learn/scikit-learn/issues/21755 */display: inline-block !important;position: relative;}#sk-container-id-106 div.sk-text-repr-fallback {display: none;}</style><div id=\"sk-container-id-106\" class=\"sk-top-container\"><div class=\"sk-text-repr-fallback\"><pre>RandomForestClassifier(n_estimators=700)</pre><b>In a Jupyter environment, please rerun this cell to show the HTML representation or trust the notebook. <br />On GitHub, the HTML representation is unable to render, please try loading this page with nbviewer.org.</b></div><div class=\"sk-container\" hidden><div class=\"sk-item\"><div class=\"sk-estimator sk-toggleable\"><input class=\"sk-toggleable__control sk-hidden--visually\" id=\"sk-estimator-id-122\" type=\"checkbox\" checked><label for=\"sk-estimator-id-122\" class=\"sk-toggleable__label sk-toggleable__label-arrow\">RandomForestClassifier</label><div class=\"sk-toggleable__content\"><pre>RandomForestClassifier(n_estimators=700)</pre></div></div></div></div></div>"
      ],
      "text/plain": [
       "RandomForestClassifier(n_estimators=700)"
      ]
     },
     "execution_count": 782,
     "metadata": {},
     "output_type": "execute_result"
    }
   ],
   "source": [
    "model_rf.fit(xtrain,ytrain)"
   ]
  },
  {
   "cell_type": "code",
   "execution_count": 612,
   "id": "26fb641b",
   "metadata": {},
   "outputs": [
    {
     "data": {
      "text/plain": [
       "0.7226934696723216"
      ]
     },
     "execution_count": 612,
     "metadata": {},
     "output_type": "execute_result"
    }
   ],
   "source": [
    "model_rf.score(xtest,ytest) # Performance of the model"
   ]
  },
  {
   "cell_type": "code",
   "execution_count": 613,
   "id": "732f24c4",
   "metadata": {},
   "outputs": [],
   "source": [
    "y_pred_rf = model_rf.predict(xtest)"
   ]
  },
  {
   "cell_type": "code",
   "execution_count": 614,
   "id": "f2c100e3",
   "metadata": {},
   "outputs": [
    {
     "name": "stdout",
     "output_type": "stream",
     "text": [
      "Confusion Metrics:\n",
      " [[6395 2578]\n",
      " [2195 6044]]\n",
      "Accuracy:  0.7226934696723216\n",
      "Recall:  0.7335841728365093\n",
      "Precision:  0.7009974483878451\n",
      "F1 score:  0.7169207045845443\n",
      "Cohen kappa Score:  0.4454309075789059\n",
      "Classification Summary:\n",
      "               precision    recall  f1-score   support\n",
      "\n",
      "           0       0.74      0.71      0.73      8973\n",
      "           1       0.70      0.73      0.72      8239\n",
      "\n",
      "    accuracy                           0.72     17212\n",
      "   macro avg       0.72      0.72      0.72     17212\n",
      "weighted avg       0.72      0.72      0.72     17212\n",
      "\n"
     ]
    }
   ],
   "source": [
    "scores(ytest,y_pred_rf)"
   ]
  },
  {
   "cell_type": "code",
   "execution_count": 334,
   "id": "040569b2",
   "metadata": {},
   "outputs": [],
   "source": [
    "# Tuning the Random Forest Model"
   ]
  },
  {
   "cell_type": "code",
   "execution_count": 529,
   "id": "1b09fd89",
   "metadata": {},
   "outputs": [],
   "source": [
    "param = {\"n_estimators\":[100,200,300,500,700,900,1200],\n",
    "         \"max_depth\":[4,5,6,7],\n",
    "         \"criterion\":[\"entropy\"]}"
   ]
  },
  {
   "cell_type": "code",
   "execution_count": 530,
   "id": "5edd2e58",
   "metadata": {},
   "outputs": [],
   "source": [
    "gscv = GridSearchCV(estimator=RandomForestClassifier(),param_grid=param,cv=3,scoring=\"recall\",verbose=3)"
   ]
  },
  {
   "cell_type": "code",
   "execution_count": 532,
   "id": "720b9f3a",
   "metadata": {},
   "outputs": [
    {
     "name": "stdout",
     "output_type": "stream",
     "text": [
      "Fitting 3 folds for each of 28 candidates, totalling 84 fits\n",
      "[CV 1/3] END criterion=entropy, max_depth=4, n_estimators=100;, score=0.723 total time=   0.5s\n",
      "[CV 2/3] END criterion=entropy, max_depth=4, n_estimators=100;, score=0.714 total time=   0.5s\n",
      "[CV 3/3] END criterion=entropy, max_depth=4, n_estimators=100;, score=0.684 total time=   0.5s\n",
      "[CV 1/3] END criterion=entropy, max_depth=4, n_estimators=200;, score=0.693 total time=   1.1s\n",
      "[CV 2/3] END criterion=entropy, max_depth=4, n_estimators=200;, score=0.670 total time=   1.1s\n",
      "[CV 3/3] END criterion=entropy, max_depth=4, n_estimators=200;, score=0.670 total time=   1.1s\n",
      "[CV 1/3] END criterion=entropy, max_depth=4, n_estimators=300;, score=0.705 total time=   1.7s\n",
      "[CV 2/3] END criterion=entropy, max_depth=4, n_estimators=300;, score=0.713 total time=   1.7s\n",
      "[CV 3/3] END criterion=entropy, max_depth=4, n_estimators=300;, score=0.725 total time=   1.7s\n",
      "[CV 1/3] END criterion=entropy, max_depth=4, n_estimators=500;, score=0.716 total time=   2.9s\n",
      "[CV 2/3] END criterion=entropy, max_depth=4, n_estimators=500;, score=0.673 total time=   3.1s\n",
      "[CV 3/3] END criterion=entropy, max_depth=4, n_estimators=500;, score=0.672 total time=   2.9s\n",
      "[CV 1/3] END criterion=entropy, max_depth=4, n_estimators=700;, score=0.713 total time=   4.1s\n",
      "[CV 2/3] END criterion=entropy, max_depth=4, n_estimators=700;, score=0.693 total time=   4.1s\n",
      "[CV 3/3] END criterion=entropy, max_depth=4, n_estimators=700;, score=0.719 total time=   4.1s\n",
      "[CV 1/3] END criterion=entropy, max_depth=4, n_estimators=900;, score=0.702 total time=   6.1s\n",
      "[CV 2/3] END criterion=entropy, max_depth=4, n_estimators=900;, score=0.667 total time=   5.3s\n",
      "[CV 3/3] END criterion=entropy, max_depth=4, n_estimators=900;, score=0.712 total time=   5.7s\n",
      "[CV 1/3] END criterion=entropy, max_depth=4, n_estimators=1200;, score=0.711 total time=   7.0s\n",
      "[CV 2/3] END criterion=entropy, max_depth=4, n_estimators=1200;, score=0.672 total time=   7.1s\n",
      "[CV 3/3] END criterion=entropy, max_depth=4, n_estimators=1200;, score=0.700 total time=   7.1s\n",
      "[CV 1/3] END criterion=entropy, max_depth=5, n_estimators=100;, score=0.733 total time=   0.6s\n",
      "[CV 2/3] END criterion=entropy, max_depth=5, n_estimators=100;, score=0.756 total time=   0.6s\n",
      "[CV 3/3] END criterion=entropy, max_depth=5, n_estimators=100;, score=0.769 total time=   0.6s\n",
      "[CV 1/3] END criterion=entropy, max_depth=5, n_estimators=200;, score=0.733 total time=   1.3s\n",
      "[CV 2/3] END criterion=entropy, max_depth=5, n_estimators=200;, score=0.739 total time=   1.3s\n",
      "[CV 3/3] END criterion=entropy, max_depth=5, n_estimators=200;, score=0.733 total time=   1.3s\n",
      "[CV 1/3] END criterion=entropy, max_depth=5, n_estimators=300;, score=0.733 total time=   2.0s\n",
      "[CV 2/3] END criterion=entropy, max_depth=5, n_estimators=300;, score=0.732 total time=   2.2s\n",
      "[CV 3/3] END criterion=entropy, max_depth=5, n_estimators=300;, score=0.734 total time=   2.1s\n",
      "[CV 1/3] END criterion=entropy, max_depth=5, n_estimators=500;, score=0.734 total time=   3.3s\n",
      "[CV 2/3] END criterion=entropy, max_depth=5, n_estimators=500;, score=0.735 total time=   3.3s\n",
      "[CV 3/3] END criterion=entropy, max_depth=5, n_estimators=500;, score=0.735 total time=   3.3s\n",
      "[CV 1/3] END criterion=entropy, max_depth=5, n_estimators=700;, score=0.730 total time=   4.8s\n",
      "[CV 2/3] END criterion=entropy, max_depth=5, n_estimators=700;, score=0.743 total time=   4.8s\n",
      "[CV 3/3] END criterion=entropy, max_depth=5, n_estimators=700;, score=0.738 total time=   4.7s\n",
      "[CV 1/3] END criterion=entropy, max_depth=5, n_estimators=900;, score=0.732 total time=   6.4s\n",
      "[CV 2/3] END criterion=entropy, max_depth=5, n_estimators=900;, score=0.739 total time=   6.3s\n",
      "[CV 3/3] END criterion=entropy, max_depth=5, n_estimators=900;, score=0.739 total time=   6.4s\n",
      "[CV 1/3] END criterion=entropy, max_depth=5, n_estimators=1200;, score=0.733 total time=   8.9s\n",
      "[CV 2/3] END criterion=entropy, max_depth=5, n_estimators=1200;, score=0.740 total time=   8.7s\n",
      "[CV 3/3] END criterion=entropy, max_depth=5, n_estimators=1200;, score=0.736 total time=   8.6s\n",
      "[CV 1/3] END criterion=entropy, max_depth=6, n_estimators=100;, score=0.727 total time=   0.7s\n",
      "[CV 2/3] END criterion=entropy, max_depth=6, n_estimators=100;, score=0.764 total time=   0.7s\n",
      "[CV 3/3] END criterion=entropy, max_depth=6, n_estimators=100;, score=0.763 total time=   0.7s\n",
      "[CV 1/3] END criterion=entropy, max_depth=6, n_estimators=200;, score=0.766 total time=   1.5s\n",
      "[CV 2/3] END criterion=entropy, max_depth=6, n_estimators=200;, score=0.767 total time=   1.5s\n",
      "[CV 3/3] END criterion=entropy, max_depth=6, n_estimators=200;, score=0.740 total time=   1.5s\n",
      "[CV 1/3] END criterion=entropy, max_depth=6, n_estimators=300;, score=0.744 total time=   2.4s\n",
      "[CV 2/3] END criterion=entropy, max_depth=6, n_estimators=300;, score=0.769 total time=   2.3s\n",
      "[CV 3/3] END criterion=entropy, max_depth=6, n_estimators=300;, score=0.774 total time=   2.4s\n",
      "[CV 1/3] END criterion=entropy, max_depth=6, n_estimators=500;, score=0.757 total time=   3.9s\n",
      "[CV 2/3] END criterion=entropy, max_depth=6, n_estimators=500;, score=0.768 total time=   4.0s\n",
      "[CV 3/3] END criterion=entropy, max_depth=6, n_estimators=500;, score=0.762 total time=   4.4s\n",
      "[CV 1/3] END criterion=entropy, max_depth=6, n_estimators=700;, score=0.738 total time=   5.2s\n",
      "[CV 2/3] END criterion=entropy, max_depth=6, n_estimators=700;, score=0.767 total time=   5.3s\n",
      "[CV 3/3] END criterion=entropy, max_depth=6, n_estimators=700;, score=0.765 total time=   5.3s\n",
      "[CV 1/3] END criterion=entropy, max_depth=6, n_estimators=900;, score=0.740 total time=   6.8s\n",
      "[CV 2/3] END criterion=entropy, max_depth=6, n_estimators=900;, score=0.743 total time=   6.8s\n",
      "[CV 3/3] END criterion=entropy, max_depth=6, n_estimators=900;, score=0.753 total time=   6.8s\n",
      "[CV 1/3] END criterion=entropy, max_depth=6, n_estimators=1200;, score=0.758 total time=  10.2s\n",
      "[CV 2/3] END criterion=entropy, max_depth=6, n_estimators=1200;, score=0.751 total time=   9.2s\n",
      "[CV 3/3] END criterion=entropy, max_depth=6, n_estimators=1200;, score=0.765 total time=   9.4s\n",
      "[CV 1/3] END criterion=entropy, max_depth=7, n_estimators=100;, score=0.768 total time=   0.8s\n",
      "[CV 2/3] END criterion=entropy, max_depth=7, n_estimators=100;, score=0.767 total time=   0.8s\n",
      "[CV 3/3] END criterion=entropy, max_depth=7, n_estimators=100;, score=0.775 total time=   0.8s\n",
      "[CV 1/3] END criterion=entropy, max_depth=7, n_estimators=200;, score=0.767 total time=   1.6s\n",
      "[CV 2/3] END criterion=entropy, max_depth=7, n_estimators=200;, score=0.770 total time=   1.6s\n",
      "[CV 3/3] END criterion=entropy, max_depth=7, n_estimators=200;, score=0.767 total time=   1.6s\n",
      "[CV 1/3] END criterion=entropy, max_depth=7, n_estimators=300;, score=0.756 total time=   2.5s\n",
      "[CV 2/3] END criterion=entropy, max_depth=7, n_estimators=300;, score=0.758 total time=   2.5s\n",
      "[CV 3/3] END criterion=entropy, max_depth=7, n_estimators=300;, score=0.774 total time=   2.5s\n",
      "[CV 1/3] END criterion=entropy, max_depth=7, n_estimators=500;, score=0.763 total time=   4.2s\n",
      "[CV 2/3] END criterion=entropy, max_depth=7, n_estimators=500;, score=0.773 total time=   4.2s\n",
      "[CV 3/3] END criterion=entropy, max_depth=7, n_estimators=500;, score=0.776 total time=   4.3s\n",
      "[CV 1/3] END criterion=entropy, max_depth=7, n_estimators=700;, score=0.766 total time=   6.3s\n",
      "[CV 2/3] END criterion=entropy, max_depth=7, n_estimators=700;, score=0.769 total time=   6.1s\n",
      "[CV 3/3] END criterion=entropy, max_depth=7, n_estimators=700;, score=0.779 total time=   6.2s\n",
      "[CV 1/3] END criterion=entropy, max_depth=7, n_estimators=900;, score=0.768 total time=   7.5s\n",
      "[CV 2/3] END criterion=entropy, max_depth=7, n_estimators=900;, score=0.773 total time=   8.6s\n",
      "[CV 3/3] END criterion=entropy, max_depth=7, n_estimators=900;, score=0.772 total time=   8.6s\n",
      "[CV 1/3] END criterion=entropy, max_depth=7, n_estimators=1200;, score=0.766 total time=  10.6s\n",
      "[CV 2/3] END criterion=entropy, max_depth=7, n_estimators=1200;, score=0.773 total time=  11.4s\n",
      "[CV 3/3] END criterion=entropy, max_depth=7, n_estimators=1200;, score=0.774 total time=  10.3s\n"
     ]
    },
    {
     "data": {
      "text/html": [
       "<style>#sk-container-id-69 {color: black;background-color: white;}#sk-container-id-69 pre{padding: 0;}#sk-container-id-69 div.sk-toggleable {background-color: white;}#sk-container-id-69 label.sk-toggleable__label {cursor: pointer;display: block;width: 100%;margin-bottom: 0;padding: 0.3em;box-sizing: border-box;text-align: center;}#sk-container-id-69 label.sk-toggleable__label-arrow:before {content: \"▸\";float: left;margin-right: 0.25em;color: #696969;}#sk-container-id-69 label.sk-toggleable__label-arrow:hover:before {color: black;}#sk-container-id-69 div.sk-estimator:hover label.sk-toggleable__label-arrow:before {color: black;}#sk-container-id-69 div.sk-toggleable__content {max-height: 0;max-width: 0;overflow: hidden;text-align: left;background-color: #f0f8ff;}#sk-container-id-69 div.sk-toggleable__content pre {margin: 0.2em;color: black;border-radius: 0.25em;background-color: #f0f8ff;}#sk-container-id-69 input.sk-toggleable__control:checked~div.sk-toggleable__content {max-height: 200px;max-width: 100%;overflow: auto;}#sk-container-id-69 input.sk-toggleable__control:checked~label.sk-toggleable__label-arrow:before {content: \"▾\";}#sk-container-id-69 div.sk-estimator input.sk-toggleable__control:checked~label.sk-toggleable__label {background-color: #d4ebff;}#sk-container-id-69 div.sk-label input.sk-toggleable__control:checked~label.sk-toggleable__label {background-color: #d4ebff;}#sk-container-id-69 input.sk-hidden--visually {border: 0;clip: rect(1px 1px 1px 1px);clip: rect(1px, 1px, 1px, 1px);height: 1px;margin: -1px;overflow: hidden;padding: 0;position: absolute;width: 1px;}#sk-container-id-69 div.sk-estimator {font-family: monospace;background-color: #f0f8ff;border: 1px dotted black;border-radius: 0.25em;box-sizing: border-box;margin-bottom: 0.5em;}#sk-container-id-69 div.sk-estimator:hover {background-color: #d4ebff;}#sk-container-id-69 div.sk-parallel-item::after {content: \"\";width: 100%;border-bottom: 1px solid gray;flex-grow: 1;}#sk-container-id-69 div.sk-label:hover label.sk-toggleable__label {background-color: #d4ebff;}#sk-container-id-69 div.sk-serial::before {content: \"\";position: absolute;border-left: 1px solid gray;box-sizing: border-box;top: 0;bottom: 0;left: 50%;z-index: 0;}#sk-container-id-69 div.sk-serial {display: flex;flex-direction: column;align-items: center;background-color: white;padding-right: 0.2em;padding-left: 0.2em;position: relative;}#sk-container-id-69 div.sk-item {position: relative;z-index: 1;}#sk-container-id-69 div.sk-parallel {display: flex;align-items: stretch;justify-content: center;background-color: white;position: relative;}#sk-container-id-69 div.sk-item::before, #sk-container-id-69 div.sk-parallel-item::before {content: \"\";position: absolute;border-left: 1px solid gray;box-sizing: border-box;top: 0;bottom: 0;left: 50%;z-index: -1;}#sk-container-id-69 div.sk-parallel-item {display: flex;flex-direction: column;z-index: 1;position: relative;background-color: white;}#sk-container-id-69 div.sk-parallel-item:first-child::after {align-self: flex-end;width: 50%;}#sk-container-id-69 div.sk-parallel-item:last-child::after {align-self: flex-start;width: 50%;}#sk-container-id-69 div.sk-parallel-item:only-child::after {width: 0;}#sk-container-id-69 div.sk-dashed-wrapped {border: 1px dashed gray;margin: 0 0.4em 0.5em 0.4em;box-sizing: border-box;padding-bottom: 0.4em;background-color: white;}#sk-container-id-69 div.sk-label label {font-family: monospace;font-weight: bold;display: inline-block;line-height: 1.2em;}#sk-container-id-69 div.sk-label-container {text-align: center;}#sk-container-id-69 div.sk-container {/* jupyter's `normalize.less` sets `[hidden] { display: none; }` but bootstrap.min.css set `[hidden] { display: none !important; }` so we also need the `!important` here to be able to override the default hidden behavior on the sphinx rendered scikit-learn.org. See: https://github.com/scikit-learn/scikit-learn/issues/21755 */display: inline-block !important;position: relative;}#sk-container-id-69 div.sk-text-repr-fallback {display: none;}</style><div id=\"sk-container-id-69\" class=\"sk-top-container\"><div class=\"sk-text-repr-fallback\"><pre>GridSearchCV(cv=3, estimator=RandomForestClassifier(),\n",
       "             param_grid={&#x27;criterion&#x27;: [&#x27;entropy&#x27;], &#x27;max_depth&#x27;: [4, 5, 6, 7],\n",
       "                         &#x27;n_estimators&#x27;: [100, 200, 300, 500, 700, 900, 1200]},\n",
       "             scoring=&#x27;recall&#x27;, verbose=3)</pre><b>In a Jupyter environment, please rerun this cell to show the HTML representation or trust the notebook. <br />On GitHub, the HTML representation is unable to render, please try loading this page with nbviewer.org.</b></div><div class=\"sk-container\" hidden><div class=\"sk-item sk-dashed-wrapped\"><div class=\"sk-label-container\"><div class=\"sk-label sk-toggleable\"><input class=\"sk-toggleable__control sk-hidden--visually\" id=\"sk-estimator-id-79\" type=\"checkbox\" ><label for=\"sk-estimator-id-79\" class=\"sk-toggleable__label sk-toggleable__label-arrow\">GridSearchCV</label><div class=\"sk-toggleable__content\"><pre>GridSearchCV(cv=3, estimator=RandomForestClassifier(),\n",
       "             param_grid={&#x27;criterion&#x27;: [&#x27;entropy&#x27;], &#x27;max_depth&#x27;: [4, 5, 6, 7],\n",
       "                         &#x27;n_estimators&#x27;: [100, 200, 300, 500, 700, 900, 1200]},\n",
       "             scoring=&#x27;recall&#x27;, verbose=3)</pre></div></div></div><div class=\"sk-parallel\"><div class=\"sk-parallel-item\"><div class=\"sk-item\"><div class=\"sk-label-container\"><div class=\"sk-label sk-toggleable\"><input class=\"sk-toggleable__control sk-hidden--visually\" id=\"sk-estimator-id-80\" type=\"checkbox\" ><label for=\"sk-estimator-id-80\" class=\"sk-toggleable__label sk-toggleable__label-arrow\">estimator: RandomForestClassifier</label><div class=\"sk-toggleable__content\"><pre>RandomForestClassifier()</pre></div></div></div><div class=\"sk-serial\"><div class=\"sk-item\"><div class=\"sk-estimator sk-toggleable\"><input class=\"sk-toggleable__control sk-hidden--visually\" id=\"sk-estimator-id-81\" type=\"checkbox\" ><label for=\"sk-estimator-id-81\" class=\"sk-toggleable__label sk-toggleable__label-arrow\">RandomForestClassifier</label><div class=\"sk-toggleable__content\"><pre>RandomForestClassifier()</pre></div></div></div></div></div></div></div></div></div></div>"
      ],
      "text/plain": [
       "GridSearchCV(cv=3, estimator=RandomForestClassifier(),\n",
       "             param_grid={'criterion': ['entropy'], 'max_depth': [4, 5, 6, 7],\n",
       "                         'n_estimators': [100, 200, 300, 500, 700, 900, 1200]},\n",
       "             scoring='recall', verbose=3)"
      ]
     },
     "execution_count": 532,
     "metadata": {},
     "output_type": "execute_result"
    }
   ],
   "source": [
    "gscv.fit(xtrain,ytrain)"
   ]
  },
  {
   "cell_type": "code",
   "execution_count": 533,
   "id": "2d82f34b",
   "metadata": {},
   "outputs": [
    {
     "data": {
      "text/plain": [
       "{'criterion': 'entropy', 'max_depth': 7, 'n_estimators': 700}"
      ]
     },
     "execution_count": 533,
     "metadata": {},
     "output_type": "execute_result"
    }
   ],
   "source": [
    "gscv.best_params_"
   ]
  },
  {
   "cell_type": "code",
   "execution_count": 534,
   "id": "42f8cecc",
   "metadata": {},
   "outputs": [],
   "source": [
    "model_rf = RandomForestClassifier(**gscv.best_params_)"
   ]
  },
  {
   "cell_type": "code",
   "execution_count": 536,
   "id": "1e84f661",
   "metadata": {},
   "outputs": [
    {
     "data": {
      "text/html": [
       "<style>#sk-container-id-71 {color: black;background-color: white;}#sk-container-id-71 pre{padding: 0;}#sk-container-id-71 div.sk-toggleable {background-color: white;}#sk-container-id-71 label.sk-toggleable__label {cursor: pointer;display: block;width: 100%;margin-bottom: 0;padding: 0.3em;box-sizing: border-box;text-align: center;}#sk-container-id-71 label.sk-toggleable__label-arrow:before {content: \"▸\";float: left;margin-right: 0.25em;color: #696969;}#sk-container-id-71 label.sk-toggleable__label-arrow:hover:before {color: black;}#sk-container-id-71 div.sk-estimator:hover label.sk-toggleable__label-arrow:before {color: black;}#sk-container-id-71 div.sk-toggleable__content {max-height: 0;max-width: 0;overflow: hidden;text-align: left;background-color: #f0f8ff;}#sk-container-id-71 div.sk-toggleable__content pre {margin: 0.2em;color: black;border-radius: 0.25em;background-color: #f0f8ff;}#sk-container-id-71 input.sk-toggleable__control:checked~div.sk-toggleable__content {max-height: 200px;max-width: 100%;overflow: auto;}#sk-container-id-71 input.sk-toggleable__control:checked~label.sk-toggleable__label-arrow:before {content: \"▾\";}#sk-container-id-71 div.sk-estimator input.sk-toggleable__control:checked~label.sk-toggleable__label {background-color: #d4ebff;}#sk-container-id-71 div.sk-label input.sk-toggleable__control:checked~label.sk-toggleable__label {background-color: #d4ebff;}#sk-container-id-71 input.sk-hidden--visually {border: 0;clip: rect(1px 1px 1px 1px);clip: rect(1px, 1px, 1px, 1px);height: 1px;margin: -1px;overflow: hidden;padding: 0;position: absolute;width: 1px;}#sk-container-id-71 div.sk-estimator {font-family: monospace;background-color: #f0f8ff;border: 1px dotted black;border-radius: 0.25em;box-sizing: border-box;margin-bottom: 0.5em;}#sk-container-id-71 div.sk-estimator:hover {background-color: #d4ebff;}#sk-container-id-71 div.sk-parallel-item::after {content: \"\";width: 100%;border-bottom: 1px solid gray;flex-grow: 1;}#sk-container-id-71 div.sk-label:hover label.sk-toggleable__label {background-color: #d4ebff;}#sk-container-id-71 div.sk-serial::before {content: \"\";position: absolute;border-left: 1px solid gray;box-sizing: border-box;top: 0;bottom: 0;left: 50%;z-index: 0;}#sk-container-id-71 div.sk-serial {display: flex;flex-direction: column;align-items: center;background-color: white;padding-right: 0.2em;padding-left: 0.2em;position: relative;}#sk-container-id-71 div.sk-item {position: relative;z-index: 1;}#sk-container-id-71 div.sk-parallel {display: flex;align-items: stretch;justify-content: center;background-color: white;position: relative;}#sk-container-id-71 div.sk-item::before, #sk-container-id-71 div.sk-parallel-item::before {content: \"\";position: absolute;border-left: 1px solid gray;box-sizing: border-box;top: 0;bottom: 0;left: 50%;z-index: -1;}#sk-container-id-71 div.sk-parallel-item {display: flex;flex-direction: column;z-index: 1;position: relative;background-color: white;}#sk-container-id-71 div.sk-parallel-item:first-child::after {align-self: flex-end;width: 50%;}#sk-container-id-71 div.sk-parallel-item:last-child::after {align-self: flex-start;width: 50%;}#sk-container-id-71 div.sk-parallel-item:only-child::after {width: 0;}#sk-container-id-71 div.sk-dashed-wrapped {border: 1px dashed gray;margin: 0 0.4em 0.5em 0.4em;box-sizing: border-box;padding-bottom: 0.4em;background-color: white;}#sk-container-id-71 div.sk-label label {font-family: monospace;font-weight: bold;display: inline-block;line-height: 1.2em;}#sk-container-id-71 div.sk-label-container {text-align: center;}#sk-container-id-71 div.sk-container {/* jupyter's `normalize.less` sets `[hidden] { display: none; }` but bootstrap.min.css set `[hidden] { display: none !important; }` so we also need the `!important` here to be able to override the default hidden behavior on the sphinx rendered scikit-learn.org. See: https://github.com/scikit-learn/scikit-learn/issues/21755 */display: inline-block !important;position: relative;}#sk-container-id-71 div.sk-text-repr-fallback {display: none;}</style><div id=\"sk-container-id-71\" class=\"sk-top-container\"><div class=\"sk-text-repr-fallback\"><pre>RandomForestClassifier(criterion=&#x27;entropy&#x27;, max_depth=7, n_estimators=700)</pre><b>In a Jupyter environment, please rerun this cell to show the HTML representation or trust the notebook. <br />On GitHub, the HTML representation is unable to render, please try loading this page with nbviewer.org.</b></div><div class=\"sk-container\" hidden><div class=\"sk-item\"><div class=\"sk-estimator sk-toggleable\"><input class=\"sk-toggleable__control sk-hidden--visually\" id=\"sk-estimator-id-83\" type=\"checkbox\" checked><label for=\"sk-estimator-id-83\" class=\"sk-toggleable__label sk-toggleable__label-arrow\">RandomForestClassifier</label><div class=\"sk-toggleable__content\"><pre>RandomForestClassifier(criterion=&#x27;entropy&#x27;, max_depth=7, n_estimators=700)</pre></div></div></div></div></div>"
      ],
      "text/plain": [
       "RandomForestClassifier(criterion='entropy', max_depth=7, n_estimators=700)"
      ]
     },
     "execution_count": 536,
     "metadata": {},
     "output_type": "execute_result"
    }
   ],
   "source": [
    "model_rf.fit(xtrain,ytrain)"
   ]
  },
  {
   "cell_type": "code",
   "execution_count": 537,
   "id": "c2d691f0",
   "metadata": {},
   "outputs": [
    {
     "data": {
      "text/plain": [
       "0.7539507320474088"
      ]
     },
     "execution_count": 537,
     "metadata": {},
     "output_type": "execute_result"
    }
   ],
   "source": [
    "model_rf.score(xtest,ytest)"
   ]
  },
  {
   "cell_type": "code",
   "execution_count": 538,
   "id": "1868d5c0",
   "metadata": {},
   "outputs": [],
   "source": [
    "y_pred_rf = model_rf.predict(xtest)"
   ]
  },
  {
   "cell_type": "code",
   "execution_count": 539,
   "id": "b8660edb",
   "metadata": {},
   "outputs": [
    {
     "name": "stdout",
     "output_type": "stream",
     "text": [
      "Confusion Metrics:\n",
      " [[6591 2382]\n",
      " [1853 6386]]\n",
      "Accuracy:  0.7539507320474088\n",
      "Recall:  0.775094064813691\n",
      "Precision:  0.7283302919708029\n",
      "F1 score:  0.7509848885752927\n",
      "Cohen kappa Score:  0.5082961775942023\n",
      "Classification Summary:\n",
      "               precision    recall  f1-score   support\n",
      "\n",
      "           0       0.78      0.73      0.76      8973\n",
      "           1       0.73      0.78      0.75      8239\n",
      "\n",
      "    accuracy                           0.75     17212\n",
      "   macro avg       0.75      0.75      0.75     17212\n",
      "weighted avg       0.76      0.75      0.75     17212\n",
      "\n"
     ]
    }
   ],
   "source": [
    "scores(ytest,y_pred_rf)"
   ]
  },
  {
   "cell_type": "markdown",
   "id": "530ddc02",
   "metadata": {},
   "source": [
    "# Inference\n",
    "* (After applying Parameter tuning with help of Grid Search CV)\n",
    "* There is a increase in accuracy,recall,f1-score and cohen-kappa score.\n",
    "* By far , the best results that we have got are from this model.\n",
    "* We will move forward and apply Xgboost."
   ]
  },
  {
   "cell_type": "code",
   "execution_count": 783,
   "id": "22aaccba",
   "metadata": {},
   "outputs": [],
   "source": [
    "y_pred_rf_prob = model_rf.predict_proba(xtest)[:,1]"
   ]
  },
  {
   "cell_type": "code",
   "execution_count": 784,
   "id": "b5f66704",
   "metadata": {},
   "outputs": [
    {
     "data": {
      "image/png": "[encoded data removed]",
      "text/plain": [
       "<Figure size 432x288 with 1 Axes>"
      ]
     },
     "metadata": {
      "needs_background": "light"
     },
     "output_type": "display_data"
    }
   ],
   "source": [
    "roc(ytest,y_pred_rf_prob)"
   ]
  },
  {
   "cell_type": "markdown",
   "id": "9711a5a7",
   "metadata": {},
   "source": [
    "# Model 4 (XG Boost)"
   ]
  },
  {
   "cell_type": "code",
   "execution_count": 785,
   "id": "ff45ee64",
   "metadata": {},
   "outputs": [],
   "source": [
    "from xgboost import XGBClassifier"
   ]
  },
  {
   "cell_type": "code",
   "execution_count": 572,
   "id": "d15c81d3",
   "metadata": {},
   "outputs": [],
   "source": [
    "model_xgb = XGBClassifier()"
   ]
  },
  {
   "cell_type": "code",
   "execution_count": 573,
   "id": "6d12199d",
   "metadata": {},
   "outputs": [
    {
     "data": {
      "text/html": [
       "<style>#sk-container-id-79 {color: black;background-color: white;}#sk-container-id-79 pre{padding: 0;}#sk-container-id-79 div.sk-toggleable {background-color: white;}#sk-container-id-79 label.sk-toggleable__label {cursor: pointer;display: block;width: 100%;margin-bottom: 0;padding: 0.3em;box-sizing: border-box;text-align: center;}#sk-container-id-79 label.sk-toggleable__label-arrow:before {content: \"▸\";float: left;margin-right: 0.25em;color: #696969;}#sk-container-id-79 label.sk-toggleable__label-arrow:hover:before {color: black;}#sk-container-id-79 div.sk-estimator:hover label.sk-toggleable__label-arrow:before {color: black;}#sk-container-id-79 div.sk-toggleable__content {max-height: 0;max-width: 0;overflow: hidden;text-align: left;background-color: #f0f8ff;}#sk-container-id-79 div.sk-toggleable__content pre {margin: 0.2em;color: black;border-radius: 0.25em;background-color: #f0f8ff;}#sk-container-id-79 input.sk-toggleable__control:checked~div.sk-toggleable__content {max-height: 200px;max-width: 100%;overflow: auto;}#sk-container-id-79 input.sk-toggleable__control:checked~label.sk-toggleable__label-arrow:before {content: \"▾\";}#sk-container-id-79 div.sk-estimator input.sk-toggleable__control:checked~label.sk-toggleable__label {background-color: #d4ebff;}#sk-container-id-79 div.sk-label input.sk-toggleable__control:checked~label.sk-toggleable__label {background-color: #d4ebff;}#sk-container-id-79 input.sk-hidden--visually {border: 0;clip: rect(1px 1px 1px 1px);clip: rect(1px, 1px, 1px, 1px);height: 1px;margin: -1px;overflow: hidden;padding: 0;position: absolute;width: 1px;}#sk-container-id-79 div.sk-estimator {font-family: monospace;background-color: #f0f8ff;border: 1px dotted black;border-radius: 0.25em;box-sizing: border-box;margin-bottom: 0.5em;}#sk-container-id-79 div.sk-estimator:hover {background-color: #d4ebff;}#sk-container-id-79 div.sk-parallel-item::after {content: \"\";width: 100%;border-bottom: 1px solid gray;flex-grow: 1;}#sk-container-id-79 div.sk-label:hover label.sk-toggleable__label {background-color: #d4ebff;}#sk-container-id-79 div.sk-serial::before {content: \"\";position: absolute;border-left: 1px solid gray;box-sizing: border-box;top: 0;bottom: 0;left: 50%;z-index: 0;}#sk-container-id-79 div.sk-serial {display: flex;flex-direction: column;align-items: center;background-color: white;padding-right: 0.2em;padding-left: 0.2em;position: relative;}#sk-container-id-79 div.sk-item {position: relative;z-index: 1;}#sk-container-id-79 div.sk-parallel {display: flex;align-items: stretch;justify-content: center;background-color: white;position: relative;}#sk-container-id-79 div.sk-item::before, #sk-container-id-79 div.sk-parallel-item::before {content: \"\";position: absolute;border-left: 1px solid gray;box-sizing: border-box;top: 0;bottom: 0;left: 50%;z-index: -1;}#sk-container-id-79 div.sk-parallel-item {display: flex;flex-direction: column;z-index: 1;position: relative;background-color: white;}#sk-container-id-79 div.sk-parallel-item:first-child::after {align-self: flex-end;width: 50%;}#sk-container-id-79 div.sk-parallel-item:last-child::after {align-self: flex-start;width: 50%;}#sk-container-id-79 div.sk-parallel-item:only-child::after {width: 0;}#sk-container-id-79 div.sk-dashed-wrapped {border: 1px dashed gray;margin: 0 0.4em 0.5em 0.4em;box-sizing: border-box;padding-bottom: 0.4em;background-color: white;}#sk-container-id-79 div.sk-label label {font-family: monospace;font-weight: bold;display: inline-block;line-height: 1.2em;}#sk-container-id-79 div.sk-label-container {text-align: center;}#sk-container-id-79 div.sk-container {/* jupyter's `normalize.less` sets `[hidden] { display: none; }` but bootstrap.min.css set `[hidden] { display: none !important; }` so we also need the `!important` here to be able to override the default hidden behavior on the sphinx rendered scikit-learn.org. See: https://github.com/scikit-learn/scikit-learn/issues/21755 */display: inline-block !important;position: relative;}#sk-container-id-79 div.sk-text-repr-fallback {display: none;}</style><div id=\"sk-container-id-79\" class=\"sk-top-container\"><div class=\"sk-text-repr-fallback\"><pre>XGBClassifier(base_score=0.5, booster=&#x27;gbtree&#x27;, callbacks=None,\n",
       "              colsample_bylevel=1, colsample_bynode=1, colsample_bytree=1,\n",
       "              early_stopping_rounds=None, enable_categorical=False,\n",
       "              eval_metric=None, feature_types=None, gamma=0, gpu_id=-1,\n",
       "              grow_policy=&#x27;depthwise&#x27;, importance_type=None,\n",
       "              interaction_constraints=&#x27;&#x27;, learning_rate=0.300000012,\n",
       "              max_bin=256, max_cat_threshold=64, max_cat_to_onehot=4,\n",
       "              max_delta_step=0, max_depth=6, max_leaves=0, min_child_weight=1,\n",
       "              missing=nan, monotone_constraints=&#x27;()&#x27;, n_estimators=100,\n",
       "              n_jobs=0, num_parallel_tree=1, predictor=&#x27;auto&#x27;, random_state=0, ...)</pre><b>In a Jupyter environment, please rerun this cell to show the HTML representation or trust the notebook. <br />On GitHub, the HTML representation is unable to render, please try loading this page with nbviewer.org.</b></div><div class=\"sk-container\" hidden><div class=\"sk-item\"><div class=\"sk-estimator sk-toggleable\"><input class=\"sk-toggleable__control sk-hidden--visually\" id=\"sk-estimator-id-93\" type=\"checkbox\" checked><label for=\"sk-estimator-id-93\" class=\"sk-toggleable__label sk-toggleable__label-arrow\">XGBClassifier</label><div class=\"sk-toggleable__content\"><pre>XGBClassifier(base_score=0.5, booster=&#x27;gbtree&#x27;, callbacks=None,\n",
       "              colsample_bylevel=1, colsample_bynode=1, colsample_bytree=1,\n",
       "              early_stopping_rounds=None, enable_categorical=False,\n",
       "              eval_metric=None, feature_types=None, gamma=0, gpu_id=-1,\n",
       "              grow_policy=&#x27;depthwise&#x27;, importance_type=None,\n",
       "              interaction_constraints=&#x27;&#x27;, learning_rate=0.300000012,\n",
       "              max_bin=256, max_cat_threshold=64, max_cat_to_onehot=4,\n",
       "              max_delta_step=0, max_depth=6, max_leaves=0, min_child_weight=1,\n",
       "              missing=nan, monotone_constraints=&#x27;()&#x27;, n_estimators=100,\n",
       "              n_jobs=0, num_parallel_tree=1, predictor=&#x27;auto&#x27;, random_state=0, ...)</pre></div></div></div></div></div>"
      ],
      "text/plain": [
       "XGBClassifier(base_score=0.5, booster='gbtree', callbacks=None,\n",
       "              colsample_bylevel=1, colsample_bynode=1, colsample_bytree=1,\n",
       "              early_stopping_rounds=None, enable_categorical=False,\n",
       "              eval_metric=None, feature_types=None, gamma=0, gpu_id=-1,\n",
       "              grow_policy='depthwise', importance_type=None,\n",
       "              interaction_constraints='', learning_rate=0.300000012,\n",
       "              max_bin=256, max_cat_threshold=64, max_cat_to_onehot=4,\n",
       "              max_delta_step=0, max_depth=6, max_leaves=0, min_child_weight=1,\n",
       "              missing=nan, monotone_constraints='()', n_estimators=100,\n",
       "              n_jobs=0, num_parallel_tree=1, predictor='auto', random_state=0, ...)"
      ]
     },
     "execution_count": 573,
     "metadata": {},
     "output_type": "execute_result"
    }
   ],
   "source": [
    "model_xgb.fit(xtrain,ytrain)"
   ]
  },
  {
   "cell_type": "code",
   "execution_count": 574,
   "id": "e73886fa",
   "metadata": {},
   "outputs": [],
   "source": [
    "y_pred_xgb = model_xgb.predict(xtest)"
   ]
  },
  {
   "cell_type": "code",
   "execution_count": 575,
   "id": "0e6f822b",
   "metadata": {},
   "outputs": [
    {
     "name": "stdout",
     "output_type": "stream",
     "text": [
      "Confusion Metrics:\n",
      " [[6595 2378]\n",
      " [1996 6243]]\n",
      "Accuracy:  0.7458749709504997\n",
      "Recall:  0.7577375895132904\n",
      "Precision:  0.7241619301705139\n",
      "F1 score:  0.7405693950177936\n",
      "Cohen kappa Score:  0.4917877164943306\n",
      "Classification Summary:\n",
      "               precision    recall  f1-score   support\n",
      "\n",
      "           0       0.77      0.73      0.75      8973\n",
      "           1       0.72      0.76      0.74      8239\n",
      "\n",
      "    accuracy                           0.75     17212\n",
      "   macro avg       0.75      0.75      0.75     17212\n",
      "weighted avg       0.75      0.75      0.75     17212\n",
      "\n"
     ]
    }
   ],
   "source": [
    "scores(ytest,y_pred_xgb)"
   ]
  },
  {
   "cell_type": "code",
   "execution_count": 580,
   "id": "db144a89",
   "metadata": {},
   "outputs": [],
   "source": [
    "param = {'learning_rate': [0.1, 0.2, 0.3, 0.4, 0.5, 0.6],\n",
    "                     'max_depth': range(3,10),\n",
    "                     'gamma': [0, 1, 2, 3, 4]}"
   ]
  },
  {
   "cell_type": "code",
   "execution_count": 583,
   "id": "4b027b22",
   "metadata": {},
   "outputs": [],
   "source": [
    "gscv = GridSearchCV(estimator=XGBClassifier(),param_grid=param,cv=3,scoring=\"f1\",verbose=3)"
   ]
  },
  {
   "cell_type": "code",
   "execution_count": 584,
   "id": "44773219",
   "metadata": {},
   "outputs": [
    {
     "name": "stdout",
     "output_type": "stream",
     "text": [
      "Fitting 3 folds for each of 210 candidates, totalling 630 fits\n",
      "[CV 1/3] END gamma=0, learning_rate=0.1, max_depth=3;, score=0.745 total time=   0.2s\n",
      "[CV 2/3] END gamma=0, learning_rate=0.1, max_depth=3;, score=0.748 total time=   0.2s\n",
      "[CV 3/3] END gamma=0, learning_rate=0.1, max_depth=3;, score=0.747 total time=   0.2s\n",
      "[CV 1/3] END gamma=0, learning_rate=0.1, max_depth=4;, score=0.746 total time=   0.3s\n",
      "[CV 2/3] END gamma=0, learning_rate=0.1, max_depth=4;, score=0.749 total time=   0.3s\n",
      "[CV 3/3] END gamma=0, learning_rate=0.1, max_depth=4;, score=0.746 total time=   0.3s\n",
      "[CV 1/3] END gamma=0, learning_rate=0.1, max_depth=5;, score=0.745 total time=   0.4s\n",
      "[CV 2/3] END gamma=0, learning_rate=0.1, max_depth=5;, score=0.750 total time=   0.4s\n",
      "[CV 3/3] END gamma=0, learning_rate=0.1, max_depth=5;, score=0.748 total time=   0.4s\n",
      "[CV 1/3] END gamma=0, learning_rate=0.1, max_depth=6;, score=0.743 total time=   0.5s\n",
      "[CV 2/3] END gamma=0, learning_rate=0.1, max_depth=6;, score=0.749 total time=   0.5s\n",
      "[CV 3/3] END gamma=0, learning_rate=0.1, max_depth=6;, score=0.745 total time=   0.5s\n",
      "[CV 1/3] END gamma=0, learning_rate=0.1, max_depth=7;, score=0.740 total time=   0.6s\n",
      "[CV 2/3] END gamma=0, learning_rate=0.1, max_depth=7;, score=0.745 total time=   0.6s\n",
      "[CV 3/3] END gamma=0, learning_rate=0.1, max_depth=7;, score=0.743 total time=   0.5s\n",
      "[CV 1/3] END gamma=0, learning_rate=0.1, max_depth=8;, score=0.737 total time=   0.7s\n",
      "[CV 2/3] END gamma=0, learning_rate=0.1, max_depth=8;, score=0.745 total time=   0.8s\n",
      "[CV 3/3] END gamma=0, learning_rate=0.1, max_depth=8;, score=0.743 total time=   0.7s\n",
      "[CV 1/3] END gamma=0, learning_rate=0.1, max_depth=9;, score=0.734 total time=   1.0s\n",
      "[CV 2/3] END gamma=0, learning_rate=0.1, max_depth=9;, score=0.740 total time=   1.0s\n",
      "[CV 3/3] END gamma=0, learning_rate=0.1, max_depth=9;, score=0.738 total time=   0.9s\n",
      "[CV 1/3] END gamma=0, learning_rate=0.2, max_depth=3;, score=0.743 total time=   0.2s\n",
      "[CV 2/3] END gamma=0, learning_rate=0.2, max_depth=3;, score=0.749 total time=   0.2s\n",
      "[CV 3/3] END gamma=0, learning_rate=0.2, max_depth=3;, score=0.747 total time=   0.2s\n",
      "[CV 1/3] END gamma=0, learning_rate=0.2, max_depth=4;, score=0.745 total time=   0.3s\n",
      "[CV 2/3] END gamma=0, learning_rate=0.2, max_depth=4;, score=0.748 total time=   0.3s\n",
      "[CV 3/3] END gamma=0, learning_rate=0.2, max_depth=4;, score=0.744 total time=   0.4s\n",
      "[CV 1/3] END gamma=0, learning_rate=0.2, max_depth=5;, score=0.743 total time=   0.6s\n",
      "[CV 2/3] END gamma=0, learning_rate=0.2, max_depth=5;, score=0.746 total time=   0.5s\n",
      "[CV 3/3] END gamma=0, learning_rate=0.2, max_depth=5;, score=0.745 total time=   0.7s\n",
      "[CV 1/3] END gamma=0, learning_rate=0.2, max_depth=6;, score=0.740 total time=   0.7s\n",
      "[CV 2/3] END gamma=0, learning_rate=0.2, max_depth=6;, score=0.745 total time=   0.6s\n",
      "[CV 3/3] END gamma=0, learning_rate=0.2, max_depth=6;, score=0.743 total time=   0.4s\n",
      "[CV 1/3] END gamma=0, learning_rate=0.2, max_depth=7;, score=0.734 total time=   0.6s\n",
      "[CV 2/3] END gamma=0, learning_rate=0.2, max_depth=7;, score=0.739 total time=   0.7s\n",
      "[CV 3/3] END gamma=0, learning_rate=0.2, max_depth=7;, score=0.740 total time=   0.6s\n",
      "[CV 1/3] END gamma=0, learning_rate=0.2, max_depth=8;, score=0.727 total time=   0.7s\n",
      "[CV 2/3] END gamma=0, learning_rate=0.2, max_depth=8;, score=0.735 total time=   0.7s\n",
      "[CV 3/3] END gamma=0, learning_rate=0.2, max_depth=8;, score=0.734 total time=   0.7s\n",
      "[CV 1/3] END gamma=0, learning_rate=0.2, max_depth=9;, score=0.724 total time=   0.8s\n",
      "[CV 2/3] END gamma=0, learning_rate=0.2, max_depth=9;, score=0.734 total time=   0.8s\n",
      "[CV 3/3] END gamma=0, learning_rate=0.2, max_depth=9;, score=0.731 total time=   0.8s\n",
      "[CV 1/3] END gamma=0, learning_rate=0.3, max_depth=3;, score=0.745 total time=   0.2s\n",
      "[CV 2/3] END gamma=0, learning_rate=0.3, max_depth=3;, score=0.750 total time=   0.2s\n",
      "[CV 3/3] END gamma=0, learning_rate=0.3, max_depth=3;, score=0.745 total time=   0.2s\n",
      "[CV 1/3] END gamma=0, learning_rate=0.3, max_depth=4;, score=0.741 total time=   0.4s\n",
      "[CV 2/3] END gamma=0, learning_rate=0.3, max_depth=4;, score=0.745 total time=   0.5s\n",
      "[CV 3/3] END gamma=0, learning_rate=0.3, max_depth=4;, score=0.743 total time=   0.5s\n",
      "[CV 1/3] END gamma=0, learning_rate=0.3, max_depth=5;, score=0.739 total time=   0.4s\n",
      "[CV 2/3] END gamma=0, learning_rate=0.3, max_depth=5;, score=0.742 total time=   0.4s\n",
      "[CV 3/3] END gamma=0, learning_rate=0.3, max_depth=5;, score=0.740 total time=   0.4s\n",
      "[CV 1/3] END gamma=0, learning_rate=0.3, max_depth=6;, score=0.733 total time=   0.4s\n",
      "[CV 2/3] END gamma=0, learning_rate=0.3, max_depth=6;, score=0.738 total time=   0.5s\n",
      "[CV 3/3] END gamma=0, learning_rate=0.3, max_depth=6;, score=0.738 total time=   0.5s\n",
      "[CV 1/3] END gamma=0, learning_rate=0.3, max_depth=7;, score=0.723 total time=   0.6s\n",
      "[CV 2/3] END gamma=0, learning_rate=0.3, max_depth=7;, score=0.731 total time=   0.6s\n",
      "[CV 3/3] END gamma=0, learning_rate=0.3, max_depth=7;, score=0.733 total time=   0.9s\n",
      "[CV 1/3] END gamma=0, learning_rate=0.3, max_depth=8;, score=0.723 total time=   1.1s\n",
      "[CV 2/3] END gamma=0, learning_rate=0.3, max_depth=8;, score=0.729 total time=   0.8s\n",
      "[CV 3/3] END gamma=0, learning_rate=0.3, max_depth=8;, score=0.723 total time=   0.8s\n",
      "[CV 1/3] END gamma=0, learning_rate=0.3, max_depth=9;, score=0.719 total time=   0.9s\n",
      "[CV 2/3] END gamma=0, learning_rate=0.3, max_depth=9;, score=0.721 total time=   0.8s\n",
      "[CV 3/3] END gamma=0, learning_rate=0.3, max_depth=9;, score=0.720 total time=   0.9s\n",
      "[CV 1/3] END gamma=0, learning_rate=0.4, max_depth=3;, score=0.740 total time=   0.2s\n",
      "[CV 2/3] END gamma=0, learning_rate=0.4, max_depth=3;, score=0.747 total time=   0.2s\n",
      "[CV 3/3] END gamma=0, learning_rate=0.4, max_depth=3;, score=0.744 total time=   0.2s\n",
      "[CV 1/3] END gamma=0, learning_rate=0.4, max_depth=4;, score=0.739 total time=   0.3s\n",
      "[CV 2/3] END gamma=0, learning_rate=0.4, max_depth=4;, score=0.743 total time=   0.3s\n",
      "[CV 3/3] END gamma=0, learning_rate=0.4, max_depth=4;, score=0.744 total time=   0.3s\n",
      "[CV 1/3] END gamma=0, learning_rate=0.4, max_depth=5;, score=0.733 total time=   0.3s\n",
      "[CV 2/3] END gamma=0, learning_rate=0.4, max_depth=5;, score=0.736 total time=   0.4s\n",
      "[CV 3/3] END gamma=0, learning_rate=0.4, max_depth=5;, score=0.737 total time=   0.4s\n",
      "[CV 1/3] END gamma=0, learning_rate=0.4, max_depth=6;, score=0.727 total time=   0.5s\n",
      "[CV 2/3] END gamma=0, learning_rate=0.4, max_depth=6;, score=0.731 total time=   0.4s\n",
      "[CV 3/3] END gamma=0, learning_rate=0.4, max_depth=6;, score=0.730 total time=   0.7s\n",
      "[CV 1/3] END gamma=0, learning_rate=0.4, max_depth=7;, score=0.723 total time=   0.7s\n",
      "[CV 2/3] END gamma=0, learning_rate=0.4, max_depth=7;, score=0.726 total time=   0.6s\n",
      "[CV 3/3] END gamma=0, learning_rate=0.4, max_depth=7;, score=0.724 total time=   0.6s\n",
      "[CV 1/3] END gamma=0, learning_rate=0.4, max_depth=8;, score=0.715 total time=   0.7s\n",
      "[CV 2/3] END gamma=0, learning_rate=0.4, max_depth=8;, score=0.719 total time=   0.6s\n",
      "[CV 3/3] END gamma=0, learning_rate=0.4, max_depth=8;, score=0.719 total time=   0.7s\n",
      "[CV 1/3] END gamma=0, learning_rate=0.4, max_depth=9;, score=0.706 total time=   1.0s\n",
      "[CV 2/3] END gamma=0, learning_rate=0.4, max_depth=9;, score=0.710 total time=   1.3s\n",
      "[CV 3/3] END gamma=0, learning_rate=0.4, max_depth=9;, score=0.715 total time=   0.9s\n",
      "[CV 1/3] END gamma=0, learning_rate=0.5, max_depth=3;, score=0.743 total time=   0.3s\n",
      "[CV 2/3] END gamma=0, learning_rate=0.5, max_depth=3;, score=0.744 total time=   0.3s\n",
      "[CV 3/3] END gamma=0, learning_rate=0.5, max_depth=3;, score=0.746 total time=   0.2s\n",
      "[CV 1/3] END gamma=0, learning_rate=0.5, max_depth=4;, score=0.735 total time=   0.3s\n",
      "[CV 2/3] END gamma=0, learning_rate=0.5, max_depth=4;, score=0.737 total time=   0.3s\n",
      "[CV 3/3] END gamma=0, learning_rate=0.5, max_depth=4;, score=0.741 total time=   0.5s\n",
      "[CV 1/3] END gamma=0, learning_rate=0.5, max_depth=5;, score=0.730 total time=   0.4s\n",
      "[CV 2/3] END gamma=0, learning_rate=0.5, max_depth=5;, score=0.731 total time=   0.4s\n",
      "[CV 3/3] END gamma=0, learning_rate=0.5, max_depth=5;, score=0.734 total time=   0.4s\n",
      "[CV 1/3] END gamma=0, learning_rate=0.5, max_depth=6;, score=0.722 total time=   0.5s\n",
      "[CV 2/3] END gamma=0, learning_rate=0.5, max_depth=6;, score=0.722 total time=   0.4s\n"
     ]
    },
    {
     "name": "stdout",
     "output_type": "stream",
     "text": [
      "[CV 3/3] END gamma=0, learning_rate=0.5, max_depth=6;, score=0.726 total time=   0.5s\n",
      "[CV 1/3] END gamma=0, learning_rate=0.5, max_depth=7;, score=0.714 total time=   0.6s\n",
      "[CV 2/3] END gamma=0, learning_rate=0.5, max_depth=7;, score=0.719 total time=   0.5s\n",
      "[CV 3/3] END gamma=0, learning_rate=0.5, max_depth=7;, score=0.717 total time=   0.6s\n",
      "[CV 1/3] END gamma=0, learning_rate=0.5, max_depth=8;, score=0.707 total time=   0.7s\n",
      "[CV 2/3] END gamma=0, learning_rate=0.5, max_depth=8;, score=0.710 total time=   0.7s\n",
      "[CV 3/3] END gamma=0, learning_rate=0.5, max_depth=8;, score=0.714 total time=   0.8s\n",
      "[CV 1/3] END gamma=0, learning_rate=0.5, max_depth=9;, score=0.706 total time=   0.8s\n",
      "[CV 2/3] END gamma=0, learning_rate=0.5, max_depth=9;, score=0.701 total time=   0.8s\n",
      "[CV 3/3] END gamma=0, learning_rate=0.5, max_depth=9;, score=0.715 total time=   0.8s\n",
      "[CV 1/3] END gamma=0, learning_rate=0.6, max_depth=3;, score=0.744 total time=   0.2s\n",
      "[CV 2/3] END gamma=0, learning_rate=0.6, max_depth=3;, score=0.742 total time=   0.2s\n",
      "[CV 3/3] END gamma=0, learning_rate=0.6, max_depth=3;, score=0.742 total time=   0.2s\n",
      "[CV 1/3] END gamma=0, learning_rate=0.6, max_depth=4;, score=0.732 total time=   0.3s\n",
      "[CV 2/3] END gamma=0, learning_rate=0.6, max_depth=4;, score=0.734 total time=   0.3s\n",
      "[CV 3/3] END gamma=0, learning_rate=0.6, max_depth=4;, score=0.734 total time=   0.3s\n",
      "[CV 1/3] END gamma=0, learning_rate=0.6, max_depth=5;, score=0.728 total time=   0.4s\n",
      "[CV 2/3] END gamma=0, learning_rate=0.6, max_depth=5;, score=0.727 total time=   0.5s\n",
      "[CV 3/3] END gamma=0, learning_rate=0.6, max_depth=5;, score=0.732 total time=   0.4s\n",
      "[CV 1/3] END gamma=0, learning_rate=0.6, max_depth=6;, score=0.715 total time=   0.5s\n",
      "[CV 2/3] END gamma=0, learning_rate=0.6, max_depth=6;, score=0.720 total time=   0.5s\n",
      "[CV 3/3] END gamma=0, learning_rate=0.6, max_depth=6;, score=0.719 total time=   0.5s\n",
      "[CV 1/3] END gamma=0, learning_rate=0.6, max_depth=7;, score=0.705 total time=   0.6s\n",
      "[CV 2/3] END gamma=0, learning_rate=0.6, max_depth=7;, score=0.712 total time=   0.6s\n",
      "[CV 3/3] END gamma=0, learning_rate=0.6, max_depth=7;, score=0.711 total time=   0.6s\n",
      "[CV 1/3] END gamma=0, learning_rate=0.6, max_depth=8;, score=0.711 total time=   0.7s\n",
      "[CV 2/3] END gamma=0, learning_rate=0.6, max_depth=8;, score=0.708 total time=   1.3s\n",
      "[CV 3/3] END gamma=0, learning_rate=0.6, max_depth=8;, score=0.709 total time=   1.0s\n",
      "[CV 1/3] END gamma=0, learning_rate=0.6, max_depth=9;, score=0.696 total time=   0.9s\n",
      "[CV 2/3] END gamma=0, learning_rate=0.6, max_depth=9;, score=0.696 total time=   0.9s\n",
      "[CV 3/3] END gamma=0, learning_rate=0.6, max_depth=9;, score=0.702 total time=   0.9s\n",
      "[CV 1/3] END gamma=1, learning_rate=0.1, max_depth=3;, score=0.745 total time=   0.2s\n",
      "[CV 2/3] END gamma=1, learning_rate=0.1, max_depth=3;, score=0.749 total time=   0.2s\n",
      "[CV 3/3] END gamma=1, learning_rate=0.1, max_depth=3;, score=0.747 total time=   0.2s\n",
      "[CV 1/3] END gamma=1, learning_rate=0.1, max_depth=4;, score=0.745 total time=   0.3s\n",
      "[CV 2/3] END gamma=1, learning_rate=0.1, max_depth=4;, score=0.749 total time=   0.3s\n",
      "[CV 3/3] END gamma=1, learning_rate=0.1, max_depth=4;, score=0.747 total time=   0.3s\n",
      "[CV 1/3] END gamma=1, learning_rate=0.1, max_depth=5;, score=0.747 total time=   0.4s\n",
      "[CV 2/3] END gamma=1, learning_rate=0.1, max_depth=5;, score=0.748 total time=   0.4s\n",
      "[CV 3/3] END gamma=1, learning_rate=0.1, max_depth=5;, score=0.746 total time=   0.4s\n",
      "[CV 1/3] END gamma=1, learning_rate=0.1, max_depth=6;, score=0.745 total time=   0.5s\n",
      "[CV 2/3] END gamma=1, learning_rate=0.1, max_depth=6;, score=0.748 total time=   0.5s\n",
      "[CV 3/3] END gamma=1, learning_rate=0.1, max_depth=6;, score=0.747 total time=   0.5s\n",
      "[CV 1/3] END gamma=1, learning_rate=0.1, max_depth=7;, score=0.741 total time=   0.7s\n",
      "[CV 2/3] END gamma=1, learning_rate=0.1, max_depth=7;, score=0.747 total time=   0.6s\n",
      "[CV 3/3] END gamma=1, learning_rate=0.1, max_depth=7;, score=0.745 total time=   0.6s\n",
      "[CV 1/3] END gamma=1, learning_rate=0.1, max_depth=8;, score=0.735 total time=   0.8s\n",
      "[CV 2/3] END gamma=1, learning_rate=0.1, max_depth=8;, score=0.745 total time=   0.8s\n",
      "[CV 3/3] END gamma=1, learning_rate=0.1, max_depth=8;, score=0.742 total time=   0.8s\n",
      "[CV 1/3] END gamma=1, learning_rate=0.1, max_depth=9;, score=0.734 total time=   1.0s\n",
      "[CV 2/3] END gamma=1, learning_rate=0.1, max_depth=9;, score=0.740 total time=   1.1s\n",
      "[CV 3/3] END gamma=1, learning_rate=0.1, max_depth=9;, score=0.739 total time=   1.3s\n",
      "[CV 1/3] END gamma=1, learning_rate=0.2, max_depth=3;, score=0.743 total time=   0.3s\n",
      "[CV 2/3] END gamma=1, learning_rate=0.2, max_depth=3;, score=0.749 total time=   0.2s\n",
      "[CV 3/3] END gamma=1, learning_rate=0.2, max_depth=3;, score=0.747 total time=   0.2s\n",
      "[CV 1/3] END gamma=1, learning_rate=0.2, max_depth=4;, score=0.745 total time=   0.3s\n",
      "[CV 2/3] END gamma=1, learning_rate=0.2, max_depth=4;, score=0.750 total time=   0.3s\n",
      "[CV 3/3] END gamma=1, learning_rate=0.2, max_depth=4;, score=0.746 total time=   0.3s\n",
      "[CV 1/3] END gamma=1, learning_rate=0.2, max_depth=5;, score=0.745 total time=   0.4s\n",
      "[CV 2/3] END gamma=1, learning_rate=0.2, max_depth=5;, score=0.749 total time=   0.4s\n",
      "[CV 3/3] END gamma=1, learning_rate=0.2, max_depth=5;, score=0.745 total time=   0.4s\n",
      "[CV 1/3] END gamma=1, learning_rate=0.2, max_depth=6;, score=0.739 total time=   0.7s\n",
      "[CV 2/3] END gamma=1, learning_rate=0.2, max_depth=6;, score=0.746 total time=   0.5s\n",
      "[CV 3/3] END gamma=1, learning_rate=0.2, max_depth=6;, score=0.746 total time=   0.5s\n",
      "[CV 1/3] END gamma=1, learning_rate=0.2, max_depth=7;, score=0.734 total time=   0.6s\n",
      "[CV 2/3] END gamma=1, learning_rate=0.2, max_depth=7;, score=0.739 total time=   0.6s\n",
      "[CV 3/3] END gamma=1, learning_rate=0.2, max_depth=7;, score=0.742 total time=   0.6s\n",
      "[CV 1/3] END gamma=1, learning_rate=0.2, max_depth=8;, score=0.727 total time=   0.8s\n",
      "[CV 2/3] END gamma=1, learning_rate=0.2, max_depth=8;, score=0.738 total time=   0.8s\n",
      "[CV 3/3] END gamma=1, learning_rate=0.2, max_depth=8;, score=0.738 total time=   0.7s\n",
      "[CV 1/3] END gamma=1, learning_rate=0.2, max_depth=9;, score=0.726 total time=   0.8s\n",
      "[CV 2/3] END gamma=1, learning_rate=0.2, max_depth=9;, score=0.738 total time=   0.8s\n",
      "[CV 3/3] END gamma=1, learning_rate=0.2, max_depth=9;, score=0.736 total time=   0.7s\n",
      "[CV 1/3] END gamma=1, learning_rate=0.3, max_depth=3;, score=0.743 total time=   0.2s\n",
      "[CV 2/3] END gamma=1, learning_rate=0.3, max_depth=3;, score=0.749 total time=   0.2s\n",
      "[CV 3/3] END gamma=1, learning_rate=0.3, max_depth=3;, score=0.746 total time=   0.2s\n",
      "[CV 1/3] END gamma=1, learning_rate=0.3, max_depth=4;, score=0.743 total time=   0.3s\n",
      "[CV 2/3] END gamma=1, learning_rate=0.3, max_depth=4;, score=0.745 total time=   0.3s\n",
      "[CV 3/3] END gamma=1, learning_rate=0.3, max_depth=4;, score=0.746 total time=   0.3s\n",
      "[CV 1/3] END gamma=1, learning_rate=0.3, max_depth=5;, score=0.740 total time=   0.4s\n",
      "[CV 2/3] END gamma=1, learning_rate=0.3, max_depth=5;, score=0.743 total time=   0.5s\n",
      "[CV 3/3] END gamma=1, learning_rate=0.3, max_depth=5;, score=0.744 total time=   0.5s\n",
      "[CV 1/3] END gamma=1, learning_rate=0.3, max_depth=6;, score=0.734 total time=   0.5s\n",
      "[CV 2/3] END gamma=1, learning_rate=0.3, max_depth=6;, score=0.739 total time=   0.4s\n",
      "[CV 3/3] END gamma=1, learning_rate=0.3, max_depth=6;, score=0.744 total time=   0.4s\n",
      "[CV 1/3] END gamma=1, learning_rate=0.3, max_depth=7;, score=0.731 total time=   0.5s\n",
      "[CV 2/3] END gamma=1, learning_rate=0.3, max_depth=7;, score=0.740 total time=   0.6s\n",
      "[CV 3/3] END gamma=1, learning_rate=0.3, max_depth=7;, score=0.736 total time=   0.5s\n",
      "[CV 1/3] END gamma=1, learning_rate=0.3, max_depth=8;, score=0.721 total time=   0.6s\n",
      "[CV 2/3] END gamma=1, learning_rate=0.3, max_depth=8;, score=0.730 total time=   0.6s\n",
      "[CV 3/3] END gamma=1, learning_rate=0.3, max_depth=8;, score=0.737 total time=   0.6s\n",
      "[CV 1/3] END gamma=1, learning_rate=0.3, max_depth=9;, score=0.716 total time=   0.8s\n",
      "[CV 2/3] END gamma=1, learning_rate=0.3, max_depth=9;, score=0.733 total time=   0.7s\n",
      "[CV 3/3] END gamma=1, learning_rate=0.3, max_depth=9;, score=0.729 total time=   0.7s\n",
      "[CV 1/3] END gamma=1, learning_rate=0.4, max_depth=3;, score=0.741 total time=   0.2s\n",
      "[CV 2/3] END gamma=1, learning_rate=0.4, max_depth=3;, score=0.745 total time=   0.2s\n"
     ]
    },
    {
     "name": "stdout",
     "output_type": "stream",
     "text": [
      "[CV 3/3] END gamma=1, learning_rate=0.4, max_depth=3;, score=0.745 total time=   0.2s\n",
      "[CV 1/3] END gamma=1, learning_rate=0.4, max_depth=4;, score=0.747 total time=   0.2s\n",
      "[CV 2/3] END gamma=1, learning_rate=0.4, max_depth=4;, score=0.745 total time=   0.2s\n",
      "[CV 3/3] END gamma=1, learning_rate=0.4, max_depth=4;, score=0.744 total time=   0.3s\n",
      "[CV 1/3] END gamma=1, learning_rate=0.4, max_depth=5;, score=0.736 total time=   0.4s\n",
      "[CV 2/3] END gamma=1, learning_rate=0.4, max_depth=5;, score=0.742 total time=   0.3s\n",
      "[CV 3/3] END gamma=1, learning_rate=0.4, max_depth=5;, score=0.741 total time=   0.3s\n",
      "[CV 1/3] END gamma=1, learning_rate=0.4, max_depth=6;, score=0.742 total time=   0.4s\n",
      "[CV 2/3] END gamma=1, learning_rate=0.4, max_depth=6;, score=0.731 total time=   0.5s\n",
      "[CV 3/3] END gamma=1, learning_rate=0.4, max_depth=6;, score=0.734 total time=   0.5s\n",
      "[CV 1/3] END gamma=1, learning_rate=0.4, max_depth=7;, score=0.728 total time=   0.5s\n",
      "[CV 2/3] END gamma=1, learning_rate=0.4, max_depth=7;, score=0.729 total time=   0.6s\n",
      "[CV 3/3] END gamma=1, learning_rate=0.4, max_depth=7;, score=0.731 total time=   0.5s\n",
      "[CV 1/3] END gamma=1, learning_rate=0.4, max_depth=8;, score=0.720 total time=   0.6s\n",
      "[CV 2/3] END gamma=1, learning_rate=0.4, max_depth=8;, score=0.719 total time=   0.7s\n",
      "[CV 3/3] END gamma=1, learning_rate=0.4, max_depth=8;, score=0.731 total time=   0.6s\n",
      "[CV 1/3] END gamma=1, learning_rate=0.4, max_depth=9;, score=0.714 total time=   0.8s\n",
      "[CV 2/3] END gamma=1, learning_rate=0.4, max_depth=9;, score=0.730 total time=   0.7s\n",
      "[CV 3/3] END gamma=1, learning_rate=0.4, max_depth=9;, score=0.724 total time=   0.7s\n",
      "[CV 1/3] END gamma=1, learning_rate=0.5, max_depth=3;, score=0.743 total time=   0.2s\n",
      "[CV 2/3] END gamma=1, learning_rate=0.5, max_depth=3;, score=0.744 total time=   0.2s\n",
      "[CV 3/3] END gamma=1, learning_rate=0.5, max_depth=3;, score=0.745 total time=   0.2s\n",
      "[CV 1/3] END gamma=1, learning_rate=0.5, max_depth=4;, score=0.740 total time=   0.3s\n",
      "[CV 2/3] END gamma=1, learning_rate=0.5, max_depth=4;, score=0.740 total time=   0.3s\n",
      "[CV 3/3] END gamma=1, learning_rate=0.5, max_depth=4;, score=0.746 total time=   0.2s\n",
      "[CV 1/3] END gamma=1, learning_rate=0.5, max_depth=5;, score=0.741 total time=   0.3s\n",
      "[CV 2/3] END gamma=1, learning_rate=0.5, max_depth=5;, score=0.732 total time=   0.4s\n",
      "[CV 3/3] END gamma=1, learning_rate=0.5, max_depth=5;, score=0.737 total time=   0.4s\n",
      "[CV 1/3] END gamma=1, learning_rate=0.5, max_depth=6;, score=0.722 total time=   0.4s\n",
      "[CV 2/3] END gamma=1, learning_rate=0.5, max_depth=6;, score=0.726 total time=   0.5s\n",
      "[CV 3/3] END gamma=1, learning_rate=0.5, max_depth=6;, score=0.734 total time=   0.4s\n",
      "[CV 1/3] END gamma=1, learning_rate=0.5, max_depth=7;, score=0.724 total time=   0.5s\n",
      "[CV 2/3] END gamma=1, learning_rate=0.5, max_depth=7;, score=0.723 total time=   0.5s\n",
      "[CV 3/3] END gamma=1, learning_rate=0.5, max_depth=7;, score=0.728 total time=   0.6s\n",
      "[CV 1/3] END gamma=1, learning_rate=0.5, max_depth=8;, score=0.716 total time=   0.7s\n",
      "[CV 2/3] END gamma=1, learning_rate=0.5, max_depth=8;, score=0.721 total time=   0.7s\n",
      "[CV 3/3] END gamma=1, learning_rate=0.5, max_depth=8;, score=0.727 total time=   0.7s\n",
      "[CV 1/3] END gamma=1, learning_rate=0.5, max_depth=9;, score=0.712 total time=   0.8s\n",
      "[CV 2/3] END gamma=1, learning_rate=0.5, max_depth=9;, score=0.712 total time=   1.1s\n",
      "[CV 3/3] END gamma=1, learning_rate=0.5, max_depth=9;, score=0.712 total time=   0.9s\n",
      "[CV 1/3] END gamma=1, learning_rate=0.6, max_depth=3;, score=0.744 total time=   0.2s\n",
      "[CV 2/3] END gamma=1, learning_rate=0.6, max_depth=3;, score=0.744 total time=   0.2s\n",
      "[CV 3/3] END gamma=1, learning_rate=0.6, max_depth=3;, score=0.741 total time=   0.3s\n",
      "[CV 1/3] END gamma=1, learning_rate=0.6, max_depth=4;, score=0.742 total time=   0.4s\n",
      "[CV 2/3] END gamma=1, learning_rate=0.6, max_depth=4;, score=0.742 total time=   0.3s\n",
      "[CV 3/3] END gamma=1, learning_rate=0.6, max_depth=4;, score=0.735 total time=   0.3s\n",
      "[CV 1/3] END gamma=1, learning_rate=0.6, max_depth=5;, score=0.723 total time=   0.4s\n",
      "[CV 2/3] END gamma=1, learning_rate=0.6, max_depth=5;, score=0.726 total time=   0.4s\n",
      "[CV 3/3] END gamma=1, learning_rate=0.6, max_depth=5;, score=0.728 total time=   0.4s\n",
      "[CV 1/3] END gamma=1, learning_rate=0.6, max_depth=6;, score=0.718 total time=   0.5s\n",
      "[CV 2/3] END gamma=1, learning_rate=0.6, max_depth=6;, score=0.722 total time=   0.5s\n",
      "[CV 3/3] END gamma=1, learning_rate=0.6, max_depth=6;, score=0.736 total time=   0.4s\n",
      "[CV 1/3] END gamma=1, learning_rate=0.6, max_depth=7;, score=0.710 total time=   0.6s\n",
      "[CV 2/3] END gamma=1, learning_rate=0.6, max_depth=7;, score=0.724 total time=   0.6s\n",
      "[CV 3/3] END gamma=1, learning_rate=0.6, max_depth=7;, score=0.728 total time=   0.7s\n",
      "[CV 1/3] END gamma=1, learning_rate=0.6, max_depth=8;, score=0.700 total time=   1.0s\n",
      "[CV 2/3] END gamma=1, learning_rate=0.6, max_depth=8;, score=0.711 total time=   0.8s\n",
      "[CV 3/3] END gamma=1, learning_rate=0.6, max_depth=8;, score=0.713 total time=   0.7s\n",
      "[CV 1/3] END gamma=1, learning_rate=0.6, max_depth=9;, score=0.698 total time=   0.9s\n",
      "[CV 2/3] END gamma=1, learning_rate=0.6, max_depth=9;, score=0.710 total time=   0.7s\n",
      "[CV 3/3] END gamma=1, learning_rate=0.6, max_depth=9;, score=0.705 total time=   0.8s\n",
      "[CV 1/3] END gamma=2, learning_rate=0.1, max_depth=3;, score=0.746 total time=   0.2s\n",
      "[CV 2/3] END gamma=2, learning_rate=0.1, max_depth=3;, score=0.748 total time=   0.2s\n",
      "[CV 3/3] END gamma=2, learning_rate=0.1, max_depth=3;, score=0.747 total time=   0.2s\n",
      "[CV 1/3] END gamma=2, learning_rate=0.1, max_depth=4;, score=0.746 total time=   0.3s\n",
      "[CV 2/3] END gamma=2, learning_rate=0.1, max_depth=4;, score=0.749 total time=   0.3s\n",
      "[CV 3/3] END gamma=2, learning_rate=0.1, max_depth=4;, score=0.746 total time=   0.3s\n",
      "[CV 1/3] END gamma=2, learning_rate=0.1, max_depth=5;, score=0.745 total time=   0.5s\n",
      "[CV 2/3] END gamma=2, learning_rate=0.1, max_depth=5;, score=0.750 total time=   0.4s\n",
      "[CV 3/3] END gamma=2, learning_rate=0.1, max_depth=5;, score=0.748 total time=   0.4s\n",
      "[CV 1/3] END gamma=2, learning_rate=0.1, max_depth=6;, score=0.744 total time=   0.5s\n",
      "[CV 2/3] END gamma=2, learning_rate=0.1, max_depth=6;, score=0.749 total time=   0.7s\n",
      "[CV 3/3] END gamma=2, learning_rate=0.1, max_depth=6;, score=0.746 total time=   0.6s\n",
      "[CV 1/3] END gamma=2, learning_rate=0.1, max_depth=7;, score=0.743 total time=   0.6s\n",
      "[CV 2/3] END gamma=2, learning_rate=0.1, max_depth=7;, score=0.746 total time=   0.6s\n",
      "[CV 3/3] END gamma=2, learning_rate=0.1, max_depth=7;, score=0.745 total time=   0.6s\n",
      "[CV 1/3] END gamma=2, learning_rate=0.1, max_depth=8;, score=0.738 total time=   0.7s\n",
      "[CV 2/3] END gamma=2, learning_rate=0.1, max_depth=8;, score=0.745 total time=   0.7s\n",
      "[CV 3/3] END gamma=2, learning_rate=0.1, max_depth=8;, score=0.743 total time=   0.7s\n",
      "[CV 1/3] END gamma=2, learning_rate=0.1, max_depth=9;, score=0.735 total time=   0.9s\n",
      "[CV 2/3] END gamma=2, learning_rate=0.1, max_depth=9;, score=0.743 total time=   0.8s\n",
      "[CV 3/3] END gamma=2, learning_rate=0.1, max_depth=9;, score=0.742 total time=   0.8s\n",
      "[CV 1/3] END gamma=2, learning_rate=0.2, max_depth=3;, score=0.746 total time=   0.2s\n",
      "[CV 2/3] END gamma=2, learning_rate=0.2, max_depth=3;, score=0.748 total time=   0.2s\n",
      "[CV 3/3] END gamma=2, learning_rate=0.2, max_depth=3;, score=0.747 total time=   0.2s\n",
      "[CV 1/3] END gamma=2, learning_rate=0.2, max_depth=4;, score=0.745 total time=   0.3s\n",
      "[CV 2/3] END gamma=2, learning_rate=0.2, max_depth=4;, score=0.751 total time=   0.3s\n",
      "[CV 3/3] END gamma=2, learning_rate=0.2, max_depth=4;, score=0.747 total time=   0.3s\n",
      "[CV 1/3] END gamma=2, learning_rate=0.2, max_depth=5;, score=0.742 total time=   0.4s\n",
      "[CV 2/3] END gamma=2, learning_rate=0.2, max_depth=5;, score=0.748 total time=   0.3s\n",
      "[CV 3/3] END gamma=2, learning_rate=0.2, max_depth=5;, score=0.746 total time=   0.3s\n",
      "[CV 1/3] END gamma=2, learning_rate=0.2, max_depth=6;, score=0.737 total time=   0.5s\n",
      "[CV 2/3] END gamma=2, learning_rate=0.2, max_depth=6;, score=0.749 total time=   0.4s\n",
      "[CV 3/3] END gamma=2, learning_rate=0.2, max_depth=6;, score=0.745 total time=   0.4s\n",
      "[CV 1/3] END gamma=2, learning_rate=0.2, max_depth=7;, score=0.739 total time=   0.7s\n",
      "[CV 2/3] END gamma=2, learning_rate=0.2, max_depth=7;, score=0.746 total time=   0.5s\n"
     ]
    },
    {
     "name": "stdout",
     "output_type": "stream",
     "text": [
      "[CV 3/3] END gamma=2, learning_rate=0.2, max_depth=7;, score=0.745 total time=   0.6s\n",
      "[CV 1/3] END gamma=2, learning_rate=0.2, max_depth=8;, score=0.734 total time=   0.8s\n",
      "[CV 2/3] END gamma=2, learning_rate=0.2, max_depth=8;, score=0.743 total time=   0.7s\n",
      "[CV 3/3] END gamma=2, learning_rate=0.2, max_depth=8;, score=0.744 total time=   0.6s\n",
      "[CV 1/3] END gamma=2, learning_rate=0.2, max_depth=9;, score=0.735 total time=   1.0s\n",
      "[CV 2/3] END gamma=2, learning_rate=0.2, max_depth=9;, score=0.740 total time=   1.0s\n",
      "[CV 3/3] END gamma=2, learning_rate=0.2, max_depth=9;, score=0.737 total time=   0.7s\n",
      "[CV 1/3] END gamma=2, learning_rate=0.3, max_depth=3;, score=0.746 total time=   0.2s\n",
      "[CV 2/3] END gamma=2, learning_rate=0.3, max_depth=3;, score=0.750 total time=   0.2s\n",
      "[CV 3/3] END gamma=2, learning_rate=0.3, max_depth=3;, score=0.750 total time=   0.3s\n",
      "[CV 1/3] END gamma=2, learning_rate=0.3, max_depth=4;, score=0.743 total time=   0.4s\n",
      "[CV 2/3] END gamma=2, learning_rate=0.3, max_depth=4;, score=0.748 total time=   0.4s\n",
      "[CV 3/3] END gamma=2, learning_rate=0.3, max_depth=4;, score=0.745 total time=   0.3s\n",
      "[CV 1/3] END gamma=2, learning_rate=0.3, max_depth=5;, score=0.742 total time=   0.4s\n",
      "[CV 2/3] END gamma=2, learning_rate=0.3, max_depth=5;, score=0.748 total time=   0.4s\n",
      "[CV 3/3] END gamma=2, learning_rate=0.3, max_depth=5;, score=0.747 total time=   0.4s\n",
      "[CV 1/3] END gamma=2, learning_rate=0.3, max_depth=6;, score=0.739 total time=   0.4s\n",
      "[CV 2/3] END gamma=2, learning_rate=0.3, max_depth=6;, score=0.743 total time=   0.5s\n",
      "[CV 3/3] END gamma=2, learning_rate=0.3, max_depth=6;, score=0.744 total time=   0.5s\n",
      "[CV 1/3] END gamma=2, learning_rate=0.3, max_depth=7;, score=0.733 total time=   0.6s\n",
      "[CV 2/3] END gamma=2, learning_rate=0.3, max_depth=7;, score=0.746 total time=   0.6s\n",
      "[CV 3/3] END gamma=2, learning_rate=0.3, max_depth=7;, score=0.740 total time=   0.6s\n",
      "[CV 1/3] END gamma=2, learning_rate=0.3, max_depth=8;, score=0.728 total time=   0.7s\n",
      "[CV 2/3] END gamma=2, learning_rate=0.3, max_depth=8;, score=0.743 total time=   0.7s\n",
      "[CV 3/3] END gamma=2, learning_rate=0.3, max_depth=8;, score=0.736 total time=   0.8s\n",
      "[CV 1/3] END gamma=2, learning_rate=0.3, max_depth=9;, score=0.728 total time=   0.9s\n",
      "[CV 2/3] END gamma=2, learning_rate=0.3, max_depth=9;, score=0.741 total time=   1.0s\n",
      "[CV 3/3] END gamma=2, learning_rate=0.3, max_depth=9;, score=0.739 total time=   0.8s\n",
      "[CV 1/3] END gamma=2, learning_rate=0.4, max_depth=3;, score=0.741 total time=   0.3s\n",
      "[CV 2/3] END gamma=2, learning_rate=0.4, max_depth=3;, score=0.750 total time=   0.2s\n",
      "[CV 3/3] END gamma=2, learning_rate=0.4, max_depth=3;, score=0.744 total time=   0.2s\n",
      "[CV 1/3] END gamma=2, learning_rate=0.4, max_depth=4;, score=0.744 total time=   0.3s\n",
      "[CV 2/3] END gamma=2, learning_rate=0.4, max_depth=4;, score=0.745 total time=   0.3s\n",
      "[CV 3/3] END gamma=2, learning_rate=0.4, max_depth=4;, score=0.746 total time=   0.3s\n",
      "[CV 1/3] END gamma=2, learning_rate=0.4, max_depth=5;, score=0.739 total time=   0.3s\n",
      "[CV 2/3] END gamma=2, learning_rate=0.4, max_depth=5;, score=0.747 total time=   0.3s\n",
      "[CV 3/3] END gamma=2, learning_rate=0.4, max_depth=5;, score=0.745 total time=   0.3s\n",
      "[CV 1/3] END gamma=2, learning_rate=0.4, max_depth=6;, score=0.740 total time=   0.4s\n",
      "[CV 2/3] END gamma=2, learning_rate=0.4, max_depth=6;, score=0.743 total time=   0.4s\n",
      "[CV 3/3] END gamma=2, learning_rate=0.4, max_depth=6;, score=0.744 total time=   0.4s\n",
      "[CV 1/3] END gamma=2, learning_rate=0.4, max_depth=7;, score=0.734 total time=   0.4s\n",
      "[CV 2/3] END gamma=2, learning_rate=0.4, max_depth=7;, score=0.734 total time=   0.5s\n",
      "[CV 3/3] END gamma=2, learning_rate=0.4, max_depth=7;, score=0.740 total time=   0.5s\n",
      "[CV 1/3] END gamma=2, learning_rate=0.4, max_depth=8;, score=0.730 total time=   0.6s\n",
      "[CV 2/3] END gamma=2, learning_rate=0.4, max_depth=8;, score=0.747 total time=   0.6s\n",
      "[CV 3/3] END gamma=2, learning_rate=0.4, max_depth=8;, score=0.740 total time=   0.6s\n",
      "[CV 1/3] END gamma=2, learning_rate=0.4, max_depth=9;, score=0.721 total time=   0.7s\n",
      "[CV 2/3] END gamma=2, learning_rate=0.4, max_depth=9;, score=0.731 total time=   0.7s\n",
      "[CV 3/3] END gamma=2, learning_rate=0.4, max_depth=9;, score=0.734 total time=   0.6s\n",
      "[CV 1/3] END gamma=2, learning_rate=0.5, max_depth=3;, score=0.745 total time=   0.2s\n",
      "[CV 2/3] END gamma=2, learning_rate=0.5, max_depth=3;, score=0.747 total time=   0.2s\n",
      "[CV 3/3] END gamma=2, learning_rate=0.5, max_depth=3;, score=0.745 total time=   0.2s\n",
      "[CV 1/3] END gamma=2, learning_rate=0.5, max_depth=4;, score=0.743 total time=   0.3s\n",
      "[CV 2/3] END gamma=2, learning_rate=0.5, max_depth=4;, score=0.743 total time=   0.3s\n",
      "[CV 3/3] END gamma=2, learning_rate=0.5, max_depth=4;, score=0.744 total time=   0.3s\n",
      "[CV 1/3] END gamma=2, learning_rate=0.5, max_depth=5;, score=0.738 total time=   0.3s\n",
      "[CV 2/3] END gamma=2, learning_rate=0.5, max_depth=5;, score=0.746 total time=   0.3s\n",
      "[CV 3/3] END gamma=2, learning_rate=0.5, max_depth=5;, score=0.739 total time=   0.4s\n",
      "[CV 1/3] END gamma=2, learning_rate=0.5, max_depth=6;, score=0.736 total time=   0.5s\n",
      "[CV 2/3] END gamma=2, learning_rate=0.5, max_depth=6;, score=0.733 total time=   0.5s\n",
      "[CV 3/3] END gamma=2, learning_rate=0.5, max_depth=6;, score=0.736 total time=   0.7s\n",
      "[CV 1/3] END gamma=2, learning_rate=0.5, max_depth=7;, score=0.728 total time=   0.7s\n",
      "[CV 2/3] END gamma=2, learning_rate=0.5, max_depth=7;, score=0.739 total time=   0.7s\n",
      "[CV 3/3] END gamma=2, learning_rate=0.5, max_depth=7;, score=0.732 total time=   0.7s\n",
      "[CV 1/3] END gamma=2, learning_rate=0.5, max_depth=8;, score=0.719 total time=   0.7s\n",
      "[CV 2/3] END gamma=2, learning_rate=0.5, max_depth=8;, score=0.736 total time=   0.8s\n",
      "[CV 3/3] END gamma=2, learning_rate=0.5, max_depth=8;, score=0.735 total time=   0.6s\n",
      "[CV 1/3] END gamma=2, learning_rate=0.5, max_depth=9;, score=0.716 total time=   0.8s\n",
      "[CV 2/3] END gamma=2, learning_rate=0.5, max_depth=9;, score=0.720 total time=   0.7s\n",
      "[CV 3/3] END gamma=2, learning_rate=0.5, max_depth=9;, score=0.728 total time=   0.6s\n",
      "[CV 1/3] END gamma=2, learning_rate=0.6, max_depth=3;, score=0.746 total time=   0.2s\n",
      "[CV 2/3] END gamma=2, learning_rate=0.6, max_depth=3;, score=0.746 total time=   0.2s\n",
      "[CV 3/3] END gamma=2, learning_rate=0.6, max_depth=3;, score=0.744 total time=   0.2s\n",
      "[CV 1/3] END gamma=2, learning_rate=0.6, max_depth=4;, score=0.739 total time=   0.2s\n",
      "[CV 2/3] END gamma=2, learning_rate=0.6, max_depth=4;, score=0.742 total time=   0.3s\n",
      "[CV 3/3] END gamma=2, learning_rate=0.6, max_depth=4;, score=0.743 total time=   0.3s\n",
      "[CV 1/3] END gamma=2, learning_rate=0.6, max_depth=5;, score=0.739 total time=   0.3s\n",
      "[CV 2/3] END gamma=2, learning_rate=0.6, max_depth=5;, score=0.739 total time=   0.4s\n",
      "[CV 3/3] END gamma=2, learning_rate=0.6, max_depth=5;, score=0.742 total time=   0.3s\n",
      "[CV 1/3] END gamma=2, learning_rate=0.6, max_depth=6;, score=0.734 total time=   0.4s\n",
      "[CV 2/3] END gamma=2, learning_rate=0.6, max_depth=6;, score=0.735 total time=   0.7s\n",
      "[CV 3/3] END gamma=2, learning_rate=0.6, max_depth=6;, score=0.733 total time=   0.6s\n",
      "[CV 1/3] END gamma=2, learning_rate=0.6, max_depth=7;, score=0.719 total time=   0.5s\n",
      "[CV 2/3] END gamma=2, learning_rate=0.6, max_depth=7;, score=0.732 total time=   0.5s\n",
      "[CV 3/3] END gamma=2, learning_rate=0.6, max_depth=7;, score=0.728 total time=   0.6s\n",
      "[CV 1/3] END gamma=2, learning_rate=0.6, max_depth=8;, score=0.721 total time=   0.7s\n",
      "[CV 2/3] END gamma=2, learning_rate=0.6, max_depth=8;, score=0.728 total time=   0.6s\n",
      "[CV 3/3] END gamma=2, learning_rate=0.6, max_depth=8;, score=0.733 total time=   0.6s\n",
      "[CV 1/3] END gamma=2, learning_rate=0.6, max_depth=9;, score=0.708 total time=   0.7s\n",
      "[CV 2/3] END gamma=2, learning_rate=0.6, max_depth=9;, score=0.717 total time=   0.7s\n",
      "[CV 3/3] END gamma=2, learning_rate=0.6, max_depth=9;, score=0.723 total time=   0.6s\n",
      "[CV 1/3] END gamma=3, learning_rate=0.1, max_depth=3;, score=0.746 total time=   0.2s\n",
      "[CV 2/3] END gamma=3, learning_rate=0.1, max_depth=3;, score=0.748 total time=   0.2s\n",
      "[CV 3/3] END gamma=3, learning_rate=0.1, max_depth=3;, score=0.746 total time=   0.2s\n",
      "[CV 1/3] END gamma=3, learning_rate=0.1, max_depth=4;, score=0.747 total time=   0.3s\n",
      "[CV 2/3] END gamma=3, learning_rate=0.1, max_depth=4;, score=0.749 total time=   0.3s\n"
     ]
    },
    {
     "name": "stdout",
     "output_type": "stream",
     "text": [
      "[CV 3/3] END gamma=3, learning_rate=0.1, max_depth=4;, score=0.746 total time=   0.3s\n",
      "[CV 1/3] END gamma=3, learning_rate=0.1, max_depth=5;, score=0.747 total time=   0.4s\n",
      "[CV 2/3] END gamma=3, learning_rate=0.1, max_depth=5;, score=0.750 total time=   0.4s\n",
      "[CV 3/3] END gamma=3, learning_rate=0.1, max_depth=5;, score=0.750 total time=   0.3s\n",
      "[CV 1/3] END gamma=3, learning_rate=0.1, max_depth=6;, score=0.743 total time=   0.5s\n",
      "[CV 2/3] END gamma=3, learning_rate=0.1, max_depth=6;, score=0.750 total time=   0.5s\n",
      "[CV 3/3] END gamma=3, learning_rate=0.1, max_depth=6;, score=0.749 total time=   0.5s\n",
      "[CV 1/3] END gamma=3, learning_rate=0.1, max_depth=7;, score=0.743 total time=   0.5s\n",
      "[CV 2/3] END gamma=3, learning_rate=0.1, max_depth=7;, score=0.747 total time=   0.6s\n",
      "[CV 3/3] END gamma=3, learning_rate=0.1, max_depth=7;, score=0.745 total time=   0.6s\n",
      "[CV 1/3] END gamma=3, learning_rate=0.1, max_depth=8;, score=0.739 total time=   0.7s\n",
      "[CV 2/3] END gamma=3, learning_rate=0.1, max_depth=8;, score=0.749 total time=   0.7s\n",
      "[CV 3/3] END gamma=3, learning_rate=0.1, max_depth=8;, score=0.744 total time=   0.7s\n",
      "[CV 1/3] END gamma=3, learning_rate=0.1, max_depth=9;, score=0.738 total time=   0.8s\n",
      "[CV 2/3] END gamma=3, learning_rate=0.1, max_depth=9;, score=0.747 total time=   0.8s\n",
      "[CV 3/3] END gamma=3, learning_rate=0.1, max_depth=9;, score=0.744 total time=   0.8s\n",
      "[CV 1/3] END gamma=3, learning_rate=0.2, max_depth=3;, score=0.744 total time=   0.2s\n",
      "[CV 2/3] END gamma=3, learning_rate=0.2, max_depth=3;, score=0.748 total time=   0.2s\n",
      "[CV 3/3] END gamma=3, learning_rate=0.2, max_depth=3;, score=0.746 total time=   0.2s\n",
      "[CV 1/3] END gamma=3, learning_rate=0.2, max_depth=4;, score=0.744 total time=   0.3s\n",
      "[CV 2/3] END gamma=3, learning_rate=0.2, max_depth=4;, score=0.749 total time=   0.2s\n",
      "[CV 3/3] END gamma=3, learning_rate=0.2, max_depth=4;, score=0.748 total time=   0.3s\n",
      "[CV 1/3] END gamma=3, learning_rate=0.2, max_depth=5;, score=0.744 total time=   0.4s\n",
      "[CV 2/3] END gamma=3, learning_rate=0.2, max_depth=5;, score=0.747 total time=   0.3s\n",
      "[CV 3/3] END gamma=3, learning_rate=0.2, max_depth=5;, score=0.746 total time=   0.3s\n",
      "[CV 1/3] END gamma=3, learning_rate=0.2, max_depth=6;, score=0.741 total time=   0.5s\n",
      "[CV 2/3] END gamma=3, learning_rate=0.2, max_depth=6;, score=0.748 total time=   0.5s\n",
      "[CV 3/3] END gamma=3, learning_rate=0.2, max_depth=6;, score=0.745 total time=   0.5s\n",
      "[CV 1/3] END gamma=3, learning_rate=0.2, max_depth=7;, score=0.740 total time=   0.6s\n",
      "[CV 2/3] END gamma=3, learning_rate=0.2, max_depth=7;, score=0.747 total time=   0.5s\n",
      "[CV 3/3] END gamma=3, learning_rate=0.2, max_depth=7;, score=0.744 total time=   0.5s\n",
      "[CV 1/3] END gamma=3, learning_rate=0.2, max_depth=8;, score=0.741 total time=   0.6s\n",
      "[CV 2/3] END gamma=3, learning_rate=0.2, max_depth=8;, score=0.747 total time=   0.7s\n",
      "[CV 3/3] END gamma=3, learning_rate=0.2, max_depth=8;, score=0.745 total time=   0.6s\n",
      "[CV 1/3] END gamma=3, learning_rate=0.2, max_depth=9;, score=0.734 total time=   0.8s\n",
      "[CV 2/3] END gamma=3, learning_rate=0.2, max_depth=9;, score=0.745 total time=   0.7s\n",
      "[CV 3/3] END gamma=3, learning_rate=0.2, max_depth=9;, score=0.743 total time=   0.6s\n",
      "[CV 1/3] END gamma=3, learning_rate=0.3, max_depth=3;, score=0.743 total time=   0.2s\n",
      "[CV 2/3] END gamma=3, learning_rate=0.3, max_depth=3;, score=0.751 total time=   0.2s\n",
      "[CV 3/3] END gamma=3, learning_rate=0.3, max_depth=3;, score=0.747 total time=   0.2s\n",
      "[CV 1/3] END gamma=3, learning_rate=0.3, max_depth=4;, score=0.745 total time=   0.3s\n",
      "[CV 2/3] END gamma=3, learning_rate=0.3, max_depth=4;, score=0.749 total time=   0.3s\n",
      "[CV 3/3] END gamma=3, learning_rate=0.3, max_depth=4;, score=0.744 total time=   0.3s\n",
      "[CV 1/3] END gamma=3, learning_rate=0.3, max_depth=5;, score=0.744 total time=   0.4s\n",
      "[CV 2/3] END gamma=3, learning_rate=0.3, max_depth=5;, score=0.749 total time=   0.4s\n",
      "[CV 3/3] END gamma=3, learning_rate=0.3, max_depth=5;, score=0.746 total time=   0.3s\n",
      "[CV 1/3] END gamma=3, learning_rate=0.3, max_depth=6;, score=0.742 total time=   0.4s\n",
      "[CV 2/3] END gamma=3, learning_rate=0.3, max_depth=6;, score=0.746 total time=   0.4s\n",
      "[CV 3/3] END gamma=3, learning_rate=0.3, max_depth=6;, score=0.747 total time=   0.4s\n",
      "[CV 1/3] END gamma=3, learning_rate=0.3, max_depth=7;, score=0.737 total time=   0.5s\n",
      "[CV 2/3] END gamma=3, learning_rate=0.3, max_depth=7;, score=0.744 total time=   0.5s\n",
      "[CV 3/3] END gamma=3, learning_rate=0.3, max_depth=7;, score=0.743 total time=   0.5s\n",
      "[CV 1/3] END gamma=3, learning_rate=0.3, max_depth=8;, score=0.737 total time=   0.6s\n",
      "[CV 2/3] END gamma=3, learning_rate=0.3, max_depth=8;, score=0.744 total time=   0.6s\n",
      "[CV 3/3] END gamma=3, learning_rate=0.3, max_depth=8;, score=0.742 total time=   0.6s\n",
      "[CV 1/3] END gamma=3, learning_rate=0.3, max_depth=9;, score=0.731 total time=   0.7s\n",
      "[CV 2/3] END gamma=3, learning_rate=0.3, max_depth=9;, score=0.744 total time=   0.7s\n",
      "[CV 3/3] END gamma=3, learning_rate=0.3, max_depth=9;, score=0.742 total time=   0.7s\n",
      "[CV 1/3] END gamma=3, learning_rate=0.4, max_depth=3;, score=0.742 total time=   0.2s\n",
      "[CV 2/3] END gamma=3, learning_rate=0.4, max_depth=3;, score=0.749 total time=   0.2s\n",
      "[CV 3/3] END gamma=3, learning_rate=0.4, max_depth=3;, score=0.744 total time=   0.2s\n",
      "[CV 1/3] END gamma=3, learning_rate=0.4, max_depth=4;, score=0.746 total time=   0.3s\n",
      "[CV 2/3] END gamma=3, learning_rate=0.4, max_depth=4;, score=0.748 total time=   0.3s\n",
      "[CV 3/3] END gamma=3, learning_rate=0.4, max_depth=4;, score=0.744 total time=   0.3s\n",
      "[CV 1/3] END gamma=3, learning_rate=0.4, max_depth=5;, score=0.737 total time=   0.3s\n",
      "[CV 2/3] END gamma=3, learning_rate=0.4, max_depth=5;, score=0.751 total time=   0.3s\n",
      "[CV 3/3] END gamma=3, learning_rate=0.4, max_depth=5;, score=0.743 total time=   0.3s\n",
      "[CV 1/3] END gamma=3, learning_rate=0.4, max_depth=6;, score=0.741 total time=   0.4s\n",
      "[CV 2/3] END gamma=3, learning_rate=0.4, max_depth=6;, score=0.744 total time=   0.4s\n",
      "[CV 3/3] END gamma=3, learning_rate=0.4, max_depth=6;, score=0.745 total time=   0.4s\n",
      "[CV 1/3] END gamma=3, learning_rate=0.4, max_depth=7;, score=0.735 total time=   0.5s\n",
      "[CV 2/3] END gamma=3, learning_rate=0.4, max_depth=7;, score=0.750 total time=   0.5s\n",
      "[CV 3/3] END gamma=3, learning_rate=0.4, max_depth=7;, score=0.742 total time=   0.5s\n",
      "[CV 1/3] END gamma=3, learning_rate=0.4, max_depth=8;, score=0.736 total time=   0.6s\n",
      "[CV 2/3] END gamma=3, learning_rate=0.4, max_depth=8;, score=0.741 total time=   0.6s\n",
      "[CV 3/3] END gamma=3, learning_rate=0.4, max_depth=8;, score=0.741 total time=   0.6s\n",
      "[CV 1/3] END gamma=3, learning_rate=0.4, max_depth=9;, score=0.732 total time=   0.8s\n",
      "[CV 2/3] END gamma=3, learning_rate=0.4, max_depth=9;, score=0.738 total time=   0.7s\n",
      "[CV 3/3] END gamma=3, learning_rate=0.4, max_depth=9;, score=0.736 total time=   0.7s\n",
      "[CV 1/3] END gamma=3, learning_rate=0.5, max_depth=3;, score=0.744 total time=   0.2s\n",
      "[CV 2/3] END gamma=3, learning_rate=0.5, max_depth=3;, score=0.748 total time=   0.2s\n",
      "[CV 3/3] END gamma=3, learning_rate=0.5, max_depth=3;, score=0.745 total time=   0.2s\n",
      "[CV 1/3] END gamma=3, learning_rate=0.5, max_depth=4;, score=0.741 total time=   0.2s\n",
      "[CV 2/3] END gamma=3, learning_rate=0.5, max_depth=4;, score=0.746 total time=   0.2s\n",
      "[CV 3/3] END gamma=3, learning_rate=0.5, max_depth=4;, score=0.741 total time=   0.3s\n",
      "[CV 1/3] END gamma=3, learning_rate=0.5, max_depth=5;, score=0.741 total time=   0.4s\n",
      "[CV 2/3] END gamma=3, learning_rate=0.5, max_depth=5;, score=0.745 total time=   0.3s\n",
      "[CV 3/3] END gamma=3, learning_rate=0.5, max_depth=5;, score=0.742 total time=   0.3s\n",
      "[CV 1/3] END gamma=3, learning_rate=0.5, max_depth=6;, score=0.733 total time=   0.4s\n",
      "[CV 2/3] END gamma=3, learning_rate=0.5, max_depth=6;, score=0.744 total time=   0.4s\n",
      "[CV 3/3] END gamma=3, learning_rate=0.5, max_depth=6;, score=0.738 total time=   0.4s\n",
      "[CV 1/3] END gamma=3, learning_rate=0.5, max_depth=7;, score=0.737 total time=   0.5s\n",
      "[CV 2/3] END gamma=3, learning_rate=0.5, max_depth=7;, score=0.745 total time=   0.4s\n",
      "[CV 3/3] END gamma=3, learning_rate=0.5, max_depth=7;, score=0.740 total time=   0.5s\n",
      "[CV 1/3] END gamma=3, learning_rate=0.5, max_depth=8;, score=0.731 total time=   0.6s\n",
      "[CV 2/3] END gamma=3, learning_rate=0.5, max_depth=8;, score=0.741 total time=   0.9s\n"
     ]
    },
    {
     "name": "stdout",
     "output_type": "stream",
     "text": [
      "[CV 3/3] END gamma=3, learning_rate=0.5, max_depth=8;, score=0.738 total time=   0.9s\n",
      "[CV 1/3] END gamma=3, learning_rate=0.5, max_depth=9;, score=0.723 total time=   1.2s\n",
      "[CV 2/3] END gamma=3, learning_rate=0.5, max_depth=9;, score=0.736 total time=   1.0s\n",
      "[CV 3/3] END gamma=3, learning_rate=0.5, max_depth=9;, score=0.730 total time=   1.0s\n",
      "[CV 1/3] END gamma=3, learning_rate=0.6, max_depth=3;, score=0.747 total time=   0.3s\n",
      "[CV 2/3] END gamma=3, learning_rate=0.6, max_depth=3;, score=0.745 total time=   0.2s\n",
      "[CV 3/3] END gamma=3, learning_rate=0.6, max_depth=3;, score=0.745 total time=   0.2s\n",
      "[CV 1/3] END gamma=3, learning_rate=0.6, max_depth=4;, score=0.741 total time=   0.3s\n",
      "[CV 2/3] END gamma=3, learning_rate=0.6, max_depth=4;, score=0.746 total time=   0.3s\n",
      "[CV 3/3] END gamma=3, learning_rate=0.6, max_depth=4;, score=0.743 total time=   0.3s\n",
      "[CV 1/3] END gamma=3, learning_rate=0.6, max_depth=5;, score=0.736 total time=   0.3s\n",
      "[CV 2/3] END gamma=3, learning_rate=0.6, max_depth=5;, score=0.741 total time=   0.3s\n",
      "[CV 3/3] END gamma=3, learning_rate=0.6, max_depth=5;, score=0.741 total time=   0.3s\n",
      "[CV 1/3] END gamma=3, learning_rate=0.6, max_depth=6;, score=0.729 total time=   0.5s\n",
      "[CV 2/3] END gamma=3, learning_rate=0.6, max_depth=6;, score=0.741 total time=   0.4s\n",
      "[CV 3/3] END gamma=3, learning_rate=0.6, max_depth=6;, score=0.739 total time=   0.4s\n",
      "[CV 1/3] END gamma=3, learning_rate=0.6, max_depth=7;, score=0.735 total time=   0.5s\n",
      "[CV 2/3] END gamma=3, learning_rate=0.6, max_depth=7;, score=0.731 total time=   0.5s\n",
      "[CV 3/3] END gamma=3, learning_rate=0.6, max_depth=7;, score=0.735 total time=   0.5s\n",
      "[CV 1/3] END gamma=3, learning_rate=0.6, max_depth=8;, score=0.727 total time=   0.6s\n",
      "[CV 2/3] END gamma=3, learning_rate=0.6, max_depth=8;, score=0.724 total time=   0.6s\n",
      "[CV 3/3] END gamma=3, learning_rate=0.6, max_depth=8;, score=0.733 total time=   0.6s\n",
      "[CV 1/3] END gamma=3, learning_rate=0.6, max_depth=9;, score=0.724 total time=   0.7s\n",
      "[CV 2/3] END gamma=3, learning_rate=0.6, max_depth=9;, score=0.728 total time=   0.6s\n",
      "[CV 3/3] END gamma=3, learning_rate=0.6, max_depth=9;, score=0.723 total time=   0.6s\n",
      "[CV 1/3] END gamma=4, learning_rate=0.1, max_depth=3;, score=0.745 total time=   0.2s\n",
      "[CV 2/3] END gamma=4, learning_rate=0.1, max_depth=3;, score=0.748 total time=   0.2s\n",
      "[CV 3/3] END gamma=4, learning_rate=0.1, max_depth=3;, score=0.747 total time=   0.2s\n",
      "[CV 1/3] END gamma=4, learning_rate=0.1, max_depth=4;, score=0.745 total time=   0.3s\n",
      "[CV 2/3] END gamma=4, learning_rate=0.1, max_depth=4;, score=0.751 total time=   0.3s\n",
      "[CV 3/3] END gamma=4, learning_rate=0.1, max_depth=4;, score=0.747 total time=   0.3s\n",
      "[CV 1/3] END gamma=4, learning_rate=0.1, max_depth=5;, score=0.746 total time=   0.4s\n",
      "[CV 2/3] END gamma=4, learning_rate=0.1, max_depth=5;, score=0.751 total time=   0.4s\n",
      "[CV 3/3] END gamma=4, learning_rate=0.1, max_depth=5;, score=0.749 total time=   0.4s\n",
      "[CV 1/3] END gamma=4, learning_rate=0.1, max_depth=6;, score=0.745 total time=   0.5s\n",
      "[CV 2/3] END gamma=4, learning_rate=0.1, max_depth=6;, score=0.750 total time=   0.5s\n",
      "[CV 3/3] END gamma=4, learning_rate=0.1, max_depth=6;, score=0.748 total time=   0.5s\n",
      "[CV 1/3] END gamma=4, learning_rate=0.1, max_depth=7;, score=0.743 total time=   0.6s\n",
      "[CV 2/3] END gamma=4, learning_rate=0.1, max_depth=7;, score=0.750 total time=   0.6s\n",
      "[CV 3/3] END gamma=4, learning_rate=0.1, max_depth=7;, score=0.747 total time=   0.6s\n",
      "[CV 1/3] END gamma=4, learning_rate=0.1, max_depth=8;, score=0.743 total time=   0.7s\n",
      "[CV 2/3] END gamma=4, learning_rate=0.1, max_depth=8;, score=0.749 total time=   0.7s\n",
      "[CV 3/3] END gamma=4, learning_rate=0.1, max_depth=8;, score=0.745 total time=   0.7s\n",
      "[CV 1/3] END gamma=4, learning_rate=0.1, max_depth=9;, score=0.742 total time=   0.9s\n",
      "[CV 2/3] END gamma=4, learning_rate=0.1, max_depth=9;, score=0.746 total time=   0.9s\n",
      "[CV 3/3] END gamma=4, learning_rate=0.1, max_depth=9;, score=0.744 total time=   0.8s\n",
      "[CV 1/3] END gamma=4, learning_rate=0.2, max_depth=3;, score=0.745 total time=   0.2s\n",
      "[CV 2/3] END gamma=4, learning_rate=0.2, max_depth=3;, score=0.749 total time=   0.2s\n",
      "[CV 3/3] END gamma=4, learning_rate=0.2, max_depth=3;, score=0.747 total time=   0.2s\n",
      "[CV 1/3] END gamma=4, learning_rate=0.2, max_depth=4;, score=0.745 total time=   0.3s\n",
      "[CV 2/3] END gamma=4, learning_rate=0.2, max_depth=4;, score=0.749 total time=   0.3s\n",
      "[CV 3/3] END gamma=4, learning_rate=0.2, max_depth=4;, score=0.748 total time=   0.3s\n",
      "[CV 1/3] END gamma=4, learning_rate=0.2, max_depth=5;, score=0.745 total time=   0.4s\n",
      "[CV 2/3] END gamma=4, learning_rate=0.2, max_depth=5;, score=0.750 total time=   0.3s\n",
      "[CV 3/3] END gamma=4, learning_rate=0.2, max_depth=5;, score=0.746 total time=   0.3s\n",
      "[CV 1/3] END gamma=4, learning_rate=0.2, max_depth=6;, score=0.746 total time=   0.4s\n",
      "[CV 2/3] END gamma=4, learning_rate=0.2, max_depth=6;, score=0.751 total time=   0.5s\n",
      "[CV 3/3] END gamma=4, learning_rate=0.2, max_depth=6;, score=0.747 total time=   0.4s\n",
      "[CV 1/3] END gamma=4, learning_rate=0.2, max_depth=7;, score=0.742 total time=   0.5s\n",
      "[CV 2/3] END gamma=4, learning_rate=0.2, max_depth=7;, score=0.748 total time=   0.5s\n",
      "[CV 3/3] END gamma=4, learning_rate=0.2, max_depth=7;, score=0.747 total time=   0.5s\n",
      "[CV 1/3] END gamma=4, learning_rate=0.2, max_depth=8;, score=0.739 total time=   0.6s\n",
      "[CV 2/3] END gamma=4, learning_rate=0.2, max_depth=8;, score=0.747 total time=   0.6s\n",
      "[CV 3/3] END gamma=4, learning_rate=0.2, max_depth=8;, score=0.744 total time=   0.6s\n",
      "[CV 1/3] END gamma=4, learning_rate=0.2, max_depth=9;, score=0.741 total time=   0.7s\n",
      "[CV 2/3] END gamma=4, learning_rate=0.2, max_depth=9;, score=0.743 total time=   0.7s\n",
      "[CV 3/3] END gamma=4, learning_rate=0.2, max_depth=9;, score=0.742 total time=   0.7s\n",
      "[CV 1/3] END gamma=4, learning_rate=0.3, max_depth=3;, score=0.744 total time=   0.2s\n",
      "[CV 2/3] END gamma=4, learning_rate=0.3, max_depth=3;, score=0.750 total time=   0.2s\n",
      "[CV 3/3] END gamma=4, learning_rate=0.3, max_depth=3;, score=0.746 total time=   0.2s\n",
      "[CV 1/3] END gamma=4, learning_rate=0.3, max_depth=4;, score=0.744 total time=   0.3s\n",
      "[CV 2/3] END gamma=4, learning_rate=0.3, max_depth=4;, score=0.749 total time=   0.3s\n",
      "[CV 3/3] END gamma=4, learning_rate=0.3, max_depth=4;, score=0.743 total time=   0.3s\n",
      "[CV 1/3] END gamma=4, learning_rate=0.3, max_depth=5;, score=0.746 total time=   0.4s\n",
      "[CV 2/3] END gamma=4, learning_rate=0.3, max_depth=5;, score=0.750 total time=   0.4s\n",
      "[CV 3/3] END gamma=4, learning_rate=0.3, max_depth=5;, score=0.747 total time=   0.3s\n",
      "[CV 1/3] END gamma=4, learning_rate=0.3, max_depth=6;, score=0.739 total time=   0.4s\n",
      "[CV 2/3] END gamma=4, learning_rate=0.3, max_depth=6;, score=0.748 total time=   0.4s\n",
      "[CV 3/3] END gamma=4, learning_rate=0.3, max_depth=6;, score=0.746 total time=   0.5s\n",
      "[CV 1/3] END gamma=4, learning_rate=0.3, max_depth=7;, score=0.742 total time=   0.5s\n",
      "[CV 2/3] END gamma=4, learning_rate=0.3, max_depth=7;, score=0.747 total time=   0.5s\n",
      "[CV 3/3] END gamma=4, learning_rate=0.3, max_depth=7;, score=0.746 total time=   0.5s\n",
      "[CV 1/3] END gamma=4, learning_rate=0.3, max_depth=8;, score=0.740 total time=   0.6s\n",
      "[CV 2/3] END gamma=4, learning_rate=0.3, max_depth=8;, score=0.743 total time=   0.6s\n",
      "[CV 3/3] END gamma=4, learning_rate=0.3, max_depth=8;, score=0.744 total time=   0.6s\n",
      "[CV 1/3] END gamma=4, learning_rate=0.3, max_depth=9;, score=0.733 total time=   0.7s\n",
      "[CV 2/3] END gamma=4, learning_rate=0.3, max_depth=9;, score=0.742 total time=   0.6s\n",
      "[CV 3/3] END gamma=4, learning_rate=0.3, max_depth=9;, score=0.742 total time=   0.7s\n",
      "[CV 1/3] END gamma=4, learning_rate=0.4, max_depth=3;, score=0.744 total time=   0.2s\n",
      "[CV 2/3] END gamma=4, learning_rate=0.4, max_depth=3;, score=0.750 total time=   0.2s\n",
      "[CV 3/3] END gamma=4, learning_rate=0.4, max_depth=3;, score=0.746 total time=   0.2s\n",
      "[CV 1/3] END gamma=4, learning_rate=0.4, max_depth=4;, score=0.744 total time=   0.3s\n",
      "[CV 2/3] END gamma=4, learning_rate=0.4, max_depth=4;, score=0.747 total time=   0.3s\n",
      "[CV 3/3] END gamma=4, learning_rate=0.4, max_depth=4;, score=0.746 total time=   0.3s\n",
      "[CV 1/3] END gamma=4, learning_rate=0.4, max_depth=5;, score=0.741 total time=   0.4s\n",
      "[CV 2/3] END gamma=4, learning_rate=0.4, max_depth=5;, score=0.750 total time=   0.3s\n"
     ]
    },
    {
     "name": "stdout",
     "output_type": "stream",
     "text": [
      "[CV 3/3] END gamma=4, learning_rate=0.4, max_depth=5;, score=0.746 total time=   0.4s\n",
      "[CV 1/3] END gamma=4, learning_rate=0.4, max_depth=6;, score=0.740 total time=   0.5s\n",
      "[CV 2/3] END gamma=4, learning_rate=0.4, max_depth=6;, score=0.744 total time=   0.4s\n",
      "[CV 3/3] END gamma=4, learning_rate=0.4, max_depth=6;, score=0.744 total time=   0.4s\n",
      "[CV 1/3] END gamma=4, learning_rate=0.4, max_depth=7;, score=0.737 total time=   0.6s\n",
      "[CV 2/3] END gamma=4, learning_rate=0.4, max_depth=7;, score=0.749 total time=   0.5s\n",
      "[CV 3/3] END gamma=4, learning_rate=0.4, max_depth=7;, score=0.745 total time=   0.5s\n",
      "[CV 1/3] END gamma=4, learning_rate=0.4, max_depth=8;, score=0.738 total time=   0.6s\n",
      "[CV 2/3] END gamma=4, learning_rate=0.4, max_depth=8;, score=0.747 total time=   0.5s\n",
      "[CV 3/3] END gamma=4, learning_rate=0.4, max_depth=8;, score=0.743 total time=   0.6s\n",
      "[CV 1/3] END gamma=4, learning_rate=0.4, max_depth=9;, score=0.734 total time=   0.7s\n",
      "[CV 2/3] END gamma=4, learning_rate=0.4, max_depth=9;, score=0.739 total time=   0.7s\n",
      "[CV 3/3] END gamma=4, learning_rate=0.4, max_depth=9;, score=0.735 total time=   0.7s\n",
      "[CV 1/3] END gamma=4, learning_rate=0.5, max_depth=3;, score=0.745 total time=   0.2s\n",
      "[CV 2/3] END gamma=4, learning_rate=0.5, max_depth=3;, score=0.749 total time=   0.2s\n",
      "[CV 3/3] END gamma=4, learning_rate=0.5, max_depth=3;, score=0.744 total time=   0.2s\n",
      "[CV 1/3] END gamma=4, learning_rate=0.5, max_depth=4;, score=0.746 total time=   0.2s\n",
      "[CV 2/3] END gamma=4, learning_rate=0.5, max_depth=4;, score=0.750 total time=   0.3s\n",
      "[CV 3/3] END gamma=4, learning_rate=0.5, max_depth=4;, score=0.743 total time=   0.3s\n",
      "[CV 1/3] END gamma=4, learning_rate=0.5, max_depth=5;, score=0.744 total time=   0.3s\n",
      "[CV 2/3] END gamma=4, learning_rate=0.5, max_depth=5;, score=0.746 total time=   0.3s\n",
      "[CV 3/3] END gamma=4, learning_rate=0.5, max_depth=5;, score=0.746 total time=   0.3s\n",
      "[CV 1/3] END gamma=4, learning_rate=0.5, max_depth=6;, score=0.739 total time=   0.4s\n",
      "[CV 2/3] END gamma=4, learning_rate=0.5, max_depth=6;, score=0.743 total time=   0.4s\n",
      "[CV 3/3] END gamma=4, learning_rate=0.5, max_depth=6;, score=0.743 total time=   0.4s\n",
      "[CV 1/3] END gamma=4, learning_rate=0.5, max_depth=7;, score=0.737 total time=   0.5s\n",
      "[CV 2/3] END gamma=4, learning_rate=0.5, max_depth=7;, score=0.743 total time=   0.5s\n",
      "[CV 3/3] END gamma=4, learning_rate=0.5, max_depth=7;, score=0.742 total time=   0.5s\n",
      "[CV 1/3] END gamma=4, learning_rate=0.5, max_depth=8;, score=0.731 total time=   0.6s\n",
      "[CV 2/3] END gamma=4, learning_rate=0.5, max_depth=8;, score=0.740 total time=   0.6s\n",
      "[CV 3/3] END gamma=4, learning_rate=0.5, max_depth=8;, score=0.739 total time=   0.6s\n",
      "[CV 1/3] END gamma=4, learning_rate=0.5, max_depth=9;, score=0.730 total time=   0.6s\n",
      "[CV 2/3] END gamma=4, learning_rate=0.5, max_depth=9;, score=0.740 total time=   0.6s\n",
      "[CV 3/3] END gamma=4, learning_rate=0.5, max_depth=9;, score=0.740 total time=   0.7s\n",
      "[CV 1/3] END gamma=4, learning_rate=0.6, max_depth=3;, score=0.745 total time=   0.2s\n",
      "[CV 2/3] END gamma=4, learning_rate=0.6, max_depth=3;, score=0.744 total time=   0.2s\n",
      "[CV 3/3] END gamma=4, learning_rate=0.6, max_depth=3;, score=0.746 total time=   0.2s\n",
      "[CV 1/3] END gamma=4, learning_rate=0.6, max_depth=4;, score=0.745 total time=   0.3s\n",
      "[CV 2/3] END gamma=4, learning_rate=0.6, max_depth=4;, score=0.747 total time=   0.3s\n",
      "[CV 3/3] END gamma=4, learning_rate=0.6, max_depth=4;, score=0.744 total time=   0.2s\n",
      "[CV 1/3] END gamma=4, learning_rate=0.6, max_depth=5;, score=0.743 total time=   0.3s\n",
      "[CV 2/3] END gamma=4, learning_rate=0.6, max_depth=5;, score=0.744 total time=   0.3s\n",
      "[CV 3/3] END gamma=4, learning_rate=0.6, max_depth=5;, score=0.742 total time=   0.3s\n",
      "[CV 1/3] END gamma=4, learning_rate=0.6, max_depth=6;, score=0.738 total time=   0.4s\n",
      "[CV 2/3] END gamma=4, learning_rate=0.6, max_depth=6;, score=0.744 total time=   0.4s\n",
      "[CV 3/3] END gamma=4, learning_rate=0.6, max_depth=6;, score=0.744 total time=   0.4s\n",
      "[CV 1/3] END gamma=4, learning_rate=0.6, max_depth=7;, score=0.732 total time=   0.5s\n",
      "[CV 2/3] END gamma=4, learning_rate=0.6, max_depth=7;, score=0.743 total time=   0.5s\n",
      "[CV 3/3] END gamma=4, learning_rate=0.6, max_depth=7;, score=0.739 total time=   0.5s\n",
      "[CV 1/3] END gamma=4, learning_rate=0.6, max_depth=8;, score=0.726 total time=   0.6s\n",
      "[CV 2/3] END gamma=4, learning_rate=0.6, max_depth=8;, score=0.740 total time=   0.7s\n",
      "[CV 3/3] END gamma=4, learning_rate=0.6, max_depth=8;, score=0.739 total time=   0.6s\n",
      "[CV 1/3] END gamma=4, learning_rate=0.6, max_depth=9;, score=0.728 total time=   0.8s\n",
      "[CV 2/3] END gamma=4, learning_rate=0.6, max_depth=9;, score=0.733 total time=   0.9s\n",
      "[CV 3/3] END gamma=4, learning_rate=0.6, max_depth=9;, score=0.730 total time=   1.0s\n"
     ]
    },
    {
     "data": {
      "text/html": [
       "<style>#sk-container-id-80 {color: black;background-color: white;}#sk-container-id-80 pre{padding: 0;}#sk-container-id-80 div.sk-toggleable {background-color: white;}#sk-container-id-80 label.sk-toggleable__label {cursor: pointer;display: block;width: 100%;margin-bottom: 0;padding: 0.3em;box-sizing: border-box;text-align: center;}#sk-container-id-80 label.sk-toggleable__label-arrow:before {content: \"▸\";float: left;margin-right: 0.25em;color: #696969;}#sk-container-id-80 label.sk-toggleable__label-arrow:hover:before {color: black;}#sk-container-id-80 div.sk-estimator:hover label.sk-toggleable__label-arrow:before {color: black;}#sk-container-id-80 div.sk-toggleable__content {max-height: 0;max-width: 0;overflow: hidden;text-align: left;background-color: #f0f8ff;}#sk-container-id-80 div.sk-toggleable__content pre {margin: 0.2em;color: black;border-radius: 0.25em;background-color: #f0f8ff;}#sk-container-id-80 input.sk-toggleable__control:checked~div.sk-toggleable__content {max-height: 200px;max-width: 100%;overflow: auto;}#sk-container-id-80 input.sk-toggleable__control:checked~label.sk-toggleable__label-arrow:before {content: \"▾\";}#sk-container-id-80 div.sk-estimator input.sk-toggleable__control:checked~label.sk-toggleable__label {background-color: #d4ebff;}#sk-container-id-80 div.sk-label input.sk-toggleable__control:checked~label.sk-toggleable__label {background-color: #d4ebff;}#sk-container-id-80 input.sk-hidden--visually {border: 0;clip: rect(1px 1px 1px 1px);clip: rect(1px, 1px, 1px, 1px);height: 1px;margin: -1px;overflow: hidden;padding: 0;position: absolute;width: 1px;}#sk-container-id-80 div.sk-estimator {font-family: monospace;background-color: #f0f8ff;border: 1px dotted black;border-radius: 0.25em;box-sizing: border-box;margin-bottom: 0.5em;}#sk-container-id-80 div.sk-estimator:hover {background-color: #d4ebff;}#sk-container-id-80 div.sk-parallel-item::after {content: \"\";width: 100%;border-bottom: 1px solid gray;flex-grow: 1;}#sk-container-id-80 div.sk-label:hover label.sk-toggleable__label {background-color: #d4ebff;}#sk-container-id-80 div.sk-serial::before {content: \"\";position: absolute;border-left: 1px solid gray;box-sizing: border-box;top: 0;bottom: 0;left: 50%;z-index: 0;}#sk-container-id-80 div.sk-serial {display: flex;flex-direction: column;align-items: center;background-color: white;padding-right: 0.2em;padding-left: 0.2em;position: relative;}#sk-container-id-80 div.sk-item {position: relative;z-index: 1;}#sk-container-id-80 div.sk-parallel {display: flex;align-items: stretch;justify-content: center;background-color: white;position: relative;}#sk-container-id-80 div.sk-item::before, #sk-container-id-80 div.sk-parallel-item::before {content: \"\";position: absolute;border-left: 1px solid gray;box-sizing: border-box;top: 0;bottom: 0;left: 50%;z-index: -1;}#sk-container-id-80 div.sk-parallel-item {display: flex;flex-direction: column;z-index: 1;position: relative;background-color: white;}#sk-container-id-80 div.sk-parallel-item:first-child::after {align-self: flex-end;width: 50%;}#sk-container-id-80 div.sk-parallel-item:last-child::after {align-self: flex-start;width: 50%;}#sk-container-id-80 div.sk-parallel-item:only-child::after {width: 0;}#sk-container-id-80 div.sk-dashed-wrapped {border: 1px dashed gray;margin: 0 0.4em 0.5em 0.4em;box-sizing: border-box;padding-bottom: 0.4em;background-color: white;}#sk-container-id-80 div.sk-label label {font-family: monospace;font-weight: bold;display: inline-block;line-height: 1.2em;}#sk-container-id-80 div.sk-label-container {text-align: center;}#sk-container-id-80 div.sk-container {/* jupyter's `normalize.less` sets `[hidden] { display: none; }` but bootstrap.min.css set `[hidden] { display: none !important; }` so we also need the `!important` here to be able to override the default hidden behavior on the sphinx rendered scikit-learn.org. See: https://github.com/scikit-learn/scikit-learn/issues/21755 */display: inline-block !important;position: relative;}#sk-container-id-80 div.sk-text-repr-fallback {display: none;}</style><div id=\"sk-container-id-80\" class=\"sk-top-container\"><div class=\"sk-text-repr-fallback\"><pre>GridSearchCV(cv=3,\n",
       "             estimator=XGBClassifier(base_score=None, booster=None,\n",
       "                                     callbacks=None, colsample_bylevel=None,\n",
       "                                     colsample_bynode=None,\n",
       "                                     colsample_bytree=None,\n",
       "                                     early_stopping_rounds=None,\n",
       "                                     enable_categorical=False, eval_metric=None,\n",
       "                                     feature_types=None, gamma=None,\n",
       "                                     gpu_id=None, grow_policy=None,\n",
       "                                     importance_type=None,\n",
       "                                     interaction_constraints=None,\n",
       "                                     learning_rate=None,...\n",
       "                                     max_cat_threshold=None,\n",
       "                                     max_cat_to_onehot=None,\n",
       "                                     max_delta_step=None, max_depth=None,\n",
       "                                     max_leaves=None, min_child_weight=None,\n",
       "                                     missing=nan, monotone_constraints=None,\n",
       "                                     n_estimators=100, n_jobs=None,\n",
       "                                     num_parallel_tree=None, predictor=None,\n",
       "                                     random_state=None, ...),\n",
       "             param_grid={&#x27;gamma&#x27;: [0, 1, 2, 3, 4],\n",
       "                         &#x27;learning_rate&#x27;: [0.1, 0.2, 0.3, 0.4, 0.5, 0.6],\n",
       "                         &#x27;max_depth&#x27;: range(3, 10)},\n",
       "             scoring=&#x27;f1&#x27;, verbose=3)</pre><b>In a Jupyter environment, please rerun this cell to show the HTML representation or trust the notebook. <br />On GitHub, the HTML representation is unable to render, please try loading this page with nbviewer.org.</b></div><div class=\"sk-container\" hidden><div class=\"sk-item sk-dashed-wrapped\"><div class=\"sk-label-container\"><div class=\"sk-label sk-toggleable\"><input class=\"sk-toggleable__control sk-hidden--visually\" id=\"sk-estimator-id-94\" type=\"checkbox\" ><label for=\"sk-estimator-id-94\" class=\"sk-toggleable__label sk-toggleable__label-arrow\">GridSearchCV</label><div class=\"sk-toggleable__content\"><pre>GridSearchCV(cv=3,\n",
       "             estimator=XGBClassifier(base_score=None, booster=None,\n",
       "                                     callbacks=None, colsample_bylevel=None,\n",
       "                                     colsample_bynode=None,\n",
       "                                     colsample_bytree=None,\n",
       "                                     early_stopping_rounds=None,\n",
       "                                     enable_categorical=False, eval_metric=None,\n",
       "                                     feature_types=None, gamma=None,\n",
       "                                     gpu_id=None, grow_policy=None,\n",
       "                                     importance_type=None,\n",
       "                                     interaction_constraints=None,\n",
       "                                     learning_rate=None,...\n",
       "                                     max_cat_threshold=None,\n",
       "                                     max_cat_to_onehot=None,\n",
       "                                     max_delta_step=None, max_depth=None,\n",
       "                                     max_leaves=None, min_child_weight=None,\n",
       "                                     missing=nan, monotone_constraints=None,\n",
       "                                     n_estimators=100, n_jobs=None,\n",
       "                                     num_parallel_tree=None, predictor=None,\n",
       "                                     random_state=None, ...),\n",
       "             param_grid={&#x27;gamma&#x27;: [0, 1, 2, 3, 4],\n",
       "                         &#x27;learning_rate&#x27;: [0.1, 0.2, 0.3, 0.4, 0.5, 0.6],\n",
       "                         &#x27;max_depth&#x27;: range(3, 10)},\n",
       "             scoring=&#x27;f1&#x27;, verbose=3)</pre></div></div></div><div class=\"sk-parallel\"><div class=\"sk-parallel-item\"><div class=\"sk-item\"><div class=\"sk-label-container\"><div class=\"sk-label sk-toggleable\"><input class=\"sk-toggleable__control sk-hidden--visually\" id=\"sk-estimator-id-95\" type=\"checkbox\" ><label for=\"sk-estimator-id-95\" class=\"sk-toggleable__label sk-toggleable__label-arrow\">estimator: XGBClassifier</label><div class=\"sk-toggleable__content\"><pre>XGBClassifier(base_score=None, booster=None, callbacks=None,\n",
       "              colsample_bylevel=None, colsample_bynode=None,\n",
       "              colsample_bytree=None, early_stopping_rounds=None,\n",
       "              enable_categorical=False, eval_metric=None, feature_types=None,\n",
       "              gamma=None, gpu_id=None, grow_policy=None, importance_type=None,\n",
       "              interaction_constraints=None, learning_rate=None, max_bin=None,\n",
       "              max_cat_threshold=None, max_cat_to_onehot=None,\n",
       "              max_delta_step=None, max_depth=None, max_leaves=None,\n",
       "              min_child_weight=None, missing=nan, monotone_constraints=None,\n",
       "              n_estimators=100, n_jobs=None, num_parallel_tree=None,\n",
       "              predictor=None, random_state=None, ...)</pre></div></div></div><div class=\"sk-serial\"><div class=\"sk-item\"><div class=\"sk-estimator sk-toggleable\"><input class=\"sk-toggleable__control sk-hidden--visually\" id=\"sk-estimator-id-96\" type=\"checkbox\" ><label for=\"sk-estimator-id-96\" class=\"sk-toggleable__label sk-toggleable__label-arrow\">XGBClassifier</label><div class=\"sk-toggleable__content\"><pre>XGBClassifier(base_score=None, booster=None, callbacks=None,\n",
       "              colsample_bylevel=None, colsample_bynode=None,\n",
       "              colsample_bytree=None, early_stopping_rounds=None,\n",
       "              enable_categorical=False, eval_metric=None, feature_types=None,\n",
       "              gamma=None, gpu_id=None, grow_policy=None, importance_type=None,\n",
       "              interaction_constraints=None, learning_rate=None, max_bin=None,\n",
       "              max_cat_threshold=None, max_cat_to_onehot=None,\n",
       "              max_delta_step=None, max_depth=None, max_leaves=None,\n",
       "              min_child_weight=None, missing=nan, monotone_constraints=None,\n",
       "              n_estimators=100, n_jobs=None, num_parallel_tree=None,\n",
       "              predictor=None, random_state=None, ...)</pre></div></div></div></div></div></div></div></div></div></div>"
      ],
      "text/plain": [
       "GridSearchCV(cv=3,\n",
       "             estimator=XGBClassifier(base_score=None, booster=None,\n",
       "                                     callbacks=None, colsample_bylevel=None,\n",
       "                                     colsample_bynode=None,\n",
       "                                     colsample_bytree=None,\n",
       "                                     early_stopping_rounds=None,\n",
       "                                     enable_categorical=False, eval_metric=None,\n",
       "                                     feature_types=None, gamma=None,\n",
       "                                     gpu_id=None, grow_policy=None,\n",
       "                                     importance_type=None,\n",
       "                                     interaction_constraints=None,\n",
       "                                     learning_rate=None,...\n",
       "                                     max_cat_threshold=None,\n",
       "                                     max_cat_to_onehot=None,\n",
       "                                     max_delta_step=None, max_depth=None,\n",
       "                                     max_leaves=None, min_child_weight=None,\n",
       "                                     missing=nan, monotone_constraints=None,\n",
       "                                     n_estimators=100, n_jobs=None,\n",
       "                                     num_parallel_tree=None, predictor=None,\n",
       "                                     random_state=None, ...),\n",
       "             param_grid={'gamma': [0, 1, 2, 3, 4],\n",
       "                         'learning_rate': [0.1, 0.2, 0.3, 0.4, 0.5, 0.6],\n",
       "                         'max_depth': range(3, 10)},\n",
       "             scoring='f1', verbose=3)"
      ]
     },
     "execution_count": 584,
     "metadata": {},
     "output_type": "execute_result"
    }
   ],
   "source": [
    "gscv.fit(xtrain,ytrain)"
   ]
  },
  {
   "cell_type": "code",
   "execution_count": 585,
   "id": "dc3e2323",
   "metadata": {},
   "outputs": [],
   "source": [
    "model_xgb = XGBClassifier(**gscv.best_params_)"
   ]
  },
  {
   "cell_type": "code",
   "execution_count": 586,
   "id": "d27c0bd6",
   "metadata": {},
   "outputs": [
    {
     "data": {
      "text/html": [
       "<style>#sk-container-id-81 {color: black;background-color: white;}#sk-container-id-81 pre{padding: 0;}#sk-container-id-81 div.sk-toggleable {background-color: white;}#sk-container-id-81 label.sk-toggleable__label {cursor: pointer;display: block;width: 100%;margin-bottom: 0;padding: 0.3em;box-sizing: border-box;text-align: center;}#sk-container-id-81 label.sk-toggleable__label-arrow:before {content: \"▸\";float: left;margin-right: 0.25em;color: #696969;}#sk-container-id-81 label.sk-toggleable__label-arrow:hover:before {color: black;}#sk-container-id-81 div.sk-estimator:hover label.sk-toggleable__label-arrow:before {color: black;}#sk-container-id-81 div.sk-toggleable__content {max-height: 0;max-width: 0;overflow: hidden;text-align: left;background-color: #f0f8ff;}#sk-container-id-81 div.sk-toggleable__content pre {margin: 0.2em;color: black;border-radius: 0.25em;background-color: #f0f8ff;}#sk-container-id-81 input.sk-toggleable__control:checked~div.sk-toggleable__content {max-height: 200px;max-width: 100%;overflow: auto;}#sk-container-id-81 input.sk-toggleable__control:checked~label.sk-toggleable__label-arrow:before {content: \"▾\";}#sk-container-id-81 div.sk-estimator input.sk-toggleable__control:checked~label.sk-toggleable__label {background-color: #d4ebff;}#sk-container-id-81 div.sk-label input.sk-toggleable__control:checked~label.sk-toggleable__label {background-color: #d4ebff;}#sk-container-id-81 input.sk-hidden--visually {border: 0;clip: rect(1px 1px 1px 1px);clip: rect(1px, 1px, 1px, 1px);height: 1px;margin: -1px;overflow: hidden;padding: 0;position: absolute;width: 1px;}#sk-container-id-81 div.sk-estimator {font-family: monospace;background-color: #f0f8ff;border: 1px dotted black;border-radius: 0.25em;box-sizing: border-box;margin-bottom: 0.5em;}#sk-container-id-81 div.sk-estimator:hover {background-color: #d4ebff;}#sk-container-id-81 div.sk-parallel-item::after {content: \"\";width: 100%;border-bottom: 1px solid gray;flex-grow: 1;}#sk-container-id-81 div.sk-label:hover label.sk-toggleable__label {background-color: #d4ebff;}#sk-container-id-81 div.sk-serial::before {content: \"\";position: absolute;border-left: 1px solid gray;box-sizing: border-box;top: 0;bottom: 0;left: 50%;z-index: 0;}#sk-container-id-81 div.sk-serial {display: flex;flex-direction: column;align-items: center;background-color: white;padding-right: 0.2em;padding-left: 0.2em;position: relative;}#sk-container-id-81 div.sk-item {position: relative;z-index: 1;}#sk-container-id-81 div.sk-parallel {display: flex;align-items: stretch;justify-content: center;background-color: white;position: relative;}#sk-container-id-81 div.sk-item::before, #sk-container-id-81 div.sk-parallel-item::before {content: \"\";position: absolute;border-left: 1px solid gray;box-sizing: border-box;top: 0;bottom: 0;left: 50%;z-index: -1;}#sk-container-id-81 div.sk-parallel-item {display: flex;flex-direction: column;z-index: 1;position: relative;background-color: white;}#sk-container-id-81 div.sk-parallel-item:first-child::after {align-self: flex-end;width: 50%;}#sk-container-id-81 div.sk-parallel-item:last-child::after {align-self: flex-start;width: 50%;}#sk-container-id-81 div.sk-parallel-item:only-child::after {width: 0;}#sk-container-id-81 div.sk-dashed-wrapped {border: 1px dashed gray;margin: 0 0.4em 0.5em 0.4em;box-sizing: border-box;padding-bottom: 0.4em;background-color: white;}#sk-container-id-81 div.sk-label label {font-family: monospace;font-weight: bold;display: inline-block;line-height: 1.2em;}#sk-container-id-81 div.sk-label-container {text-align: center;}#sk-container-id-81 div.sk-container {/* jupyter's `normalize.less` sets `[hidden] { display: none; }` but bootstrap.min.css set `[hidden] { display: none !important; }` so we also need the `!important` here to be able to override the default hidden behavior on the sphinx rendered scikit-learn.org. See: https://github.com/scikit-learn/scikit-learn/issues/21755 */display: inline-block !important;position: relative;}#sk-container-id-81 div.sk-text-repr-fallback {display: none;}</style><div id=\"sk-container-id-81\" class=\"sk-top-container\"><div class=\"sk-text-repr-fallback\"><pre>XGBClassifier(base_score=0.5, booster=&#x27;gbtree&#x27;, callbacks=None,\n",
       "              colsample_bylevel=1, colsample_bynode=1, colsample_bytree=1,\n",
       "              early_stopping_rounds=None, enable_categorical=False,\n",
       "              eval_metric=None, feature_types=None, gamma=3, gpu_id=-1,\n",
       "              grow_policy=&#x27;depthwise&#x27;, importance_type=None,\n",
       "              interaction_constraints=&#x27;&#x27;, learning_rate=0.1, max_bin=256,\n",
       "              max_cat_threshold=64, max_cat_to_onehot=4, max_delta_step=0,\n",
       "              max_depth=5, max_leaves=0, min_child_weight=1, missing=nan,\n",
       "              monotone_constraints=&#x27;()&#x27;, n_estimators=100, n_jobs=0,\n",
       "              num_parallel_tree=1, predictor=&#x27;auto&#x27;, random_state=0, ...)</pre><b>In a Jupyter environment, please rerun this cell to show the HTML representation or trust the notebook. <br />On GitHub, the HTML representation is unable to render, please try loading this page with nbviewer.org.</b></div><div class=\"sk-container\" hidden><div class=\"sk-item\"><div class=\"sk-estimator sk-toggleable\"><input class=\"sk-toggleable__control sk-hidden--visually\" id=\"sk-estimator-id-97\" type=\"checkbox\" checked><label for=\"sk-estimator-id-97\" class=\"sk-toggleable__label sk-toggleable__label-arrow\">XGBClassifier</label><div class=\"sk-toggleable__content\"><pre>XGBClassifier(base_score=0.5, booster=&#x27;gbtree&#x27;, callbacks=None,\n",
       "              colsample_bylevel=1, colsample_bynode=1, colsample_bytree=1,\n",
       "              early_stopping_rounds=None, enable_categorical=False,\n",
       "              eval_metric=None, feature_types=None, gamma=3, gpu_id=-1,\n",
       "              grow_policy=&#x27;depthwise&#x27;, importance_type=None,\n",
       "              interaction_constraints=&#x27;&#x27;, learning_rate=0.1, max_bin=256,\n",
       "              max_cat_threshold=64, max_cat_to_onehot=4, max_delta_step=0,\n",
       "              max_depth=5, max_leaves=0, min_child_weight=1, missing=nan,\n",
       "              monotone_constraints=&#x27;()&#x27;, n_estimators=100, n_jobs=0,\n",
       "              num_parallel_tree=1, predictor=&#x27;auto&#x27;, random_state=0, ...)</pre></div></div></div></div></div>"
      ],
      "text/plain": [
       "XGBClassifier(base_score=0.5, booster='gbtree', callbacks=None,\n",
       "              colsample_bylevel=1, colsample_bynode=1, colsample_bytree=1,\n",
       "              early_stopping_rounds=None, enable_categorical=False,\n",
       "              eval_metric=None, feature_types=None, gamma=3, gpu_id=-1,\n",
       "              grow_policy='depthwise', importance_type=None,\n",
       "              interaction_constraints='', learning_rate=0.1, max_bin=256,\n",
       "              max_cat_threshold=64, max_cat_to_onehot=4, max_delta_step=0,\n",
       "              max_depth=5, max_leaves=0, min_child_weight=1, missing=nan,\n",
       "              monotone_constraints='()', n_estimators=100, n_jobs=0,\n",
       "              num_parallel_tree=1, predictor='auto', random_state=0, ...)"
      ]
     },
     "execution_count": 586,
     "metadata": {},
     "output_type": "execute_result"
    }
   ],
   "source": [
    "model_xgb.fit(xtrain,ytrain)"
   ]
  },
  {
   "cell_type": "code",
   "execution_count": 588,
   "id": "2e534dd8",
   "metadata": {},
   "outputs": [],
   "source": [
    "y_pred_xgb = model_xgb.predict(xtest)"
   ]
  },
  {
   "cell_type": "code",
   "execution_count": 589,
   "id": "e2e11d76",
   "metadata": {},
   "outputs": [
    {
     "name": "stdout",
     "output_type": "stream",
     "text": [
      "Confusion Metrics:\n",
      " [[6644 2329]\n",
      " [1887 6352]]\n",
      "Accuracy:  0.7550546130606554\n",
      "Recall:  0.7709673504066027\n",
      "Precision:  0.7317129362976615\n",
      "F1 score:  0.7508274231678488\n",
      "Cohen kappa Score:  0.5102912224103084\n",
      "Classification Summary:\n",
      "               precision    recall  f1-score   support\n",
      "\n",
      "           0       0.78      0.74      0.76      8973\n",
      "           1       0.73      0.77      0.75      8239\n",
      "\n",
      "    accuracy                           0.76     17212\n",
      "   macro avg       0.76      0.76      0.75     17212\n",
      "weighted avg       0.76      0.76      0.76     17212\n",
      "\n"
     ]
    }
   ],
   "source": [
    "scores(ytest,y_pred_xgb)"
   ]
  },
  {
   "cell_type": "markdown",
   "id": "abd0f6b6",
   "metadata": {},
   "source": [
    "# Inference\n",
    "* (After applying Parameter tuning with help of Grid Search CV)\n",
    "* The outcome clearly shows accuracy,recall,f1-score and cohen-kappa score were the highest \n",
    "* Therefore, we can conclude that XGBOOST is giving the best results out of all models applied previously.\n",
    "\n",
    "**HENCE OUR FINAL MODEL IS XGBOOST**"
   ]
  },
  {
   "cell_type": "code",
   "execution_count": 787,
   "id": "d7d38f2d",
   "metadata": {},
   "outputs": [],
   "source": [
    "y_pred_xgb_prob = model_xgb.predict_proba(xtest)[:,1]"
   ]
  },
  {
   "cell_type": "code",
   "execution_count": 788,
   "id": "b51a5a62",
   "metadata": {},
   "outputs": [
    {
     "data": {
      "image/png": "[encoded data removed]",
      "text/plain": [
       "<Figure size 432x288 with 1 Axes>"
      ]
     },
     "metadata": {
      "needs_background": "light"
     },
     "output_type": "display_data"
    }
   ],
   "source": [
    "roc(ytest,y_pred_xgb_prob)"
   ]
  },
  {
   "cell_type": "code",
   "execution_count": null,
   "id": "9b0e166d",
   "metadata": {},
   "outputs": [],
   "source": []
  },
  {
   "cell_type": "code",
   "execution_count": null,
   "id": "4be08d21",
   "metadata": {},
   "outputs": [],
   "source": []
  },
  {
   "cell_type": "code",
   "execution_count": null,
   "id": "73394322",
   "metadata": {},
   "outputs": [],
   "source": []
  }
 ],
 "metadata": {
  "kernelspec": {
   "display_name": "Python 3 (ipykernel)",
   "language": "python",
   "name": "python3"
  },
  "language_info": {
   "codemirror_mode": {
    "name": "ipython",
    "version": 3
   },
   "file_extension": ".py",
   "mimetype": "text/x-python",
   "name": "python",
   "nbconvert_exporter": "python",
   "pygments_lexer": "ipython3",
   "version": "3.9.12"
  }
 },
 "nbformat": 4,
 "nbformat_minor": 5
}
